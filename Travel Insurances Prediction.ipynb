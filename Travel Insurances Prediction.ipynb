{
 "cells": [
  {
   "cell_type": "markdown",
   "metadata": {},
   "source": [
    "# Predicting Travel Insurance"
   ]
  },
  {
   "cell_type": "code",
   "execution_count": 1,
   "metadata": {},
   "outputs": [],
   "source": [
    "import pandas as pd\n",
    "import numpy as np\n",
    "import matplotlib.pyplot as plt\n",
    "import seaborn as sns\n",
    "from sklearn.model_selection import train_test_split\n",
    "from sklearn.linear_model import LogisticRegression\n",
    "from sklearn.svm import SVC\n",
    "import tensorflow as tf\n",
    "from tensorflow import keras\n",
    "from sklearn import metrics"
   ]
  },
  {
   "cell_type": "markdown",
   "metadata": {},
   "source": [
    "# Travel Insurance Dataset"
   ]
  },
  {
   "cell_type": "code",
   "execution_count": 2,
   "metadata": {},
   "outputs": [
    {
     "data": {
      "text/html": [
       "<div>\n",
       "<style scoped>\n",
       "    .dataframe tbody tr th:only-of-type {\n",
       "        vertical-align: middle;\n",
       "    }\n",
       "\n",
       "    .dataframe tbody tr th {\n",
       "        vertical-align: top;\n",
       "    }\n",
       "\n",
       "    .dataframe thead th {\n",
       "        text-align: right;\n",
       "    }\n",
       "</style>\n",
       "<table border=\"1\" class=\"dataframe\">\n",
       "  <thead>\n",
       "    <tr style=\"text-align: right;\">\n",
       "      <th></th>\n",
       "      <th>Unnamed: 0</th>\n",
       "      <th>Age</th>\n",
       "      <th>Employment Type</th>\n",
       "      <th>GraduateOrNot</th>\n",
       "      <th>AnnualIncome</th>\n",
       "      <th>FamilyMembers</th>\n",
       "      <th>ChronicDiseases</th>\n",
       "      <th>FrequentFlyer</th>\n",
       "      <th>EverTravelledAbroad</th>\n",
       "      <th>TravelInsurance</th>\n",
       "    </tr>\n",
       "  </thead>\n",
       "  <tbody>\n",
       "    <tr>\n",
       "      <th>0</th>\n",
       "      <td>0</td>\n",
       "      <td>31</td>\n",
       "      <td>Government Sector</td>\n",
       "      <td>Yes</td>\n",
       "      <td>400000</td>\n",
       "      <td>6</td>\n",
       "      <td>1</td>\n",
       "      <td>No</td>\n",
       "      <td>No</td>\n",
       "      <td>0</td>\n",
       "    </tr>\n",
       "    <tr>\n",
       "      <th>1</th>\n",
       "      <td>1</td>\n",
       "      <td>31</td>\n",
       "      <td>Private Sector/Self Employed</td>\n",
       "      <td>Yes</td>\n",
       "      <td>1250000</td>\n",
       "      <td>7</td>\n",
       "      <td>0</td>\n",
       "      <td>No</td>\n",
       "      <td>No</td>\n",
       "      <td>0</td>\n",
       "    </tr>\n",
       "    <tr>\n",
       "      <th>2</th>\n",
       "      <td>2</td>\n",
       "      <td>34</td>\n",
       "      <td>Private Sector/Self Employed</td>\n",
       "      <td>Yes</td>\n",
       "      <td>500000</td>\n",
       "      <td>4</td>\n",
       "      <td>1</td>\n",
       "      <td>No</td>\n",
       "      <td>No</td>\n",
       "      <td>1</td>\n",
       "    </tr>\n",
       "    <tr>\n",
       "      <th>3</th>\n",
       "      <td>3</td>\n",
       "      <td>28</td>\n",
       "      <td>Private Sector/Self Employed</td>\n",
       "      <td>Yes</td>\n",
       "      <td>700000</td>\n",
       "      <td>3</td>\n",
       "      <td>1</td>\n",
       "      <td>No</td>\n",
       "      <td>No</td>\n",
       "      <td>0</td>\n",
       "    </tr>\n",
       "    <tr>\n",
       "      <th>4</th>\n",
       "      <td>4</td>\n",
       "      <td>28</td>\n",
       "      <td>Private Sector/Self Employed</td>\n",
       "      <td>Yes</td>\n",
       "      <td>700000</td>\n",
       "      <td>8</td>\n",
       "      <td>1</td>\n",
       "      <td>Yes</td>\n",
       "      <td>No</td>\n",
       "      <td>0</td>\n",
       "    </tr>\n",
       "  </tbody>\n",
       "</table>\n",
       "</div>"
      ],
      "text/plain": [
       "   Unnamed: 0  Age               Employment Type GraduateOrNot  AnnualIncome  \\\n",
       "0           0   31             Government Sector           Yes        400000   \n",
       "1           1   31  Private Sector/Self Employed           Yes       1250000   \n",
       "2           2   34  Private Sector/Self Employed           Yes        500000   \n",
       "3           3   28  Private Sector/Self Employed           Yes        700000   \n",
       "4           4   28  Private Sector/Self Employed           Yes        700000   \n",
       "\n",
       "   FamilyMembers  ChronicDiseases FrequentFlyer EverTravelledAbroad  \\\n",
       "0              6                1            No                  No   \n",
       "1              7                0            No                  No   \n",
       "2              4                1            No                  No   \n",
       "3              3                1            No                  No   \n",
       "4              8                1           Yes                  No   \n",
       "\n",
       "   TravelInsurance  \n",
       "0                0  \n",
       "1                0  \n",
       "2                1  \n",
       "3                0  \n",
       "4                0  "
      ]
     },
     "execution_count": 2,
     "metadata": {},
     "output_type": "execute_result"
    }
   ],
   "source": [
    "df = pd.read_csv('TravelInsurancePrediction.csv')\n",
    "df.head()"
   ]
  },
  {
   "cell_type": "markdown",
   "metadata": {},
   "source": [
    "Droping the column Unnamed in the dataset"
   ]
  },
  {
   "cell_type": "code",
   "execution_count": 3,
   "metadata": {},
   "outputs": [],
   "source": [
    "df = df.drop('Unnamed: 0', axis = 1)"
   ]
  },
  {
   "cell_type": "code",
   "execution_count": 4,
   "metadata": {},
   "outputs": [
    {
     "data": {
      "text/html": [
       "<div>\n",
       "<style scoped>\n",
       "    .dataframe tbody tr th:only-of-type {\n",
       "        vertical-align: middle;\n",
       "    }\n",
       "\n",
       "    .dataframe tbody tr th {\n",
       "        vertical-align: top;\n",
       "    }\n",
       "\n",
       "    .dataframe thead th {\n",
       "        text-align: right;\n",
       "    }\n",
       "</style>\n",
       "<table border=\"1\" class=\"dataframe\">\n",
       "  <thead>\n",
       "    <tr style=\"text-align: right;\">\n",
       "      <th></th>\n",
       "      <th>Age</th>\n",
       "      <th>Employment Type</th>\n",
       "      <th>GraduateOrNot</th>\n",
       "      <th>AnnualIncome</th>\n",
       "      <th>FamilyMembers</th>\n",
       "      <th>ChronicDiseases</th>\n",
       "      <th>FrequentFlyer</th>\n",
       "      <th>EverTravelledAbroad</th>\n",
       "      <th>TravelInsurance</th>\n",
       "    </tr>\n",
       "  </thead>\n",
       "  <tbody>\n",
       "    <tr>\n",
       "      <th>0</th>\n",
       "      <td>31</td>\n",
       "      <td>Government Sector</td>\n",
       "      <td>Yes</td>\n",
       "      <td>400000</td>\n",
       "      <td>6</td>\n",
       "      <td>1</td>\n",
       "      <td>No</td>\n",
       "      <td>No</td>\n",
       "      <td>0</td>\n",
       "    </tr>\n",
       "    <tr>\n",
       "      <th>1</th>\n",
       "      <td>31</td>\n",
       "      <td>Private Sector/Self Employed</td>\n",
       "      <td>Yes</td>\n",
       "      <td>1250000</td>\n",
       "      <td>7</td>\n",
       "      <td>0</td>\n",
       "      <td>No</td>\n",
       "      <td>No</td>\n",
       "      <td>0</td>\n",
       "    </tr>\n",
       "    <tr>\n",
       "      <th>2</th>\n",
       "      <td>34</td>\n",
       "      <td>Private Sector/Self Employed</td>\n",
       "      <td>Yes</td>\n",
       "      <td>500000</td>\n",
       "      <td>4</td>\n",
       "      <td>1</td>\n",
       "      <td>No</td>\n",
       "      <td>No</td>\n",
       "      <td>1</td>\n",
       "    </tr>\n",
       "    <tr>\n",
       "      <th>3</th>\n",
       "      <td>28</td>\n",
       "      <td>Private Sector/Self Employed</td>\n",
       "      <td>Yes</td>\n",
       "      <td>700000</td>\n",
       "      <td>3</td>\n",
       "      <td>1</td>\n",
       "      <td>No</td>\n",
       "      <td>No</td>\n",
       "      <td>0</td>\n",
       "    </tr>\n",
       "    <tr>\n",
       "      <th>4</th>\n",
       "      <td>28</td>\n",
       "      <td>Private Sector/Self Employed</td>\n",
       "      <td>Yes</td>\n",
       "      <td>700000</td>\n",
       "      <td>8</td>\n",
       "      <td>1</td>\n",
       "      <td>Yes</td>\n",
       "      <td>No</td>\n",
       "      <td>0</td>\n",
       "    </tr>\n",
       "  </tbody>\n",
       "</table>\n",
       "</div>"
      ],
      "text/plain": [
       "   Age               Employment Type GraduateOrNot  AnnualIncome  \\\n",
       "0   31             Government Sector           Yes        400000   \n",
       "1   31  Private Sector/Self Employed           Yes       1250000   \n",
       "2   34  Private Sector/Self Employed           Yes        500000   \n",
       "3   28  Private Sector/Self Employed           Yes        700000   \n",
       "4   28  Private Sector/Self Employed           Yes        700000   \n",
       "\n",
       "   FamilyMembers  ChronicDiseases FrequentFlyer EverTravelledAbroad  \\\n",
       "0              6                1            No                  No   \n",
       "1              7                0            No                  No   \n",
       "2              4                1            No                  No   \n",
       "3              3                1            No                  No   \n",
       "4              8                1           Yes                  No   \n",
       "\n",
       "   TravelInsurance  \n",
       "0                0  \n",
       "1                0  \n",
       "2                1  \n",
       "3                0  \n",
       "4                0  "
      ]
     },
     "execution_count": 4,
     "metadata": {},
     "output_type": "execute_result"
    }
   ],
   "source": [
    "df.head()"
   ]
  },
  {
   "cell_type": "markdown",
   "metadata": {},
   "source": [
    "# Checking data set Imbalance"
   ]
  },
  {
   "cell_type": "code",
   "execution_count": 5,
   "metadata": {},
   "outputs": [
    {
     "data": {
      "image/png": "[encoded data removed]",
      "text/plain": [
       "<Figure size 432x288 with 1 Axes>"
      ]
     },
     "metadata": {},
     "output_type": "display_data"
    }
   ],
   "source": [
    "plt.pie(x = df['TravelInsurance'].value_counts(), labels = ['0', '1'], autopct = '%0.2f%%',radius = 2)\n",
    "plt.show()"
   ]
  },
  {
   "cell_type": "markdown",
   "metadata": {},
   "source": [
    "We can see that the dataset is imbalaced, where class 1 has 35.7% and class 2 has 64.27%..\n",
    "\n",
    "Later in the model i will be using imblearn tool to make balanced dataset, so that our model will not get biased \n",
    "\n"
   ]
  },
  {
   "cell_type": "markdown",
   "metadata": {},
   "source": [
    "# Count class 1 and class 2"
   ]
  },
  {
   "cell_type": "code",
   "execution_count": 6,
   "metadata": {},
   "outputs": [
    {
     "data": {
      "text/plain": [
       "0    1277\n",
       "1     710\n",
       "Name: TravelInsurance, dtype: int64"
      ]
     },
     "execution_count": 6,
     "metadata": {},
     "output_type": "execute_result"
    }
   ],
   "source": [
    "df['TravelInsurance'].value_counts()"
   ]
  },
  {
   "cell_type": "markdown",
   "metadata": {},
   "source": [
    "We can see that our dataset imbalanced were class 0 has 1277 and class 1 has 710"
   ]
  },
  {
   "cell_type": "markdown",
   "metadata": {},
   "source": [
    "# Get info of the Dataset"
   ]
  },
  {
   "cell_type": "code",
   "execution_count": 7,
   "metadata": {},
   "outputs": [
    {
     "name": "stdout",
     "output_type": "stream",
     "text": [
      "<class 'pandas.core.frame.DataFrame'>\n",
      "RangeIndex: 1987 entries, 0 to 1986\n",
      "Data columns (total 9 columns):\n",
      " #   Column               Non-Null Count  Dtype \n",
      "---  ------               --------------  ----- \n",
      " 0   Age                  1987 non-null   int64 \n",
      " 1   Employment Type      1987 non-null   object\n",
      " 2   GraduateOrNot        1987 non-null   object\n",
      " 3   AnnualIncome         1987 non-null   int64 \n",
      " 4   FamilyMembers        1987 non-null   int64 \n",
      " 5   ChronicDiseases      1987 non-null   int64 \n",
      " 6   FrequentFlyer        1987 non-null   object\n",
      " 7   EverTravelledAbroad  1987 non-null   object\n",
      " 8   TravelInsurance      1987 non-null   int64 \n",
      "dtypes: int64(5), object(4)\n",
      "memory usage: 139.8+ KB\n"
     ]
    }
   ],
   "source": [
    "df.info()"
   ]
  },
  {
   "cell_type": "markdown",
   "metadata": {},
   "source": [
    "# Check for missing values"
   ]
  },
  {
   "cell_type": "code",
   "execution_count": 8,
   "metadata": {},
   "outputs": [
    {
     "data": {
      "text/plain": [
       "[]"
      ]
     },
     "execution_count": 8,
     "metadata": {},
     "output_type": "execute_result"
    }
   ],
   "source": [
    "df_na = [null for null in df.columns if df[null].isnull().sum()>1]\n",
    "df_na"
   ]
  },
  {
   "cell_type": "markdown",
   "metadata": {},
   "source": [
    "No missing values in the dataset"
   ]
  },
  {
   "cell_type": "code",
   "execution_count": 9,
   "metadata": {},
   "outputs": [
    {
     "data": {
      "text/plain": [
       "Age    Employment Type  GraduateOrNot  AnnualIncome  FamilyMembers  ChronicDiseases  FrequentFlyer  EverTravelledAbroad  TravelInsurance\n",
       "False  False            False          False         False          False            False          False                False              1987\n",
       "dtype: int64"
      ]
     },
     "execution_count": 9,
     "metadata": {},
     "output_type": "execute_result"
    }
   ],
   "source": [
    "df.isnull().value_counts()"
   ]
  },
  {
   "cell_type": "markdown",
   "metadata": {},
   "source": [
    "We can see that all our features doesn't have any missing"
   ]
  },
  {
   "cell_type": "markdown",
   "metadata": {},
   "source": [
    "# Numerical Features"
   ]
  },
  {
   "cell_type": "code",
   "execution_count": 10,
   "metadata": {},
   "outputs": [
    {
     "name": "stdout",
     "output_type": "stream",
     "text": [
      "The Numerical Features are \n",
      " ['Age', 'AnnualIncome', 'FamilyMembers', 'ChronicDiseases', 'TravelInsurance']\n"
     ]
    }
   ],
   "source": [
    "df_num = [num for num in df.columns if df[num].dtype != 'O']\n",
    "print('The Numerical Features are \\n',df_num)"
   ]
  },
  {
   "cell_type": "code",
   "execution_count": 11,
   "metadata": {},
   "outputs": [
    {
     "data": {
      "text/html": [
       "<div>\n",
       "<style scoped>\n",
       "    .dataframe tbody tr th:only-of-type {\n",
       "        vertical-align: middle;\n",
       "    }\n",
       "\n",
       "    .dataframe tbody tr th {\n",
       "        vertical-align: top;\n",
       "    }\n",
       "\n",
       "    .dataframe thead th {\n",
       "        text-align: right;\n",
       "    }\n",
       "</style>\n",
       "<table border=\"1\" class=\"dataframe\">\n",
       "  <thead>\n",
       "    <tr style=\"text-align: right;\">\n",
       "      <th></th>\n",
       "      <th>Age</th>\n",
       "      <th>AnnualIncome</th>\n",
       "      <th>FamilyMembers</th>\n",
       "      <th>ChronicDiseases</th>\n",
       "      <th>TravelInsurance</th>\n",
       "    </tr>\n",
       "  </thead>\n",
       "  <tbody>\n",
       "    <tr>\n",
       "      <th>0</th>\n",
       "      <td>31</td>\n",
       "      <td>400000</td>\n",
       "      <td>6</td>\n",
       "      <td>1</td>\n",
       "      <td>0</td>\n",
       "    </tr>\n",
       "    <tr>\n",
       "      <th>1</th>\n",
       "      <td>31</td>\n",
       "      <td>1250000</td>\n",
       "      <td>7</td>\n",
       "      <td>0</td>\n",
       "      <td>0</td>\n",
       "    </tr>\n",
       "    <tr>\n",
       "      <th>2</th>\n",
       "      <td>34</td>\n",
       "      <td>500000</td>\n",
       "      <td>4</td>\n",
       "      <td>1</td>\n",
       "      <td>1</td>\n",
       "    </tr>\n",
       "    <tr>\n",
       "      <th>3</th>\n",
       "      <td>28</td>\n",
       "      <td>700000</td>\n",
       "      <td>3</td>\n",
       "      <td>1</td>\n",
       "      <td>0</td>\n",
       "    </tr>\n",
       "    <tr>\n",
       "      <th>4</th>\n",
       "      <td>28</td>\n",
       "      <td>700000</td>\n",
       "      <td>8</td>\n",
       "      <td>1</td>\n",
       "      <td>0</td>\n",
       "    </tr>\n",
       "  </tbody>\n",
       "</table>\n",
       "</div>"
      ],
      "text/plain": [
       "   Age  AnnualIncome  FamilyMembers  ChronicDiseases  TravelInsurance\n",
       "0   31        400000              6                1                0\n",
       "1   31       1250000              7                0                0\n",
       "2   34        500000              4                1                1\n",
       "3   28        700000              3                1                0\n",
       "4   28        700000              8                1                0"
      ]
     },
     "execution_count": 11,
     "metadata": {},
     "output_type": "execute_result"
    }
   ],
   "source": [
    "df[df_num].head()"
   ]
  },
  {
   "cell_type": "markdown",
   "metadata": {},
   "source": [
    "# Discrete Features"
   ]
  },
  {
   "cell_type": "code",
   "execution_count": 12,
   "metadata": {},
   "outputs": [
    {
     "name": "stdout",
     "output_type": "stream",
     "text": [
      "The Discrete Features \n",
      " ['FamilyMembers', 'ChronicDiseases']\n"
     ]
    }
   ],
   "source": [
    "df_dis = [dis for dis in df_num if len(df[dis].unique())<10 and dis not in 'TravelInsurance']\n",
    "print('The Discrete Features \\n',df_dis)"
   ]
  },
  {
   "cell_type": "markdown",
   "metadata": {},
   "source": [
    "I had given that less then 10 unique values is considered as discrete features, the reason is that family members are only few unique , so i included family members as discrete by giving the threshold value 10"
   ]
  },
  {
   "cell_type": "markdown",
   "metadata": {},
   "source": [
    "# Categorical features "
   ]
  },
  {
   "cell_type": "code",
   "execution_count": 13,
   "metadata": {},
   "outputs": [
    {
     "name": "stdout",
     "output_type": "stream",
     "text": [
      "The Categorical Features \n",
      " ['Employment Type', 'GraduateOrNot', 'FrequentFlyer', 'EverTravelledAbroad']\n"
     ]
    }
   ],
   "source": [
    "df_cat = [cat for cat in df.columns if df[cat].dtype == 'O']\n",
    "print('The Categorical Features \\n', df_cat)"
   ]
  },
  {
   "cell_type": "code",
   "execution_count": 14,
   "metadata": {},
   "outputs": [
    {
     "data": {
      "text/html": [
       "<div>\n",
       "<style scoped>\n",
       "    .dataframe tbody tr th:only-of-type {\n",
       "        vertical-align: middle;\n",
       "    }\n",
       "\n",
       "    .dataframe tbody tr th {\n",
       "        vertical-align: top;\n",
       "    }\n",
       "\n",
       "    .dataframe thead th {\n",
       "        text-align: right;\n",
       "    }\n",
       "</style>\n",
       "<table border=\"1\" class=\"dataframe\">\n",
       "  <thead>\n",
       "    <tr style=\"text-align: right;\">\n",
       "      <th></th>\n",
       "      <th>Employment Type</th>\n",
       "      <th>GraduateOrNot</th>\n",
       "      <th>FrequentFlyer</th>\n",
       "      <th>EverTravelledAbroad</th>\n",
       "    </tr>\n",
       "  </thead>\n",
       "  <tbody>\n",
       "    <tr>\n",
       "      <th>0</th>\n",
       "      <td>Government Sector</td>\n",
       "      <td>Yes</td>\n",
       "      <td>No</td>\n",
       "      <td>No</td>\n",
       "    </tr>\n",
       "    <tr>\n",
       "      <th>1</th>\n",
       "      <td>Private Sector/Self Employed</td>\n",
       "      <td>Yes</td>\n",
       "      <td>No</td>\n",
       "      <td>No</td>\n",
       "    </tr>\n",
       "    <tr>\n",
       "      <th>2</th>\n",
       "      <td>Private Sector/Self Employed</td>\n",
       "      <td>Yes</td>\n",
       "      <td>No</td>\n",
       "      <td>No</td>\n",
       "    </tr>\n",
       "    <tr>\n",
       "      <th>3</th>\n",
       "      <td>Private Sector/Self Employed</td>\n",
       "      <td>Yes</td>\n",
       "      <td>No</td>\n",
       "      <td>No</td>\n",
       "    </tr>\n",
       "    <tr>\n",
       "      <th>4</th>\n",
       "      <td>Private Sector/Self Employed</td>\n",
       "      <td>Yes</td>\n",
       "      <td>Yes</td>\n",
       "      <td>No</td>\n",
       "    </tr>\n",
       "  </tbody>\n",
       "</table>\n",
       "</div>"
      ],
      "text/plain": [
       "                Employment Type GraduateOrNot FrequentFlyer  \\\n",
       "0             Government Sector           Yes            No   \n",
       "1  Private Sector/Self Employed           Yes            No   \n",
       "2  Private Sector/Self Employed           Yes            No   \n",
       "3  Private Sector/Self Employed           Yes            No   \n",
       "4  Private Sector/Self Employed           Yes           Yes   \n",
       "\n",
       "  EverTravelledAbroad  \n",
       "0                  No  \n",
       "1                  No  \n",
       "2                  No  \n",
       "3                  No  \n",
       "4                  No  "
      ]
     },
     "execution_count": 14,
     "metadata": {},
     "output_type": "execute_result"
    }
   ],
   "source": [
    "df[df_cat].head()"
   ]
  },
  {
   "cell_type": "markdown",
   "metadata": {},
   "source": [
    "# Continuous Features"
   ]
  },
  {
   "cell_type": "code",
   "execution_count": 15,
   "metadata": {},
   "outputs": [
    {
     "name": "stdout",
     "output_type": "stream",
     "text": [
      "The Categorical Features \n",
      " ['Age', 'AnnualIncome']\n"
     ]
    }
   ],
   "source": [
    "df_con = [con for con in df_num if con not in df_cat + df_dis + ['TravelInsurance']]\n",
    "print('The Categorical Features \\n',df_con)"
   ]
  },
  {
   "cell_type": "markdown",
   "metadata": {},
   "source": [
    "# Visualizing the Continuous Features"
   ]
  },
  {
   "cell_type": "code",
   "execution_count": 16,
   "metadata": {},
   "outputs": [
    {
     "data": {
      "image/png": "[encoded data removed]",
      "text/plain": [
       "<Figure size 864x864 with 2 Axes>"
      ]
     },
     "metadata": {
      "needs_background": "light"
     },
     "output_type": "display_data"
    }
   ],
   "source": [
    "plt.figure(figsize=(12,12))\n",
    "plt.subplot(2,2,1)\n",
    "sns.histplot(df['Age'], kde= True)\n",
    "plt.xlabel('Age', fontsize = 12)\n",
    "plt.ylabel('Count', fontsize = 12)\n",
    "plt.title('Histogram of Age', fontsize = 12)\n",
    "\n",
    "plt.subplot(2,2,2)\n",
    "sns.histplot(df['AnnualIncome'], kde=True)\n",
    "plt.xlabel('Annual Income', fontsize = 12)\n",
    "plt.ylabel('Count', fontsize = 12)\n",
    "plt.title('Histogram of Annual Income', fontsize = 12)\n",
    "plt.show()"
   ]
  },
  {
   "cell_type": "markdown",
   "metadata": {},
   "source": [
    "There is no skewness in the histogram, the data is normal distributed"
   ]
  },
  {
   "cell_type": "markdown",
   "metadata": {},
   "source": [
    "# Box plot for continuous features"
   ]
  },
  {
   "cell_type": "code",
   "execution_count": 17,
   "metadata": {},
   "outputs": [
    {
     "name": "stderr",
     "output_type": "stream",
     "text": [
      "C:\\Anaconda\\lib\\site-packages\\seaborn\\_decorators.py:36: FutureWarning: Pass the following variable as a keyword arg: x. From version 0.12, the only valid positional argument will be `data`, and passing other arguments without an explicit keyword will result in an error or misinterpretation.\n",
      "  warnings.warn(\n",
      "C:\\Anaconda\\lib\\site-packages\\seaborn\\_decorators.py:36: FutureWarning: Pass the following variable as a keyword arg: x. From version 0.12, the only valid positional argument will be `data`, and passing other arguments without an explicit keyword will result in an error or misinterpretation.\n",
      "  warnings.warn(\n"
     ]
    },
    {
     "data": {
      "image/png": "[encoded data removed]",
      "text/plain": [
       "<Figure size 1080x360 with 2 Axes>"
      ]
     },
     "metadata": {
      "needs_background": "light"
     },
     "output_type": "display_data"
    }
   ],
   "source": [
    "plt.figure(figsize=(15,5))\n",
    "plt.subplot(1,2,1)\n",
    "sns.boxplot(df['AnnualIncome'])\n",
    "plt.xlabel('AnnualIncome', fontsize = 15)\n",
    "\n",
    "plt.subplot(1,2,2)\n",
    "sns.boxplot(df['Age'])\n",
    "plt.xlabel('Age', fontsize = 15)\n",
    "plt.show()"
   ]
  },
  {
   "cell_type": "markdown",
   "metadata": {},
   "source": [
    "There is no outlier in the continuous features "
   ]
  },
  {
   "cell_type": "markdown",
   "metadata": {},
   "source": [
    "# Correlation"
   ]
  },
  {
   "cell_type": "code",
   "execution_count": 18,
   "metadata": {},
   "outputs": [
    {
     "data": {
      "text/html": [
       "<div>\n",
       "<style scoped>\n",
       "    .dataframe tbody tr th:only-of-type {\n",
       "        vertical-align: middle;\n",
       "    }\n",
       "\n",
       "    .dataframe tbody tr th {\n",
       "        vertical-align: top;\n",
       "    }\n",
       "\n",
       "    .dataframe thead th {\n",
       "        text-align: right;\n",
       "    }\n",
       "</style>\n",
       "<table border=\"1\" class=\"dataframe\">\n",
       "  <thead>\n",
       "    <tr style=\"text-align: right;\">\n",
       "      <th></th>\n",
       "      <th>Age</th>\n",
       "      <th>AnnualIncome</th>\n",
       "      <th>FamilyMembers</th>\n",
       "      <th>ChronicDiseases</th>\n",
       "      <th>TravelInsurance</th>\n",
       "    </tr>\n",
       "  </thead>\n",
       "  <tbody>\n",
       "    <tr>\n",
       "      <th>Age</th>\n",
       "      <td>1.000000</td>\n",
       "      <td>-0.020101</td>\n",
       "      <td>0.027409</td>\n",
       "      <td>0.007359</td>\n",
       "      <td>0.061060</td>\n",
       "    </tr>\n",
       "    <tr>\n",
       "      <th>AnnualIncome</th>\n",
       "      <td>-0.020101</td>\n",
       "      <td>1.000000</td>\n",
       "      <td>-0.015367</td>\n",
       "      <td>-0.001149</td>\n",
       "      <td>0.396763</td>\n",
       "    </tr>\n",
       "    <tr>\n",
       "      <th>FamilyMembers</th>\n",
       "      <td>0.027409</td>\n",
       "      <td>-0.015367</td>\n",
       "      <td>1.000000</td>\n",
       "      <td>0.028209</td>\n",
       "      <td>0.079909</td>\n",
       "    </tr>\n",
       "    <tr>\n",
       "      <th>ChronicDiseases</th>\n",
       "      <td>0.007359</td>\n",
       "      <td>-0.001149</td>\n",
       "      <td>0.028209</td>\n",
       "      <td>1.000000</td>\n",
       "      <td>0.018190</td>\n",
       "    </tr>\n",
       "    <tr>\n",
       "      <th>TravelInsurance</th>\n",
       "      <td>0.061060</td>\n",
       "      <td>0.396763</td>\n",
       "      <td>0.079909</td>\n",
       "      <td>0.018190</td>\n",
       "      <td>1.000000</td>\n",
       "    </tr>\n",
       "  </tbody>\n",
       "</table>\n",
       "</div>"
      ],
      "text/plain": [
       "                      Age  AnnualIncome  FamilyMembers  ChronicDiseases  \\\n",
       "Age              1.000000     -0.020101       0.027409         0.007359   \n",
       "AnnualIncome    -0.020101      1.000000      -0.015367        -0.001149   \n",
       "FamilyMembers    0.027409     -0.015367       1.000000         0.028209   \n",
       "ChronicDiseases  0.007359     -0.001149       0.028209         1.000000   \n",
       "TravelInsurance  0.061060      0.396763       0.079909         0.018190   \n",
       "\n",
       "                 TravelInsurance  \n",
       "Age                     0.061060  \n",
       "AnnualIncome            0.396763  \n",
       "FamilyMembers           0.079909  \n",
       "ChronicDiseases         0.018190  \n",
       "TravelInsurance         1.000000  "
      ]
     },
     "execution_count": 18,
     "metadata": {},
     "output_type": "execute_result"
    }
   ],
   "source": [
    "df.corr()"
   ]
  },
  {
   "cell_type": "markdown",
   "metadata": {},
   "source": [
    "# visualizing the correlation "
   ]
  },
  {
   "cell_type": "code",
   "execution_count": 19,
   "metadata": {},
   "outputs": [
    {
     "data": {
      "image/png": "[encoded data removed]",
      "text/plain": [
       "<Figure size 504x504 with 2 Axes>"
      ]
     },
     "metadata": {
      "needs_background": "light"
     },
     "output_type": "display_data"
    }
   ],
   "source": [
    "plt.figure(figsize=(7,7))\n",
    "sns.heatmap(df.corr(), annot = True, center = 0)\n",
    "plt.show()"
   ]
  },
  {
   "cell_type": "markdown",
   "metadata": {},
   "source": [
    "The Annual income is highly correlated with travel insurance"
   ]
  },
  {
   "cell_type": "markdown",
   "metadata": {},
   "source": [
    "# Added annual income group column"
   ]
  },
  {
   "cell_type": "markdown",
   "metadata": {},
   "source": [
    "grpai = Grouped Annual income "
   ]
  },
  {
   "cell_type": "code",
   "execution_count": 20,
   "metadata": {},
   "outputs": [
    {
     "data": {
      "text/html": [
       "<div>\n",
       "<style scoped>\n",
       "    .dataframe tbody tr th:only-of-type {\n",
       "        vertical-align: middle;\n",
       "    }\n",
       "\n",
       "    .dataframe tbody tr th {\n",
       "        vertical-align: top;\n",
       "    }\n",
       "\n",
       "    .dataframe thead th {\n",
       "        text-align: right;\n",
       "    }\n",
       "</style>\n",
       "<table border=\"1\" class=\"dataframe\">\n",
       "  <thead>\n",
       "    <tr style=\"text-align: right;\">\n",
       "      <th></th>\n",
       "      <th>Age</th>\n",
       "      <th>Employment Type</th>\n",
       "      <th>GraduateOrNot</th>\n",
       "      <th>AnnualIncome</th>\n",
       "      <th>FamilyMembers</th>\n",
       "      <th>ChronicDiseases</th>\n",
       "      <th>FrequentFlyer</th>\n",
       "      <th>EverTravelledAbroad</th>\n",
       "      <th>TravelInsurance</th>\n",
       "      <th>grpai</th>\n",
       "    </tr>\n",
       "  </thead>\n",
       "  <tbody>\n",
       "    <tr>\n",
       "      <th>0</th>\n",
       "      <td>31</td>\n",
       "      <td>Government Sector</td>\n",
       "      <td>Yes</td>\n",
       "      <td>400000</td>\n",
       "      <td>6</td>\n",
       "      <td>1</td>\n",
       "      <td>No</td>\n",
       "      <td>No</td>\n",
       "      <td>0</td>\n",
       "      <td>(200000, 400000]</td>\n",
       "    </tr>\n",
       "    <tr>\n",
       "      <th>1</th>\n",
       "      <td>31</td>\n",
       "      <td>Private Sector/Self Employed</td>\n",
       "      <td>Yes</td>\n",
       "      <td>1250000</td>\n",
       "      <td>7</td>\n",
       "      <td>0</td>\n",
       "      <td>No</td>\n",
       "      <td>No</td>\n",
       "      <td>0</td>\n",
       "      <td>(1200000, 1400000]</td>\n",
       "    </tr>\n",
       "    <tr>\n",
       "      <th>2</th>\n",
       "      <td>34</td>\n",
       "      <td>Private Sector/Self Employed</td>\n",
       "      <td>Yes</td>\n",
       "      <td>500000</td>\n",
       "      <td>4</td>\n",
       "      <td>1</td>\n",
       "      <td>No</td>\n",
       "      <td>No</td>\n",
       "      <td>1</td>\n",
       "      <td>(400000, 600000]</td>\n",
       "    </tr>\n",
       "    <tr>\n",
       "      <th>3</th>\n",
       "      <td>28</td>\n",
       "      <td>Private Sector/Self Employed</td>\n",
       "      <td>Yes</td>\n",
       "      <td>700000</td>\n",
       "      <td>3</td>\n",
       "      <td>1</td>\n",
       "      <td>No</td>\n",
       "      <td>No</td>\n",
       "      <td>0</td>\n",
       "      <td>(600000, 1000000]</td>\n",
       "    </tr>\n",
       "    <tr>\n",
       "      <th>4</th>\n",
       "      <td>28</td>\n",
       "      <td>Private Sector/Self Employed</td>\n",
       "      <td>Yes</td>\n",
       "      <td>700000</td>\n",
       "      <td>8</td>\n",
       "      <td>1</td>\n",
       "      <td>Yes</td>\n",
       "      <td>No</td>\n",
       "      <td>0</td>\n",
       "      <td>(600000, 1000000]</td>\n",
       "    </tr>\n",
       "  </tbody>\n",
       "</table>\n",
       "</div>"
      ],
      "text/plain": [
       "   Age               Employment Type GraduateOrNot  AnnualIncome  \\\n",
       "0   31             Government Sector           Yes        400000   \n",
       "1   31  Private Sector/Self Employed           Yes       1250000   \n",
       "2   34  Private Sector/Self Employed           Yes        500000   \n",
       "3   28  Private Sector/Self Employed           Yes        700000   \n",
       "4   28  Private Sector/Self Employed           Yes        700000   \n",
       "\n",
       "   FamilyMembers  ChronicDiseases FrequentFlyer EverTravelledAbroad  \\\n",
       "0              6                1            No                  No   \n",
       "1              7                0            No                  No   \n",
       "2              4                1            No                  No   \n",
       "3              3                1            No                  No   \n",
       "4              8                1           Yes                  No   \n",
       "\n",
       "   TravelInsurance               grpai  \n",
       "0                0    (200000, 400000]  \n",
       "1                0  (1200000, 1400000]  \n",
       "2                1    (400000, 600000]  \n",
       "3                0   (600000, 1000000]  \n",
       "4                0   (600000, 1000000]  "
      ]
     },
     "execution_count": 20,
     "metadata": {},
     "output_type": "execute_result"
    }
   ],
   "source": [
    "df['grpai'] = pd.cut(df['AnnualIncome'], [200000,400000,600000,1000000,1200000,1400000,1600000,1800000])\n",
    "df.head()"
   ]
  },
  {
   "cell_type": "code",
   "execution_count": 21,
   "metadata": {},
   "outputs": [
    {
     "data": {
      "text/plain": [
       "(600000, 1000000]     551\n",
       "(1000000, 1200000]    380\n",
       "(400000, 600000]      337\n",
       "(1200000, 1400000]    335\n",
       "(200000, 400000]      208\n",
       "(1400000, 1600000]    118\n",
       "(1600000, 1800000]     58\n",
       "Name: grpai, dtype: int64"
      ]
     },
     "execution_count": 21,
     "metadata": {},
     "output_type": "execute_result"
    }
   ],
   "source": [
    "df['grpai'].value_counts()"
   ]
  },
  {
   "cell_type": "markdown",
   "metadata": {},
   "source": [
    "# Visualizing of Annual income and Travel Income"
   ]
  },
  {
   "cell_type": "code",
   "execution_count": 22,
   "metadata": {},
   "outputs": [
    {
     "name": "stderr",
     "output_type": "stream",
     "text": [
      "C:\\Anaconda\\lib\\site-packages\\seaborn\\_decorators.py:36: FutureWarning: Pass the following variable as a keyword arg: x. From version 0.12, the only valid positional argument will be `data`, and passing other arguments without an explicit keyword will result in an error or misinterpretation.\n",
      "  warnings.warn(\n"
     ]
    },
    {
     "data": {
      "image/png": "[encoded data removed]",
      "text/plain": [
       "<Figure size 1440x720 with 1 Axes>"
      ]
     },
     "metadata": {
      "needs_background": "light"
     },
     "output_type": "display_data"
    }
   ],
   "source": [
    "plt.figure(figsize=(20,10))\n",
    "x = plt.gca()\n",
    "sns.countplot('grpai', hue = 'TravelInsurance', data = df)\n",
    "plt.xlabel('Annual Income', fontsize = 15)\n",
    "plt.ylabel('Count',  fontsize = 15)\n",
    "plt.title('Travel Insurance and Annual Income', fontsize = 15)\n",
    "plt.show()"
   ]
  },
  {
   "cell_type": "markdown",
   "metadata": {},
   "source": [
    "We can see that annual income above 1200000 has higher chance of getting travel insurance"
   ]
  },
  {
   "cell_type": "markdown",
   "metadata": {},
   "source": [
    "#  Visualizing of Employment Type and Travel Income"
   ]
  },
  {
   "cell_type": "code",
   "execution_count": 23,
   "metadata": {},
   "outputs": [
    {
     "name": "stderr",
     "output_type": "stream",
     "text": [
      "C:\\Anaconda\\lib\\site-packages\\seaborn\\_decorators.py:36: FutureWarning: Pass the following variable as a keyword arg: x. From version 0.12, the only valid positional argument will be `data`, and passing other arguments without an explicit keyword will result in an error or misinterpretation.\n",
      "  warnings.warn(\n"
     ]
    },
    {
     "data": {
      "image/png": "[encoded data removed]",
      "text/plain": [
       "<Figure size 720x720 with 1 Axes>"
      ]
     },
     "metadata": {
      "needs_background": "light"
     },
     "output_type": "display_data"
    }
   ],
   "source": [
    "plt.figure(figsize=(10,10))\n",
    "sns.countplot('Employment Type', hue = 'TravelInsurance', data = df)\n",
    "plt.xlabel('Employment Type', fontsize = 15)\n",
    "plt.ylabel('Count',  fontsize = 15)\n",
    "plt.title('Travel Insurance and Employment Type', fontsize = 15)\n",
    "x = plt.gca()\n",
    "x.set_xticklabels(['Government Sector', 'Private Sector/Self Employed'], fontsize = 15)\n",
    "plt.show()\n"
   ]
  },
  {
   "cell_type": "markdown",
   "metadata": {},
   "source": [
    "we see that privatesector/self employed pepole getting higher chance of travel insurance"
   ]
  },
  {
   "cell_type": "markdown",
   "metadata": {},
   "source": [
    "# Visualizing of Age and Travel Income"
   ]
  },
  {
   "cell_type": "code",
   "execution_count": 24,
   "metadata": {},
   "outputs": [
    {
     "name": "stderr",
     "output_type": "stream",
     "text": [
      "C:\\Anaconda\\lib\\site-packages\\seaborn\\_decorators.py:36: FutureWarning: Pass the following variable as a keyword arg: x. From version 0.12, the only valid positional argument will be `data`, and passing other arguments without an explicit keyword will result in an error or misinterpretation.\n",
      "  warnings.warn(\n"
     ]
    },
    {
     "data": {
      "image/png": "[encoded data removed]",
      "text/plain": [
       "<Figure size 720x720 with 1 Axes>"
      ]
     },
     "metadata": {
      "needs_background": "light"
     },
     "output_type": "display_data"
    }
   ],
   "source": [
    "plt.figure(figsize=(10,10))\n",
    "sns.countplot('Age', hue = 'TravelInsurance', data = df)\n",
    "plt.xlabel('Age', fontsize = 15)\n",
    "plt.ylabel('Count',  fontsize = 15)\n",
    "plt.title('Travel Insurance and Age', fontsize = 15)\n",
    "plt.show()\n"
   ]
  },
  {
   "cell_type": "markdown",
   "metadata": {},
   "source": [
    "We can't say relation between age and chance of getting travel insurance"
   ]
  },
  {
   "cell_type": "markdown",
   "metadata": {},
   "source": [
    "# Visualizing of Family Members and Travel Income"
   ]
  },
  {
   "cell_type": "code",
   "execution_count": 25,
   "metadata": {},
   "outputs": [
    {
     "name": "stderr",
     "output_type": "stream",
     "text": [
      "C:\\Anaconda\\lib\\site-packages\\seaborn\\_decorators.py:36: FutureWarning: Pass the following variable as a keyword arg: x. From version 0.12, the only valid positional argument will be `data`, and passing other arguments without an explicit keyword will result in an error or misinterpretation.\n",
      "  warnings.warn(\n"
     ]
    },
    {
     "data": {
      "image/png": "[encoded data removed]",
      "text/plain": [
       "<Figure size 720x720 with 1 Axes>"
      ]
     },
     "metadata": {
      "needs_background": "light"
     },
     "output_type": "display_data"
    }
   ],
   "source": [
    "plt.figure(figsize=(10,10))\n",
    "sns.countplot('FamilyMembers', hue = 'TravelInsurance', data = df)\n",
    "plt.xlabel('Family Memebers', fontsize = 15)\n",
    "plt.ylabel('Count',  fontsize = 15)\n",
    "plt.title('Travel Insurance and Family Memebers', fontsize = 15)\n",
    "plt.show()"
   ]
  },
  {
   "cell_type": "markdown",
   "metadata": {},
   "source": [
    "we see that family members between 3 to 6 has some chance of getting travel insurance"
   ]
  },
  {
   "cell_type": "markdown",
   "metadata": {},
   "source": [
    "# Visualizing of  ChronicDiseases and Travel Income"
   ]
  },
  {
   "cell_type": "code",
   "execution_count": 26,
   "metadata": {},
   "outputs": [
    {
     "name": "stderr",
     "output_type": "stream",
     "text": [
      "C:\\Anaconda\\lib\\site-packages\\seaborn\\_decorators.py:36: FutureWarning: Pass the following variable as a keyword arg: x. From version 0.12, the only valid positional argument will be `data`, and passing other arguments without an explicit keyword will result in an error or misinterpretation.\n",
      "  warnings.warn(\n"
     ]
    },
    {
     "data": {
      "image/png": "[encoded data removed]",
      "text/plain": [
       "<Figure size 720x720 with 1 Axes>"
      ]
     },
     "metadata": {
      "needs_background": "light"
     },
     "output_type": "display_data"
    }
   ],
   "source": [
    "plt.figure(figsize=(10,10))\n",
    "x = plt.gca()\n",
    "sns.countplot('ChronicDiseases', hue = 'TravelInsurance', data = df)\n",
    "plt.xlabel('ChronicDiseases', fontsize = 15)\n",
    "plt.ylabel('Count',  fontsize = 15)\n",
    "plt.title('Travel Insurance and ChronicDiseases', fontsize = 15)\n",
    "x.set_xticklabels(['No', 'yes'], fontsize = 12)\n",
    "plt.show()"
   ]
  },
  {
   "cell_type": "markdown",
   "metadata": {},
   "source": [
    "we see that those who don't have diseases have higher chance of getting travel insurance"
   ]
  },
  {
   "cell_type": "markdown",
   "metadata": {},
   "source": [
    "# Visualizing of GraduateOrNot and Travel Income\n",
    "\n"
   ]
  },
  {
   "cell_type": "code",
   "execution_count": 27,
   "metadata": {},
   "outputs": [
    {
     "name": "stderr",
     "output_type": "stream",
     "text": [
      "C:\\Anaconda\\lib\\site-packages\\seaborn\\_decorators.py:36: FutureWarning: Pass the following variable as a keyword arg: x. From version 0.12, the only valid positional argument will be `data`, and passing other arguments without an explicit keyword will result in an error or misinterpretation.\n",
      "  warnings.warn(\n"
     ]
    },
    {
     "data": {
      "image/png": "[encoded data removed]",
      "text/plain": [
       "<Figure size 720x720 with 1 Axes>"
      ]
     },
     "metadata": {
      "needs_background": "light"
     },
     "output_type": "display_data"
    }
   ],
   "source": [
    "plt.figure(figsize=(10,10))\n",
    "sns.countplot('GraduateOrNot', hue = 'TravelInsurance', data = df)\n",
    "x = plt.gca()\n",
    "plt.xlabel('GraduateOrNot', fontsize = 15)\n",
    "plt.ylabel('Count',  fontsize = 15)\n",
    "plt.title('Travel Insurance and GraduateOrNot', fontsize = 15)\n",
    "x.set_xticklabels(['Yes', 'No'], fontsize = 15)\n",
    "plt.show()"
   ]
  },
  {
   "cell_type": "markdown",
   "metadata": {},
   "source": [
    "we see that graduated people has higher chance of getting travel insurance, the reason could be graducated people travel more"
   ]
  },
  {
   "cell_type": "markdown",
   "metadata": {},
   "source": [
    "# Visualizing of  FrequentFlyer and Travel Income"
   ]
  },
  {
   "cell_type": "code",
   "execution_count": 28,
   "metadata": {},
   "outputs": [
    {
     "name": "stderr",
     "output_type": "stream",
     "text": [
      "C:\\Anaconda\\lib\\site-packages\\seaborn\\_decorators.py:36: FutureWarning: Pass the following variable as a keyword arg: x. From version 0.12, the only valid positional argument will be `data`, and passing other arguments without an explicit keyword will result in an error or misinterpretation.\n",
      "  warnings.warn(\n"
     ]
    },
    {
     "data": {
      "image/png": "[encoded data removed]",
      "text/plain": [
       "<Figure size 720x720 with 1 Axes>"
      ]
     },
     "metadata": {
      "needs_background": "light"
     },
     "output_type": "display_data"
    }
   ],
   "source": [
    "plt.figure(figsize=(10,10))\n",
    "sns.countplot('FrequentFlyer', hue = 'TravelInsurance', data = df)\n",
    "plt.xlabel('FrequentFlyer', fontsize = 15)\n",
    "plt.ylabel('Count',  fontsize = 15)\n",
    "plt.title('Travel Insurance and FrequentFlyer', fontsize = 15)\n",
    "x = plt.gca()\n",
    "x.set_xticklabels(['No', 'YES'], fontsize = 15)\n",
    "plt.show()"
   ]
  },
  {
   "cell_type": "markdown",
   "metadata": {},
   "source": [
    "The non frequent flyer has quite higher chance of getting travel insurance"
   ]
  },
  {
   "cell_type": "markdown",
   "metadata": {},
   "source": [
    "# Visualizing of  EverTravelledAbroad and Travel Income"
   ]
  },
  {
   "cell_type": "code",
   "execution_count": 29,
   "metadata": {},
   "outputs": [
    {
     "name": "stderr",
     "output_type": "stream",
     "text": [
      "C:\\Anaconda\\lib\\site-packages\\seaborn\\_decorators.py:36: FutureWarning: Pass the following variable as a keyword arg: x. From version 0.12, the only valid positional argument will be `data`, and passing other arguments without an explicit keyword will result in an error or misinterpretation.\n",
      "  warnings.warn(\n"
     ]
    },
    {
     "data": {
      "image/png": "[encoded data removed]",
      "text/plain": [
       "<Figure size 720x720 with 1 Axes>"
      ]
     },
     "metadata": {
      "needs_background": "light"
     },
     "output_type": "display_data"
    }
   ],
   "source": [
    "plt.figure(figsize=(10,10))\n",
    "sns.countplot('EverTravelledAbroad', hue = 'TravelInsurance', data = df)\n",
    "plt.xlabel('EverTravelledAbroad', fontsize = 15)\n",
    "plt.ylabel('Count',  fontsize = 15)\n",
    "plt.title('Travel Insurance and EverTravelledAbroad', fontsize = 15)\n",
    "x = plt.gca()\n",
    "x.set_xticklabels(['No', 'YES'], fontsize = 15)\n",
    "plt.show()"
   ]
  },
  {
   "cell_type": "markdown",
   "metadata": {},
   "source": [
    "Those who evertravel abroad has quite higher chance of getting travel insurance"
   ]
  },
  {
   "cell_type": "markdown",
   "metadata": {},
   "source": [
    "# Visualizing employment type and frequentflyer"
   ]
  },
  {
   "cell_type": "code",
   "execution_count": 30,
   "metadata": {},
   "outputs": [
    {
     "name": "stderr",
     "output_type": "stream",
     "text": [
      "C:\\Anaconda\\lib\\site-packages\\seaborn\\_decorators.py:36: FutureWarning: Pass the following variable as a keyword arg: x. From version 0.12, the only valid positional argument will be `data`, and passing other arguments without an explicit keyword will result in an error or misinterpretation.\n",
      "  warnings.warn(\n"
     ]
    },
    {
     "data": {
      "image/png": "[encoded data removed]",
      "text/plain": [
       "<Figure size 720x720 with 1 Axes>"
      ]
     },
     "metadata": {
      "needs_background": "light"
     },
     "output_type": "display_data"
    }
   ],
   "source": [
    "plt.figure(figsize=(10,10))\n",
    "sns.countplot('Employment Type', hue = 'FrequentFlyer', data = df)\n",
    "plt.xlabel('Employment Type', fontsize = 15)\n",
    "plt.ylabel('Count',  fontsize = 15)\n",
    "plt.title('Employment Type and FrequentFlyer', fontsize = 15)\n",
    "x = plt.gca()\n",
    "x.set_xticklabels(['Government scetor', 'Public sector/Self employed'], fontsize = 15)\n",
    "plt.show()"
   ]
  },
  {
   "cell_type": "markdown",
   "metadata": {},
   "source": [
    "Public sector people are frequentflyer when compare to government sector"
   ]
  },
  {
   "cell_type": "markdown",
   "metadata": {},
   "source": [
    "# Visualizing Employment Type and Annual Income"
   ]
  },
  {
   "cell_type": "code",
   "execution_count": 31,
   "metadata": {},
   "outputs": [
    {
     "name": "stderr",
     "output_type": "stream",
     "text": [
      "C:\\Anaconda\\lib\\site-packages\\seaborn\\_decorators.py:36: FutureWarning: Pass the following variable as a keyword arg: x. From version 0.12, the only valid positional argument will be `data`, and passing other arguments without an explicit keyword will result in an error or misinterpretation.\n",
      "  warnings.warn(\n"
     ]
    },
    {
     "data": {
      "image/png": "[encoded data removed]",
      "text/plain": [
       "<Figure size 720x720 with 1 Axes>"
      ]
     },
     "metadata": {
      "needs_background": "light"
     },
     "output_type": "display_data"
    }
   ],
   "source": [
    "plt.figure(figsize=(10,10))\n",
    "sns.countplot('Employment Type', hue = 'grpai', data = df)\n",
    "plt.xlabel('Employment Type', fontsize = 15)\n",
    "plt.ylabel('Count',  fontsize = 15)\n",
    "plt.title('Employment Type and Annual Income', fontsize = 15)\n",
    "x = plt.gca()\n",
    "x.set_xticklabels(['Government scetor', 'Public sector/Self employed'], fontsize = 15)\n",
    "plt.show()"
   ]
  },
  {
   "cell_type": "markdown",
   "metadata": {},
   "source": [
    "Public sector/self employed people earning more annual income  "
   ]
  },
  {
   "cell_type": "markdown",
   "metadata": {},
   "source": [
    "# Employment Type and EverTravelledAbroad"
   ]
  },
  {
   "cell_type": "code",
   "execution_count": 32,
   "metadata": {},
   "outputs": [
    {
     "name": "stderr",
     "output_type": "stream",
     "text": [
      "C:\\Anaconda\\lib\\site-packages\\seaborn\\_decorators.py:36: FutureWarning: Pass the following variable as a keyword arg: x. From version 0.12, the only valid positional argument will be `data`, and passing other arguments without an explicit keyword will result in an error or misinterpretation.\n",
      "  warnings.warn(\n"
     ]
    },
    {
     "data": {
      "image/png": "[encoded data removed]",
      "text/plain": [
       "<Figure size 720x720 with 1 Axes>"
      ]
     },
     "metadata": {
      "needs_background": "light"
     },
     "output_type": "display_data"
    }
   ],
   "source": [
    "plt.figure(figsize=(10,10))\n",
    "sns.countplot('Employment Type', hue = 'EverTravelledAbroad', data = df)\n",
    "plt.xlabel('Employment Type', fontsize = 15)\n",
    "plt.ylabel('Count',  fontsize = 15)\n",
    "plt.title('Employment Type and EverTravelledAbroad', fontsize = 15)\n",
    "x = plt.gca()\n",
    "x.set_xticklabels(['Government scetor', 'Public sector/Self employed'], fontsize = 15)\n",
    "plt.show()"
   ]
  },
  {
   "cell_type": "markdown",
   "metadata": {},
   "source": [
    "we can say that public sector people are they travel abroad more and more they travel for first time "
   ]
  },
  {
   "cell_type": "code",
   "execution_count": 33,
   "metadata": {},
   "outputs": [
    {
     "name": "stderr",
     "output_type": "stream",
     "text": [
      "C:\\Anaconda\\lib\\site-packages\\seaborn\\_decorators.py:36: FutureWarning: Pass the following variable as a keyword arg: x. From version 0.12, the only valid positional argument will be `data`, and passing other arguments without an explicit keyword will result in an error or misinterpretation.\n",
      "  warnings.warn(\n"
     ]
    },
    {
     "data": {
      "image/png": "[encoded data removed]",
      "text/plain": [
       "<Figure size 1440x720 with 1 Axes>"
      ]
     },
     "metadata": {
      "needs_background": "light"
     },
     "output_type": "display_data"
    }
   ],
   "source": [
    "plt.figure(figsize=(20,10))\n",
    "sns.countplot('GraduateOrNot', hue = 'grpai', data = df)\n",
    "plt.xlabel('GraduateOrNot', fontsize = 15)\n",
    "plt.ylabel('Count',  fontsize = 15)\n",
    "plt.title('GraduateOrNot and Annual Income', fontsize = 15)\n",
    "x = plt.gca()\n",
    "x.set_xticklabels(['No', 'Yes'], fontsize = 15)\n",
    "plt.show()"
   ]
  },
  {
   "cell_type": "markdown",
   "metadata": {},
   "source": [
    "We can say that graduated people earn more"
   ]
  },
  {
   "cell_type": "markdown",
   "metadata": {},
   "source": [
    "# Observation from graph\n",
    "\n",
    "Those who are earning high annaual income are having higher chance of getting travel insurance\n",
    "\n",
    "The public sector employer's are earning more than government sector employer's\n",
    "\n",
    "Non-frequrnt flyer have some chance of getting travel insurance then frequent flyer\n",
    "\n",
    "public sector employer's are high in both frequent flyer and non-frequent flyer  \n",
    "\n",
    "Those travelling frist abroad has some chance of getting travel insurance than those who travel abroad frequently\n",
    "\n",
    "public sector people are high number of travelling for the first time to abroad and also frequent travellers\n",
    "\n",
    "we can also see that graduated people earning high annual income\n",
    "\n",
    "The non-ChronicDiseases people get higher chance for travel insurance \n"
   ]
  },
  {
   "cell_type": "markdown",
   "metadata": {},
   "source": [
    "# Changing the categorical features into discrete values"
   ]
  },
  {
   "cell_type": "code",
   "execution_count": 34,
   "metadata": {},
   "outputs": [
    {
     "data": {
      "text/html": [
       "<div>\n",
       "<style scoped>\n",
       "    .dataframe tbody tr th:only-of-type {\n",
       "        vertical-align: middle;\n",
       "    }\n",
       "\n",
       "    .dataframe tbody tr th {\n",
       "        vertical-align: top;\n",
       "    }\n",
       "\n",
       "    .dataframe thead th {\n",
       "        text-align: right;\n",
       "    }\n",
       "</style>\n",
       "<table border=\"1\" class=\"dataframe\">\n",
       "  <thead>\n",
       "    <tr style=\"text-align: right;\">\n",
       "      <th></th>\n",
       "      <th>Age</th>\n",
       "      <th>Employment Type</th>\n",
       "      <th>GraduateOrNot</th>\n",
       "      <th>AnnualIncome</th>\n",
       "      <th>FamilyMembers</th>\n",
       "      <th>ChronicDiseases</th>\n",
       "      <th>FrequentFlyer</th>\n",
       "      <th>EverTravelledAbroad</th>\n",
       "      <th>TravelInsurance</th>\n",
       "      <th>grpai</th>\n",
       "    </tr>\n",
       "  </thead>\n",
       "  <tbody>\n",
       "    <tr>\n",
       "      <th>0</th>\n",
       "      <td>31</td>\n",
       "      <td>1</td>\n",
       "      <td>1</td>\n",
       "      <td>400000</td>\n",
       "      <td>6</td>\n",
       "      <td>1</td>\n",
       "      <td>0</td>\n",
       "      <td>0</td>\n",
       "      <td>0</td>\n",
       "      <td>(200000, 400000]</td>\n",
       "    </tr>\n",
       "    <tr>\n",
       "      <th>1</th>\n",
       "      <td>31</td>\n",
       "      <td>2</td>\n",
       "      <td>1</td>\n",
       "      <td>1250000</td>\n",
       "      <td>7</td>\n",
       "      <td>0</td>\n",
       "      <td>0</td>\n",
       "      <td>0</td>\n",
       "      <td>0</td>\n",
       "      <td>(1200000, 1400000]</td>\n",
       "    </tr>\n",
       "    <tr>\n",
       "      <th>2</th>\n",
       "      <td>34</td>\n",
       "      <td>2</td>\n",
       "      <td>1</td>\n",
       "      <td>500000</td>\n",
       "      <td>4</td>\n",
       "      <td>1</td>\n",
       "      <td>0</td>\n",
       "      <td>0</td>\n",
       "      <td>1</td>\n",
       "      <td>(400000, 600000]</td>\n",
       "    </tr>\n",
       "    <tr>\n",
       "      <th>3</th>\n",
       "      <td>28</td>\n",
       "      <td>2</td>\n",
       "      <td>1</td>\n",
       "      <td>700000</td>\n",
       "      <td>3</td>\n",
       "      <td>1</td>\n",
       "      <td>0</td>\n",
       "      <td>0</td>\n",
       "      <td>0</td>\n",
       "      <td>(600000, 1000000]</td>\n",
       "    </tr>\n",
       "    <tr>\n",
       "      <th>4</th>\n",
       "      <td>28</td>\n",
       "      <td>2</td>\n",
       "      <td>1</td>\n",
       "      <td>700000</td>\n",
       "      <td>8</td>\n",
       "      <td>1</td>\n",
       "      <td>1</td>\n",
       "      <td>0</td>\n",
       "      <td>0</td>\n",
       "      <td>(600000, 1000000]</td>\n",
       "    </tr>\n",
       "  </tbody>\n",
       "</table>\n",
       "</div>"
      ],
      "text/plain": [
       "   Age  Employment Type  GraduateOrNot  AnnualIncome  FamilyMembers  \\\n",
       "0   31                1              1        400000              6   \n",
       "1   31                2              1       1250000              7   \n",
       "2   34                2              1        500000              4   \n",
       "3   28                2              1        700000              3   \n",
       "4   28                2              1        700000              8   \n",
       "\n",
       "   ChronicDiseases  FrequentFlyer  EverTravelledAbroad  TravelInsurance  \\\n",
       "0                1              0                    0                0   \n",
       "1                0              0                    0                0   \n",
       "2                1              0                    0                1   \n",
       "3                1              0                    0                0   \n",
       "4                1              1                    0                0   \n",
       "\n",
       "                grpai  \n",
       "0    (200000, 400000]  \n",
       "1  (1200000, 1400000]  \n",
       "2    (400000, 600000]  \n",
       "3   (600000, 1000000]  \n",
       "4   (600000, 1000000]  "
      ]
     },
     "execution_count": 34,
     "metadata": {},
     "output_type": "execute_result"
    }
   ],
   "source": [
    "df['Employment Type'] = df['Employment Type'].replace({'Government Sector':1, 'Private Sector/Self Employed':2})\n",
    "df['GraduateOrNot']  = df['GraduateOrNot'].replace({'Yes': 1, 'No' : 0})\n",
    "df['FrequentFlyer']  = df['FrequentFlyer'].replace({'Yes':1, 'No': 0})\n",
    "df['EverTravelledAbroad'] = df['EverTravelledAbroad'].replace({'Yes':1, 'No': 0})\n",
    "df.head()"
   ]
  },
  {
   "cell_type": "markdown",
   "metadata": {},
   "source": [
    "# Separating dependent and independent features"
   ]
  },
  {
   "cell_type": "code",
   "execution_count": 35,
   "metadata": {},
   "outputs": [
    {
     "name": "stdout",
     "output_type": "stream",
     "text": [
      "The shape of independent feratures (1987, 8)\n",
      "The shape of dependent feratures (1987,)\n"
     ]
    }
   ],
   "source": [
    "x = df.drop(['TravelInsurance','grpai'], axis = 1)\n",
    "y = df['TravelInsurance']\n",
    "\n",
    "print('The shape of independent feratures',x.shape)\n",
    "print('The shape of dependent feratures', y.shape)"
   ]
  },
  {
   "cell_type": "markdown",
   "metadata": {},
   "source": [
    "# checking for class count"
   ]
  },
  {
   "cell_type": "code",
   "execution_count": 36,
   "metadata": {},
   "outputs": [
    {
     "data": {
      "text/plain": [
       "0    1277\n",
       "1     710\n",
       "Name: TravelInsurance, dtype: int64"
      ]
     },
     "execution_count": 36,
     "metadata": {},
     "output_type": "execute_result"
    }
   ],
   "source": [
    "y.value_counts()"
   ]
  },
  {
   "cell_type": "markdown",
   "metadata": {},
   "source": [
    "As i said in the starting the dataset is imbalanced"
   ]
  },
  {
   "cell_type": "markdown",
   "metadata": {},
   "source": [
    "# Balancing the dataset by using imblearn over sampling"
   ]
  },
  {
   "cell_type": "code",
   "execution_count": 37,
   "metadata": {},
   "outputs": [],
   "source": [
    "from imblearn.over_sampling import RandomOverSampler\n",
    "os = RandomOverSampler()\n",
    "x_res,y_res = os.fit_resample(x,y)"
   ]
  },
  {
   "cell_type": "markdown",
   "metadata": {},
   "source": [
    "The imblearn over sample the data "
   ]
  },
  {
   "cell_type": "code",
   "execution_count": 38,
   "metadata": {},
   "outputs": [
    {
     "name": "stdout",
     "output_type": "stream",
     "text": [
      "x_Shape (2554, 8)\n",
      "Y_shape (2554,)\n"
     ]
    }
   ],
   "source": [
    "print('x_Shape',x_res.shape)\n",
    "print('Y_shape',y_res.shape)"
   ]
  },
  {
   "cell_type": "markdown",
   "metadata": {},
   "source": [
    "The over sample made both the class equale by increase the minority class"
   ]
  },
  {
   "cell_type": "code",
   "execution_count": 39,
   "metadata": {},
   "outputs": [
    {
     "data": {
      "text/plain": [
       "1    1277\n",
       "0    1277\n",
       "Name: TravelInsurance, dtype: int64"
      ]
     },
     "execution_count": 39,
     "metadata": {},
     "output_type": "execute_result"
    }
   ],
   "source": [
    "y_res.value_counts()"
   ]
  },
  {
   "cell_type": "code",
   "execution_count": 40,
   "metadata": {},
   "outputs": [
    {
     "data": {
      "image/png": "[encoded data removed]",
      "text/plain": [
       "<Figure size 432x288 with 1 Axes>"
      ]
     },
     "metadata": {},
     "output_type": "display_data"
    }
   ],
   "source": [
    "plt.pie(x = y_res.value_counts(), labels = [0,1], autopct = \"%0.2f%%\", radius = 2)\n",
    "plt.show()"
   ]
  },
  {
   "cell_type": "markdown",
   "metadata": {},
   "source": [
    "We can see that the dataset is balanced "
   ]
  },
  {
   "cell_type": "markdown",
   "metadata": {},
   "source": [
    "# Feature normaling "
   ]
  },
  {
   "cell_type": "markdown",
   "metadata": {},
   "source": [
    "Using Standard normal distribution "
   ]
  },
  {
   "cell_type": "code",
   "execution_count": 41,
   "metadata": {},
   "outputs": [],
   "source": [
    "x = (x_res - x_res.mean())/x_res.std()"
   ]
  },
  {
   "cell_type": "code",
   "execution_count": 42,
   "metadata": {},
   "outputs": [],
   "source": [
    "x = x.values\n",
    "y = y_res.values"
   ]
  },
  {
   "cell_type": "markdown",
   "metadata": {},
   "source": [
    "# Splitting Training and Validation dataset"
   ]
  },
  {
   "cell_type": "markdown",
   "metadata": {},
   "source": [
    "90% to the Training dataset\n",
    "\n",
    "10% to the validation dataset"
   ]
  },
  {
   "cell_type": "code",
   "execution_count": 43,
   "metadata": {},
   "outputs": [],
   "source": [
    "x_train, x_val, y_train, y_val = train_test_split(x,y, test_size = 0.1, random_state = 10, stratify=y)"
   ]
  },
  {
   "cell_type": "code",
   "execution_count": 44,
   "metadata": {},
   "outputs": [
    {
     "data": {
      "text/plain": [
       "(2298, 8)"
      ]
     },
     "execution_count": 44,
     "metadata": {},
     "output_type": "execute_result"
    }
   ],
   "source": [
    "x_train.shape"
   ]
  },
  {
   "cell_type": "code",
   "execution_count": 45,
   "metadata": {},
   "outputs": [
    {
     "data": {
      "text/plain": [
       "(2298,)"
      ]
     },
     "execution_count": 45,
     "metadata": {},
     "output_type": "execute_result"
    }
   ],
   "source": [
    "y_train.shape"
   ]
  },
  {
   "cell_type": "code",
   "execution_count": 46,
   "metadata": {},
   "outputs": [
    {
     "data": {
      "text/plain": [
       "(256, 8)"
      ]
     },
     "execution_count": 46,
     "metadata": {},
     "output_type": "execute_result"
    }
   ],
   "source": [
    "x_val.shape"
   ]
  },
  {
   "cell_type": "code",
   "execution_count": 47,
   "metadata": {},
   "outputs": [
    {
     "data": {
      "text/plain": [
       "(256,)"
      ]
     },
     "execution_count": 47,
     "metadata": {},
     "output_type": "execute_result"
    }
   ],
   "source": [
    "y_val.shape"
   ]
  },
  {
   "cell_type": "markdown",
   "metadata": {},
   "source": [
    "# Machine Learning model"
   ]
  },
  {
   "cell_type": "markdown",
   "metadata": {},
   "source": [
    "I am using logistics regression, SVM and Neural Network "
   ]
  },
  {
   "cell_type": "markdown",
   "metadata": {},
   "source": [
    "# Logistic Regression"
   ]
  },
  {
   "cell_type": "code",
   "execution_count": 48,
   "metadata": {},
   "outputs": [
    {
     "data": {
      "text/plain": [
       "LogisticRegression(C=1000, max_iter=150)"
      ]
     },
     "execution_count": 48,
     "metadata": {},
     "output_type": "execute_result"
    }
   ],
   "source": [
    "model_log = LogisticRegression(max_iter = 150, C = 1000)\n",
    "model_log.fit(x_train,y_train)\n",
    "\n"
   ]
  },
  {
   "cell_type": "code",
   "execution_count": 49,
   "metadata": {},
   "outputs": [
    {
     "data": {
      "text/plain": [
       "0.7158398607484769"
      ]
     },
     "execution_count": 49,
     "metadata": {},
     "output_type": "execute_result"
    }
   ],
   "source": [
    "model_log.score(x_train,y_train)"
   ]
  },
  {
   "cell_type": "code",
   "execution_count": 50,
   "metadata": {},
   "outputs": [
    {
     "data": {
      "text/plain": [
       "0.71875"
      ]
     },
     "execution_count": 50,
     "metadata": {},
     "output_type": "execute_result"
    }
   ],
   "source": [
    "model_log.score(x_val,y_val)"
   ]
  },
  {
   "cell_type": "code",
   "execution_count": 51,
   "metadata": {},
   "outputs": [
    {
     "data": {
      "text/plain": [
       "<sklearn.metrics._plot.roc_curve.RocCurveDisplay at 0x23e8d5a20a0>"
      ]
     },
     "execution_count": 51,
     "metadata": {},
     "output_type": "execute_result"
    },
    {
     "data": {
      "image/png": "[encoded data removed]",
      "text/plain": [
       "<Figure size 432x288 with 1 Axes>"
      ]
     },
     "metadata": {
      "needs_background": "light"
     },
     "output_type": "display_data"
    }
   ],
   "source": [
    "metrics.plot_roc_curve(model_log, x_val, y_val)"
   ]
  },
  {
   "cell_type": "code",
   "execution_count": 52,
   "metadata": {},
   "outputs": [
    {
     "name": "stdout",
     "output_type": "stream",
     "text": [
      "classification_report: \n",
      "               precision    recall  f1-score   support\n",
      "\n",
      "           0       0.69      0.78      0.74       128\n",
      "           1       0.75      0.66      0.70       128\n",
      "\n",
      "    accuracy                           0.72       256\n",
      "   macro avg       0.72      0.72      0.72       256\n",
      "weighted avg       0.72      0.72      0.72       256\n",
      "\n"
     ]
    }
   ],
   "source": [
    "print('classification_report: \\n',metrics.classification_report(y_val, model_log.predict(x_val)))"
   ]
  },
  {
   "cell_type": "markdown",
   "metadata": {},
   "source": [
    "The logistic regression gives the accuracy of validation set 70%\n",
    "\n",
    "There no overfitting problem\n",
    "\n",
    "c or 1/lambda = 1000 (where lambda = 0.001)\n",
    "\n",
    "max_iter = 150\n",
    "\n",
    "There is a Underfitting problem \n",
    "\n",
    "solution for underfitting is to add new features or polynomial function \n",
    "\n"
   ]
  },
  {
   "cell_type": "code",
   "execution_count": 53,
   "metadata": {},
   "outputs": [
    {
     "name": "stderr",
     "output_type": "stream",
     "text": [
      "C:\\Anaconda\\lib\\site-packages\\seaborn\\matrix.py:265: MatplotlibDeprecationWarning: Case-insensitive properties were deprecated in 3.3 and support will be removed two minor releases later\n",
      "  ax.text(x, y, annotation, **text_kwargs)\n"
     ]
    },
    {
     "data": {
      "image/png": "[encoded data removed]",
      "text/plain": [
       "<Figure size 504x504 with 2 Axes>"
      ]
     },
     "metadata": {
      "needs_background": "light"
     },
     "output_type": "display_data"
    }
   ],
   "source": [
    "from sklearn.metrics import confusion_matrix, plot_precision_recall_curve\n",
    "\n",
    "log = confusion_matrix(y_val, model_log.predict(x_val))\n",
    "fig, ax = plt.subplots(1,1, figsize = (7,7), constrained_layout = True)\n",
    "\n",
    "sns.heatmap(log, annot = True, cmap = 'Blues', ax = ax, center = 0, annot_kws={'fontsize': 15, 'Label': ['TN', 'Fp', 'FN', 'TP']})\n",
    "ax.set_ylabel('Actual', fontsize = 15)\n",
    "ax.set_xlabel('Prediction', fontsize = 15)\n",
    "plt.show()"
   ]
  },
  {
   "cell_type": "markdown",
   "metadata": {},
   "source": [
    "True positive = 79\n",
    "\n",
    "True Negative = 99\n",
    "\n",
    "False Postive = 29\n",
    "\n",
    "False Negative  = 49\n",
    "\n",
    "\n",
    "False Negative is higher than Flase postive then we should focuse more on Recall"
   ]
  },
  {
   "cell_type": "code",
   "execution_count": 54,
   "metadata": {},
   "outputs": [
    {
     "data": {
      "text/html": [
       "<div>\n",
       "<style scoped>\n",
       "    .dataframe tbody tr th:only-of-type {\n",
       "        vertical-align: middle;\n",
       "    }\n",
       "\n",
       "    .dataframe tbody tr th {\n",
       "        vertical-align: top;\n",
       "    }\n",
       "\n",
       "    .dataframe thead th {\n",
       "        text-align: right;\n",
       "    }\n",
       "</style>\n",
       "<table border=\"1\" class=\"dataframe\">\n",
       "  <thead>\n",
       "    <tr style=\"text-align: right;\">\n",
       "      <th></th>\n",
       "      <th>Precision</th>\n",
       "      <th>Recall</th>\n",
       "      <th>F1_score</th>\n",
       "    </tr>\n",
       "  </thead>\n",
       "  <tbody>\n",
       "    <tr>\n",
       "      <th>0</th>\n",
       "      <td>0.75</td>\n",
       "      <td>0.65625</td>\n",
       "      <td>0.7</td>\n",
       "    </tr>\n",
       "  </tbody>\n",
       "</table>\n",
       "</div>"
      ],
      "text/plain": [
       "   Precision   Recall  F1_score\n",
       "0       0.75  0.65625       0.7"
      ]
     },
     "execution_count": 54,
     "metadata": {},
     "output_type": "execute_result"
    }
   ],
   "source": [
    "from sklearn.metrics import precision_score, recall_score, f1_score\n",
    "\n",
    "precision  = precision_score(y_val, model_log.predict(x_val))\n",
    " \n",
    "recall = recall_score(y_val, model_log.predict(x_val))\n",
    "\n",
    "f1_score = f1_score(y_val, model_log.predict(x_val))\n",
    "\n",
    "df_metrics = pd.DataFrame({'Precision': [precision], \"Recall\": [recall], 'F1_score': [f1_score]})\n",
    "df_metrics"
   ]
  },
  {
   "cell_type": "markdown",
   "metadata": {},
   "source": [
    "We can see that recall is low only 61% "
   ]
  },
  {
   "cell_type": "markdown",
   "metadata": {},
   "source": [
    "# SVM"
   ]
  },
  {
   "cell_type": "markdown",
   "metadata": {},
   "source": [
    "The reason for using the SVM is that it has modified costfunction\n",
    "\n",
    "where \n",
    "\n",
    "y = 1 if theta.T(x) >= 1\n",
    "\n",
    "y = 0 if thetaq.T(x) <= -1\n",
    "\n",
    "SVM use large margin separation \n",
    "\n",
    "C = 1/Lambda \n",
    "\n",
    "if c is large overfit\n",
    "\n",
    "if c is too small underfit"
   ]
  },
  {
   "cell_type": "code",
   "execution_count": 55,
   "metadata": {},
   "outputs": [
    {
     "data": {
      "text/plain": [
       "SVC(C=1000)"
      ]
     },
     "execution_count": 55,
     "metadata": {},
     "output_type": "execute_result"
    }
   ],
   "source": [
    "model_svc = SVC(C = 1000)\n",
    "model_svc.fit(x_train,y_train)"
   ]
  },
  {
   "cell_type": "code",
   "execution_count": 56,
   "metadata": {},
   "outputs": [
    {
     "data": {
      "text/plain": [
       "0.8607484769364665"
      ]
     },
     "execution_count": 56,
     "metadata": {},
     "output_type": "execute_result"
    }
   ],
   "source": [
    "model_svc.score(x_train,y_train)"
   ]
  },
  {
   "cell_type": "code",
   "execution_count": 57,
   "metadata": {},
   "outputs": [
    {
     "data": {
      "text/plain": [
       "0.73046875"
      ]
     },
     "execution_count": 57,
     "metadata": {},
     "output_type": "execute_result"
    }
   ],
   "source": [
    "model_svc.score(x_val,y_val)"
   ]
  },
  {
   "cell_type": "code",
   "execution_count": 58,
   "metadata": {},
   "outputs": [
    {
     "data": {
      "text/plain": [
       "<sklearn.metrics._plot.roc_curve.RocCurveDisplay at 0x23e8d63d9d0>"
      ]
     },
     "execution_count": 58,
     "metadata": {},
     "output_type": "execute_result"
    },
    {
     "data": {
      "image/png": "[encoded data removed]",
      "text/plain": [
       "<Figure size 432x288 with 1 Axes>"
      ]
     },
     "metadata": {
      "needs_background": "light"
     },
     "output_type": "display_data"
    }
   ],
   "source": [
    "metrics.plot_roc_curve(model_svc, x_val, y_val)"
   ]
  },
  {
   "cell_type": "code",
   "execution_count": 59,
   "metadata": {},
   "outputs": [
    {
     "name": "stdout",
     "output_type": "stream",
     "text": [
      "classification_report: \n",
      "               precision    recall  f1-score   support\n",
      "\n",
      "           0       0.71      0.79      0.75       128\n",
      "           1       0.76      0.67      0.71       128\n",
      "\n",
      "    accuracy                           0.73       256\n",
      "   macro avg       0.73      0.73      0.73       256\n",
      "weighted avg       0.73      0.73      0.73       256\n",
      "\n"
     ]
    }
   ],
   "source": [
    "print('classification_report: \\n',metrics.classification_report(y_val, model_svc.predict(x_val)))"
   ]
  },
  {
   "cell_type": "code",
   "execution_count": 60,
   "metadata": {},
   "outputs": [
    {
     "data": {
      "image/png": "[encoded data removed]",
      "text/plain": [
       "<Figure size 504x504 with 2 Axes>"
      ]
     },
     "metadata": {
      "needs_background": "light"
     },
     "output_type": "display_data"
    }
   ],
   "source": [
    "svc = confusion_matrix(y_val, model_svc.predict(x_val))\n",
    "fig, ax = plt.subplots(1,1, figsize = (7,7), constrained_layout = True)\n",
    "\n",
    "sns.heatmap(svc, annot = True, cmap = 'Blues', ax = ax, center = 0, annot_kws={'fontsize': 15})\n",
    "ax.set_ylabel('Actual', fontsize = 15)\n",
    "ax.set_xlabel('Prediction', fontsize = 15)\n",
    "plt.show()"
   ]
  },
  {
   "cell_type": "code",
   "execution_count": 61,
   "metadata": {},
   "outputs": [
    {
     "data": {
      "text/html": [
       "<div>\n",
       "<style scoped>\n",
       "    .dataframe tbody tr th:only-of-type {\n",
       "        vertical-align: middle;\n",
       "    }\n",
       "\n",
       "    .dataframe tbody tr th {\n",
       "        vertical-align: top;\n",
       "    }\n",
       "\n",
       "    .dataframe thead th {\n",
       "        text-align: right;\n",
       "    }\n",
       "</style>\n",
       "<table border=\"1\" class=\"dataframe\">\n",
       "  <thead>\n",
       "    <tr style=\"text-align: right;\">\n",
       "      <th></th>\n",
       "      <th>Precision</th>\n",
       "      <th>Recall</th>\n",
       "      <th>F1_score</th>\n",
       "    </tr>\n",
       "  </thead>\n",
       "  <tbody>\n",
       "    <tr>\n",
       "      <th>0</th>\n",
       "      <td>0.761062</td>\n",
       "      <td>0.671875</td>\n",
       "      <td>0.713693</td>\n",
       "    </tr>\n",
       "  </tbody>\n",
       "</table>\n",
       "</div>"
      ],
      "text/plain": [
       "   Precision    Recall  F1_score\n",
       "0   0.761062  0.671875  0.713693"
      ]
     },
     "execution_count": 61,
     "metadata": {},
     "output_type": "execute_result"
    }
   ],
   "source": [
    "from sklearn.metrics import precision_score, recall_score, f1_score\n",
    "precision  = precision_score(y_val, model_svc.predict(x_val))\n",
    " \n",
    "recall = recall_score(y_val, model_svc.predict(x_val))\n",
    "\n",
    "f1_score = f1_score(y_val, model_svc.predict(x_val))\n",
    "\n",
    "df_metrics_svc = pd.DataFrame({'Precision': [precision], \"Recall\": [recall], 'F1_score': [f1_score]})\n",
    "df_metrics_svc"
   ]
  },
  {
   "cell_type": "markdown",
   "metadata": {},
   "source": [
    "Compare to logistic regression, SVM is doing well\n",
    "\n",
    "The precision and recall are ok when compare to logistic regression\n",
    "\n",
    "accuracy of valdiation data = 75%\n",
    "\n",
    "Flase Neagative is 37 is 10% higher then Flase positive\n",
    "\n",
    "True positive = 91\n",
    "\n",
    "True Negative = 100\n",
    "\n",
    "False Postive = 27\n",
    "\n",
    "False Negative  = 37\n"
   ]
  },
  {
   "cell_type": "markdown",
   "metadata": {},
   "source": [
    "# Neural Network"
   ]
  },
  {
   "cell_type": "markdown",
   "metadata": {},
   "source": [
    "I usually use Neauarl Network\n",
    "\n",
    "because it can be used when there is higher number of features \n",
    "\n",
    "neural network learn more complex featues from input\n",
    "\n",
    "Here \n",
    "\n",
    "input layer with activation function relu where it avoids the slop leads to zero when Z is highe and lower\n",
    "\n",
    "2 Hidden layer same relu activation\n",
    "\n",
    "1 output layer activation sigmoid because this problem is binary class\n",
    "\n",
    "lambda = 0.001\n",
    "\n",
    "epochs (iteration) = 150\n",
    "\n",
    "optimizer = Adam because it has both advantages of RMs and gradient descent with momentum\n",
    "\n",
    "loss = binary_crossentropy\n",
    "\n"
   ]
  },
  {
   "cell_type": "code",
   "execution_count": 62,
   "metadata": {},
   "outputs": [
    {
     "name": "stdout",
     "output_type": "stream",
     "text": [
      "Model: \"sequential\"\n",
      "_________________________________________________________________\n",
      "Layer (type)                 Output Shape              Param #   \n",
      "=================================================================\n",
      "dense (Dense)                (None, 212)               1908      \n",
      "_________________________________________________________________\n",
      "dense_1 (Dense)              (None, 121)               25773     \n",
      "_________________________________________________________________\n",
      "dense_2 (Dense)              (None, 10)                1220      \n",
      "_________________________________________________________________\n",
      "dense_3 (Dense)              (None, 1)                 11        \n",
      "=================================================================\n",
      "Total params: 28,912\n",
      "Trainable params: 28,912\n",
      "Non-trainable params: 0\n",
      "_________________________________________________________________\n"
     ]
    }
   ],
   "source": [
    "model = tf.keras.models.Sequential([tf.keras.layers.Dense(212, input_shape=(8,),activation = 'relu', kernel_regularizer = tf.keras.regularizers.L2(0.001)),\n",
    "                                   tf.keras.layers.Dense(121, activation = 'relu', kernel_regularizer = tf.keras.regularizers.L2(0.001)),\n",
    "                                   tf.keras.layers.Dense(10, activation = 'relu', kernel_regularizer = tf.keras.regularizers.L2(0.001)),\n",
    "                                   tf.keras.layers.Dense(1, activation = 'sigmoid', kernel_regularizer = tf.keras.regularizers.L2(0.001))])\n",
    "\n",
    "\n",
    "model.compile(loss = tf.keras.losses.binary_crossentropy, optimizer = 'adam', metrics = ['accuracy'])\n",
    "\n",
    "\n",
    "model.summary()"
   ]
  },
  {
   "cell_type": "code",
   "execution_count": 63,
   "metadata": {},
   "outputs": [
    {
     "name": "stdout",
     "output_type": "stream",
     "text": [
      "Epoch 1/150\n",
      "72/72 [==============================] - 2s 15ms/step - loss: 0.7838 - accuracy: 0.6681 - val_loss: 0.6680 - val_accuracy: 0.7344\n",
      "Epoch 2/150\n",
      "72/72 [==============================] - 0s 2ms/step - loss: 0.6342 - accuracy: 0.7528 - val_loss: 0.6239 - val_accuracy: 0.7422\n",
      "Epoch 3/150\n",
      "72/72 [==============================] - 0s 2ms/step - loss: 0.6007 - accuracy: 0.7575 - val_loss: 0.6168 - val_accuracy: 0.7578\n",
      "Epoch 4/150\n",
      "72/72 [==============================] - 0s 2ms/step - loss: 0.5953 - accuracy: 0.7465 - val_loss: 0.6005 - val_accuracy: 0.7461\n",
      "Epoch 5/150\n",
      "72/72 [==============================] - 0s 2ms/step - loss: 0.5767 - accuracy: 0.7583 - val_loss: 0.5926 - val_accuracy: 0.7539\n",
      "Epoch 6/150\n",
      "72/72 [==============================] - 0s 2ms/step - loss: 0.5524 - accuracy: 0.7601 - val_loss: 0.5833 - val_accuracy: 0.7383\n",
      "Epoch 7/150\n",
      "72/72 [==============================] - 0s 2ms/step - loss: 0.5388 - accuracy: 0.7653 - val_loss: 0.5878 - val_accuracy: 0.7578\n",
      "Epoch 8/150\n",
      "72/72 [==============================] - 0s 2ms/step - loss: 0.5154 - accuracy: 0.7882 - val_loss: 0.5782 - val_accuracy: 0.7461\n",
      "Epoch 9/150\n",
      "72/72 [==============================] - 0s 2ms/step - loss: 0.5438 - accuracy: 0.7685 - val_loss: 0.5762 - val_accuracy: 0.7383\n",
      "Epoch 10/150\n",
      "72/72 [==============================] - 0s 2ms/step - loss: 0.5194 - accuracy: 0.7846 - val_loss: 0.5721 - val_accuracy: 0.7500\n",
      "Epoch 11/150\n",
      "72/72 [==============================] - 0s 2ms/step - loss: 0.5044 - accuracy: 0.7913 - val_loss: 0.5604 - val_accuracy: 0.7344\n",
      "Epoch 12/150\n",
      "72/72 [==============================] - 0s 2ms/step - loss: 0.5222 - accuracy: 0.7675 - val_loss: 0.5671 - val_accuracy: 0.7500\n",
      "Epoch 13/150\n",
      "72/72 [==============================] - 0s 2ms/step - loss: 0.5114 - accuracy: 0.7815 - val_loss: 0.5724 - val_accuracy: 0.7539\n",
      "Epoch 14/150\n",
      "72/72 [==============================] - 0s 2ms/step - loss: 0.4990 - accuracy: 0.7835 - val_loss: 0.5597 - val_accuracy: 0.7539\n",
      "Epoch 15/150\n",
      "72/72 [==============================] - 0s 2ms/step - loss: 0.4955 - accuracy: 0.7823 - val_loss: 0.5669 - val_accuracy: 0.7578\n",
      "Epoch 16/150\n",
      "72/72 [==============================] - 0s 2ms/step - loss: 0.5005 - accuracy: 0.7770 - val_loss: 0.5602 - val_accuracy: 0.7266\n",
      "Epoch 17/150\n",
      "72/72 [==============================] - 0s 2ms/step - loss: 0.4822 - accuracy: 0.7835 - val_loss: 0.5639 - val_accuracy: 0.7344\n",
      "Epoch 18/150\n",
      "72/72 [==============================] - 0s 2ms/step - loss: 0.4741 - accuracy: 0.7933 - val_loss: 0.5509 - val_accuracy: 0.7266\n",
      "Epoch 19/150\n",
      "72/72 [==============================] - 0s 2ms/step - loss: 0.4786 - accuracy: 0.7927 - val_loss: 0.5634 - val_accuracy: 0.7461\n",
      "Epoch 20/150\n",
      "72/72 [==============================] - 0s 2ms/step - loss: 0.5012 - accuracy: 0.7882 - val_loss: 0.5604 - val_accuracy: 0.7305\n",
      "Epoch 21/150\n",
      "72/72 [==============================] - 0s 2ms/step - loss: 0.4870 - accuracy: 0.7858 - val_loss: 0.5546 - val_accuracy: 0.7656\n",
      "Epoch 22/150\n",
      "72/72 [==============================] - 0s 2ms/step - loss: 0.4896 - accuracy: 0.7969 - val_loss: 0.5539 - val_accuracy: 0.7539\n",
      "Epoch 23/150\n",
      "72/72 [==============================] - 0s 2ms/step - loss: 0.5131 - accuracy: 0.7761 - val_loss: 0.5621 - val_accuracy: 0.7422\n",
      "Epoch 24/150\n",
      "72/72 [==============================] - 0s 2ms/step - loss: 0.4836 - accuracy: 0.7879 - val_loss: 0.5594 - val_accuracy: 0.7227\n",
      "Epoch 25/150\n",
      "72/72 [==============================] - 0s 2ms/step - loss: 0.4840 - accuracy: 0.7917 - val_loss: 0.5587 - val_accuracy: 0.7188\n",
      "Epoch 26/150\n",
      "72/72 [==============================] - 0s 2ms/step - loss: 0.4877 - accuracy: 0.8013 - val_loss: 0.5623 - val_accuracy: 0.7461\n",
      "Epoch 27/150\n",
      "72/72 [==============================] - 0s 2ms/step - loss: 0.4851 - accuracy: 0.7880 - val_loss: 0.5502 - val_accuracy: 0.7266\n",
      "Epoch 28/150\n",
      "72/72 [==============================] - 0s 2ms/step - loss: 0.4925 - accuracy: 0.7869 - val_loss: 0.5566 - val_accuracy: 0.7422\n",
      "Epoch 29/150\n",
      "72/72 [==============================] - 0s 2ms/step - loss: 0.4818 - accuracy: 0.7829 - val_loss: 0.5731 - val_accuracy: 0.7227\n",
      "Epoch 30/150\n",
      "72/72 [==============================] - 0s 2ms/step - loss: 0.4671 - accuracy: 0.7909 - val_loss: 0.5620 - val_accuracy: 0.7461\n",
      "Epoch 31/150\n",
      "72/72 [==============================] - 0s 2ms/step - loss: 0.4628 - accuracy: 0.8031 - val_loss: 0.5665 - val_accuracy: 0.7500\n",
      "Epoch 32/150\n",
      "72/72 [==============================] - 0s 2ms/step - loss: 0.4623 - accuracy: 0.8033 - val_loss: 0.5629 - val_accuracy: 0.7344\n",
      "Epoch 33/150\n",
      "72/72 [==============================] - 0s 2ms/step - loss: 0.4586 - accuracy: 0.8055 - val_loss: 0.5551 - val_accuracy: 0.7500\n",
      "Epoch 34/150\n",
      "72/72 [==============================] - 0s 2ms/step - loss: 0.4600 - accuracy: 0.7967 - val_loss: 0.5857 - val_accuracy: 0.7344\n",
      "Epoch 35/150\n",
      "72/72 [==============================] - 0s 2ms/step - loss: 0.4439 - accuracy: 0.8179 - val_loss: 0.5519 - val_accuracy: 0.7539\n",
      "Epoch 36/150\n",
      "72/72 [==============================] - 0s 2ms/step - loss: 0.4552 - accuracy: 0.8169 - val_loss: 0.5726 - val_accuracy: 0.7188\n",
      "Epoch 37/150\n",
      "72/72 [==============================] - 0s 2ms/step - loss: 0.4814 - accuracy: 0.7859 - val_loss: 0.5883 - val_accuracy: 0.7422\n",
      "Epoch 38/150\n",
      "72/72 [==============================] - 0s 2ms/step - loss: 0.4531 - accuracy: 0.8101 - val_loss: 0.5677 - val_accuracy: 0.7305\n",
      "Epoch 39/150\n",
      "72/72 [==============================] - 0s 2ms/step - loss: 0.4642 - accuracy: 0.8076 - val_loss: 0.5762 - val_accuracy: 0.7383\n",
      "Epoch 40/150\n",
      "72/72 [==============================] - 0s 2ms/step - loss: 0.4546 - accuracy: 0.8051 - val_loss: 0.5677 - val_accuracy: 0.7227\n",
      "Epoch 41/150\n",
      "72/72 [==============================] - 0s 2ms/step - loss: 0.4618 - accuracy: 0.8157 - val_loss: 0.5808 - val_accuracy: 0.7461\n",
      "Epoch 42/150\n",
      "72/72 [==============================] - 0s 2ms/step - loss: 0.4415 - accuracy: 0.8137 - val_loss: 0.5862 - val_accuracy: 0.7266\n",
      "Epoch 43/150\n",
      "72/72 [==============================] - 0s 2ms/step - loss: 0.4696 - accuracy: 0.8085 - val_loss: 0.5917 - val_accuracy: 0.7578\n",
      "Epoch 44/150\n",
      "72/72 [==============================] - 0s 2ms/step - loss: 0.4589 - accuracy: 0.8121 - val_loss: 0.5714 - val_accuracy: 0.7500\n",
      "Epoch 45/150\n",
      "72/72 [==============================] - 0s 2ms/step - loss: 0.4638 - accuracy: 0.7999 - val_loss: 0.5918 - val_accuracy: 0.7266\n",
      "Epoch 46/150\n",
      "72/72 [==============================] - 0s 2ms/step - loss: 0.4470 - accuracy: 0.8182 - val_loss: 0.5654 - val_accuracy: 0.7266\n",
      "Epoch 47/150\n",
      "72/72 [==============================] - 0s 2ms/step - loss: 0.4626 - accuracy: 0.8097 - val_loss: 0.5845 - val_accuracy: 0.7344\n",
      "Epoch 48/150\n",
      "72/72 [==============================] - 0s 2ms/step - loss: 0.4470 - accuracy: 0.8264 - val_loss: 0.5940 - val_accuracy: 0.7266\n",
      "Epoch 49/150\n",
      "72/72 [==============================] - 0s 2ms/step - loss: 0.4584 - accuracy: 0.8035 - val_loss: 0.6035 - val_accuracy: 0.7305\n",
      "Epoch 50/150\n",
      "72/72 [==============================] - 0s 2ms/step - loss: 0.4508 - accuracy: 0.8241 - val_loss: 0.6091 - val_accuracy: 0.7383\n",
      "Epoch 51/150\n",
      "72/72 [==============================] - 0s 2ms/step - loss: 0.4457 - accuracy: 0.8092 - val_loss: 0.5863 - val_accuracy: 0.7305\n",
      "Epoch 52/150\n",
      "72/72 [==============================] - 0s 2ms/step - loss: 0.4443 - accuracy: 0.8020 - val_loss: 0.5737 - val_accuracy: 0.7422\n",
      "Epoch 53/150\n",
      "72/72 [==============================] - 0s 2ms/step - loss: 0.4595 - accuracy: 0.8100 - val_loss: 0.5837 - val_accuracy: 0.7578\n",
      "Epoch 54/150\n",
      "72/72 [==============================] - 0s 2ms/step - loss: 0.4666 - accuracy: 0.8031 - val_loss: 0.5802 - val_accuracy: 0.7461\n",
      "Epoch 55/150\n",
      "72/72 [==============================] - 0s 2ms/step - loss: 0.4382 - accuracy: 0.8162 - val_loss: 0.5803 - val_accuracy: 0.7500\n",
      "Epoch 56/150\n",
      "72/72 [==============================] - 0s 2ms/step - loss: 0.4216 - accuracy: 0.8290 - val_loss: 0.5991 - val_accuracy: 0.7539\n",
      "Epoch 57/150\n",
      "72/72 [==============================] - 0s 2ms/step - loss: 0.4655 - accuracy: 0.7980 - val_loss: 0.5791 - val_accuracy: 0.7500\n",
      "Epoch 58/150\n",
      "72/72 [==============================] - 0s 2ms/step - loss: 0.4550 - accuracy: 0.8198 - val_loss: 0.5885 - val_accuracy: 0.7305\n"
     ]
    },
    {
     "name": "stdout",
     "output_type": "stream",
     "text": [
      "Epoch 59/150\n",
      "72/72 [==============================] - 0s 2ms/step - loss: 0.4433 - accuracy: 0.8135 - val_loss: 0.5889 - val_accuracy: 0.7461\n",
      "Epoch 60/150\n",
      "72/72 [==============================] - 0s 2ms/step - loss: 0.4420 - accuracy: 0.8255 - val_loss: 0.5924 - val_accuracy: 0.7461\n",
      "Epoch 61/150\n",
      "72/72 [==============================] - 0s 2ms/step - loss: 0.4280 - accuracy: 0.8331 - val_loss: 0.5840 - val_accuracy: 0.7461\n",
      "Epoch 62/150\n",
      "72/72 [==============================] - 0s 2ms/step - loss: 0.4288 - accuracy: 0.8313 - val_loss: 0.5988 - val_accuracy: 0.7383\n",
      "Epoch 63/150\n",
      "72/72 [==============================] - 0s 2ms/step - loss: 0.4454 - accuracy: 0.8160 - val_loss: 0.6020 - val_accuracy: 0.7422\n",
      "Epoch 64/150\n",
      "72/72 [==============================] - 0s 2ms/step - loss: 0.4449 - accuracy: 0.8189 - val_loss: 0.5940 - val_accuracy: 0.7656\n",
      "Epoch 65/150\n",
      "72/72 [==============================] - 0s 2ms/step - loss: 0.4363 - accuracy: 0.8245 - val_loss: 0.6203 - val_accuracy: 0.7422\n",
      "Epoch 66/150\n",
      "72/72 [==============================] - 0s 2ms/step - loss: 0.4231 - accuracy: 0.8266 - val_loss: 0.6088 - val_accuracy: 0.7344\n",
      "Epoch 67/150\n",
      "72/72 [==============================] - 0s 2ms/step - loss: 0.4227 - accuracy: 0.8279 - val_loss: 0.6037 - val_accuracy: 0.7539\n",
      "Epoch 68/150\n",
      "72/72 [==============================] - 0s 2ms/step - loss: 0.4180 - accuracy: 0.8288 - val_loss: 0.5861 - val_accuracy: 0.7656\n",
      "Epoch 69/150\n",
      "72/72 [==============================] - 0s 2ms/step - loss: 0.4329 - accuracy: 0.8335 - val_loss: 0.5894 - val_accuracy: 0.7539\n",
      "Epoch 70/150\n",
      "72/72 [==============================] - 0s 2ms/step - loss: 0.4218 - accuracy: 0.8363 - val_loss: 0.5894 - val_accuracy: 0.7188\n",
      "Epoch 71/150\n",
      "72/72 [==============================] - 0s 2ms/step - loss: 0.4282 - accuracy: 0.8337 - val_loss: 0.6122 - val_accuracy: 0.7383\n",
      "Epoch 72/150\n",
      "72/72 [==============================] - 0s 2ms/step - loss: 0.4319 - accuracy: 0.8241 - val_loss: 0.6114 - val_accuracy: 0.7500\n",
      "Epoch 73/150\n",
      "72/72 [==============================] - 0s 2ms/step - loss: 0.4421 - accuracy: 0.8100 - val_loss: 0.6212 - val_accuracy: 0.7539\n",
      "Epoch 74/150\n",
      "72/72 [==============================] - 0s 2ms/step - loss: 0.4393 - accuracy: 0.8229 - val_loss: 0.6044 - val_accuracy: 0.7695\n",
      "Epoch 75/150\n",
      "72/72 [==============================] - 0s 2ms/step - loss: 0.4262 - accuracy: 0.8269 - val_loss: 0.6031 - val_accuracy: 0.7578\n",
      "Epoch 76/150\n",
      "72/72 [==============================] - 0s 2ms/step - loss: 0.4349 - accuracy: 0.8226 - val_loss: 0.5999 - val_accuracy: 0.7656\n",
      "Epoch 77/150\n",
      "72/72 [==============================] - 0s 2ms/step - loss: 0.4177 - accuracy: 0.8330 - val_loss: 0.5965 - val_accuracy: 0.7500\n",
      "Epoch 78/150\n",
      "72/72 [==============================] - 0s 2ms/step - loss: 0.4390 - accuracy: 0.8235 - val_loss: 0.6040 - val_accuracy: 0.7539\n",
      "Epoch 79/150\n",
      "72/72 [==============================] - 0s 2ms/step - loss: 0.4366 - accuracy: 0.8216 - val_loss: 0.6228 - val_accuracy: 0.7461\n",
      "Epoch 80/150\n",
      "72/72 [==============================] - 0s 2ms/step - loss: 0.4305 - accuracy: 0.8238 - val_loss: 0.6020 - val_accuracy: 0.7305\n",
      "Epoch 81/150\n",
      "72/72 [==============================] - 0s 2ms/step - loss: 0.4329 - accuracy: 0.8216 - val_loss: 0.6050 - val_accuracy: 0.7695\n",
      "Epoch 82/150\n",
      "72/72 [==============================] - 0s 2ms/step - loss: 0.4424 - accuracy: 0.8257 - val_loss: 0.5948 - val_accuracy: 0.7578\n",
      "Epoch 83/150\n",
      "72/72 [==============================] - 0s 2ms/step - loss: 0.4155 - accuracy: 0.8350 - val_loss: 0.5992 - val_accuracy: 0.7344\n",
      "Epoch 84/150\n",
      "72/72 [==============================] - 0s 2ms/step - loss: 0.4311 - accuracy: 0.8313 - val_loss: 0.5995 - val_accuracy: 0.7227\n",
      "Epoch 85/150\n",
      "72/72 [==============================] - 0s 2ms/step - loss: 0.4247 - accuracy: 0.8286 - val_loss: 0.6024 - val_accuracy: 0.7656\n",
      "Epoch 86/150\n",
      "72/72 [==============================] - 0s 2ms/step - loss: 0.4308 - accuracy: 0.8337 - val_loss: 0.6166 - val_accuracy: 0.7578\n",
      "Epoch 87/150\n",
      "72/72 [==============================] - 0s 2ms/step - loss: 0.4303 - accuracy: 0.8242 - val_loss: 0.6195 - val_accuracy: 0.7500\n",
      "Epoch 88/150\n",
      "72/72 [==============================] - 0s 2ms/step - loss: 0.4479 - accuracy: 0.8298 - val_loss: 0.6294 - val_accuracy: 0.7422\n",
      "Epoch 89/150\n",
      "72/72 [==============================] - 0s 2ms/step - loss: 0.4162 - accuracy: 0.8381 - val_loss: 0.6248 - val_accuracy: 0.7461\n",
      "Epoch 90/150\n",
      "72/72 [==============================] - 0s 2ms/step - loss: 0.4393 - accuracy: 0.8240 - val_loss: 0.6016 - val_accuracy: 0.7500\n",
      "Epoch 91/150\n",
      "72/72 [==============================] - 0s 2ms/step - loss: 0.4243 - accuracy: 0.8416 - val_loss: 0.5946 - val_accuracy: 0.6992\n",
      "Epoch 92/150\n",
      "72/72 [==============================] - 0s 2ms/step - loss: 0.4179 - accuracy: 0.8232 - val_loss: 0.6437 - val_accuracy: 0.7578\n",
      "Epoch 93/150\n",
      "72/72 [==============================] - 0s 2ms/step - loss: 0.4372 - accuracy: 0.8236 - val_loss: 0.6052 - val_accuracy: 0.7344\n",
      "Epoch 94/150\n",
      "72/72 [==============================] - 0s 2ms/step - loss: 0.4390 - accuracy: 0.8262 - val_loss: 0.6071 - val_accuracy: 0.7617\n",
      "Epoch 95/150\n",
      "72/72 [==============================] - 0s 2ms/step - loss: 0.4295 - accuracy: 0.8278 - val_loss: 0.6148 - val_accuracy: 0.7539\n",
      "Epoch 96/150\n",
      "72/72 [==============================] - 0s 2ms/step - loss: 0.4221 - accuracy: 0.8390 - val_loss: 0.5981 - val_accuracy: 0.7539\n",
      "Epoch 97/150\n",
      "72/72 [==============================] - 0s 2ms/step - loss: 0.4025 - accuracy: 0.8446 - val_loss: 0.6120 - val_accuracy: 0.7500\n",
      "Epoch 98/150\n",
      "72/72 [==============================] - 0s 2ms/step - loss: 0.4240 - accuracy: 0.8293 - val_loss: 0.6229 - val_accuracy: 0.7266\n",
      "Epoch 99/150\n",
      "72/72 [==============================] - 0s 2ms/step - loss: 0.4001 - accuracy: 0.8466 - val_loss: 0.6102 - val_accuracy: 0.7617\n",
      "Epoch 100/150\n",
      "72/72 [==============================] - 0s 2ms/step - loss: 0.4089 - accuracy: 0.8450 - val_loss: 0.6231 - val_accuracy: 0.7578\n",
      "Epoch 101/150\n",
      "72/72 [==============================] - 0s 2ms/step - loss: 0.4374 - accuracy: 0.8256 - val_loss: 0.6162 - val_accuracy: 0.7617\n",
      "Epoch 102/150\n",
      "72/72 [==============================] - 0s 2ms/step - loss: 0.4215 - accuracy: 0.8353 - val_loss: 0.6171 - val_accuracy: 0.7188\n",
      "Epoch 103/150\n",
      "72/72 [==============================] - 0s 2ms/step - loss: 0.4247 - accuracy: 0.8316 - val_loss: 0.6178 - val_accuracy: 0.7656\n",
      "Epoch 104/150\n",
      "72/72 [==============================] - 0s 2ms/step - loss: 0.4295 - accuracy: 0.8193 - val_loss: 0.6232 - val_accuracy: 0.7461\n",
      "Epoch 105/150\n",
      "72/72 [==============================] - 0s 2ms/step - loss: 0.4265 - accuracy: 0.8382 - val_loss: 0.6146 - val_accuracy: 0.7148\n",
      "Epoch 106/150\n",
      "72/72 [==============================] - 0s 2ms/step - loss: 0.4263 - accuracy: 0.8362 - val_loss: 0.6303 - val_accuracy: 0.7500\n",
      "Epoch 107/150\n",
      "72/72 [==============================] - 0s 2ms/step - loss: 0.4140 - accuracy: 0.8355 - val_loss: 0.6089 - val_accuracy: 0.7539\n",
      "Epoch 108/150\n",
      "72/72 [==============================] - 0s 2ms/step - loss: 0.4147 - accuracy: 0.8365 - val_loss: 0.6242 - val_accuracy: 0.7422\n",
      "Epoch 109/150\n",
      "72/72 [==============================] - 0s 2ms/step - loss: 0.4088 - accuracy: 0.8360 - val_loss: 0.6137 - val_accuracy: 0.7422\n",
      "Epoch 110/150\n",
      "72/72 [==============================] - 0s 2ms/step - loss: 0.4168 - accuracy: 0.8293 - val_loss: 0.6285 - val_accuracy: 0.7422\n",
      "Epoch 111/150\n",
      "72/72 [==============================] - 0s 2ms/step - loss: 0.4067 - accuracy: 0.8409 - val_loss: 0.6391 - val_accuracy: 0.7344\n",
      "Epoch 112/150\n",
      "72/72 [==============================] - 0s 2ms/step - loss: 0.4010 - accuracy: 0.8448 - val_loss: 0.6131 - val_accuracy: 0.7461\n",
      "Epoch 113/150\n",
      "72/72 [==============================] - 0s 2ms/step - loss: 0.4204 - accuracy: 0.8318 - val_loss: 0.6249 - val_accuracy: 0.7422\n",
      "Epoch 114/150\n",
      "72/72 [==============================] - 0s 2ms/step - loss: 0.3999 - accuracy: 0.8442 - val_loss: 0.6188 - val_accuracy: 0.7344\n",
      "Epoch 115/150\n",
      "72/72 [==============================] - 0s 2ms/step - loss: 0.4005 - accuracy: 0.8577 - val_loss: 0.6315 - val_accuracy: 0.7344\n",
      "Epoch 116/150\n"
     ]
    },
    {
     "name": "stdout",
     "output_type": "stream",
     "text": [
      "72/72 [==============================] - 0s 2ms/step - loss: 0.3966 - accuracy: 0.8544 - val_loss: 0.6178 - val_accuracy: 0.7070\n",
      "Epoch 117/150\n",
      "72/72 [==============================] - 0s 2ms/step - loss: 0.4145 - accuracy: 0.8279 - val_loss: 0.6323 - val_accuracy: 0.7305\n",
      "Epoch 118/150\n",
      "72/72 [==============================] - 0s 2ms/step - loss: 0.4050 - accuracy: 0.8502 - val_loss: 0.6427 - val_accuracy: 0.7188\n",
      "Epoch 119/150\n",
      "72/72 [==============================] - 0s 2ms/step - loss: 0.4226 - accuracy: 0.8393 - val_loss: 0.6134 - val_accuracy: 0.7188\n",
      "Epoch 120/150\n",
      "72/72 [==============================] - 0s 2ms/step - loss: 0.4228 - accuracy: 0.8438 - val_loss: 0.6354 - val_accuracy: 0.7539\n",
      "Epoch 121/150\n",
      "72/72 [==============================] - 0s 2ms/step - loss: 0.4050 - accuracy: 0.8393 - val_loss: 0.6169 - val_accuracy: 0.7422\n",
      "Epoch 122/150\n",
      "72/72 [==============================] - 0s 2ms/step - loss: 0.3966 - accuracy: 0.8555 - val_loss: 0.6397 - val_accuracy: 0.7031\n",
      "Epoch 123/150\n",
      "72/72 [==============================] - 0s 2ms/step - loss: 0.4074 - accuracy: 0.8362 - val_loss: 0.6327 - val_accuracy: 0.7422\n",
      "Epoch 124/150\n",
      "72/72 [==============================] - 0s 2ms/step - loss: 0.4181 - accuracy: 0.8393 - val_loss: 0.6366 - val_accuracy: 0.7617\n",
      "Epoch 125/150\n",
      "72/72 [==============================] - 0s 2ms/step - loss: 0.4012 - accuracy: 0.8395 - val_loss: 0.6201 - val_accuracy: 0.7500\n",
      "Epoch 126/150\n",
      "72/72 [==============================] - 0s 2ms/step - loss: 0.4172 - accuracy: 0.8391 - val_loss: 0.6325 - val_accuracy: 0.7617\n",
      "Epoch 127/150\n",
      "72/72 [==============================] - 0s 2ms/step - loss: 0.4101 - accuracy: 0.8377 - val_loss: 0.6338 - val_accuracy: 0.7188\n",
      "Epoch 128/150\n",
      "72/72 [==============================] - 0s 2ms/step - loss: 0.4077 - accuracy: 0.8411 - val_loss: 0.6213 - val_accuracy: 0.7344\n",
      "Epoch 129/150\n",
      "72/72 [==============================] - 0s 2ms/step - loss: 0.4073 - accuracy: 0.8430 - val_loss: 0.6240 - val_accuracy: 0.7344\n",
      "Epoch 130/150\n",
      "72/72 [==============================] - 0s 2ms/step - loss: 0.3879 - accuracy: 0.8556 - val_loss: 0.6328 - val_accuracy: 0.7188\n",
      "Epoch 131/150\n",
      "72/72 [==============================] - 0s 2ms/step - loss: 0.3950 - accuracy: 0.8549 - val_loss: 0.6396 - val_accuracy: 0.7617\n",
      "Epoch 132/150\n",
      "72/72 [==============================] - 0s 2ms/step - loss: 0.4143 - accuracy: 0.8361 - val_loss: 0.6400 - val_accuracy: 0.7578\n",
      "Epoch 133/150\n",
      "72/72 [==============================] - 0s 2ms/step - loss: 0.4261 - accuracy: 0.8233 - val_loss: 0.6206 - val_accuracy: 0.7344\n",
      "Epoch 134/150\n",
      "72/72 [==============================] - 0s 2ms/step - loss: 0.4190 - accuracy: 0.8452 - val_loss: 0.6328 - val_accuracy: 0.7578\n",
      "Epoch 135/150\n",
      "72/72 [==============================] - 0s 2ms/step - loss: 0.4179 - accuracy: 0.8365 - val_loss: 0.6329 - val_accuracy: 0.7500\n",
      "Epoch 136/150\n",
      "72/72 [==============================] - 0s 2ms/step - loss: 0.4086 - accuracy: 0.8331 - val_loss: 0.6244 - val_accuracy: 0.7500\n",
      "Epoch 137/150\n",
      "72/72 [==============================] - 0s 2ms/step - loss: 0.3939 - accuracy: 0.8514 - val_loss: 0.6246 - val_accuracy: 0.7383\n",
      "Epoch 138/150\n",
      "72/72 [==============================] - ETA: 0s - loss: 0.3998 - accuracy: 0.84 - 0s 2ms/step - loss: 0.4007 - accuracy: 0.8484 - val_loss: 0.6260 - val_accuracy: 0.7578\n",
      "Epoch 139/150\n",
      "72/72 [==============================] - 0s 2ms/step - loss: 0.4128 - accuracy: 0.8511 - val_loss: 0.6319 - val_accuracy: 0.7422\n",
      "Epoch 140/150\n",
      "72/72 [==============================] - 0s 2ms/step - loss: 0.3977 - accuracy: 0.8396 - val_loss: 0.6343 - val_accuracy: 0.7539\n",
      "Epoch 141/150\n",
      "72/72 [==============================] - 0s 2ms/step - loss: 0.4000 - accuracy: 0.8437 - val_loss: 0.6328 - val_accuracy: 0.7383\n",
      "Epoch 142/150\n",
      "72/72 [==============================] - 0s 2ms/step - loss: 0.4137 - accuracy: 0.8419 - val_loss: 0.6349 - val_accuracy: 0.7422\n",
      "Epoch 143/150\n",
      "72/72 [==============================] - 0s 2ms/step - loss: 0.4003 - accuracy: 0.8538 - val_loss: 0.6320 - val_accuracy: 0.7188\n",
      "Epoch 144/150\n",
      "72/72 [==============================] - 0s 2ms/step - loss: 0.3983 - accuracy: 0.8567 - val_loss: 0.6243 - val_accuracy: 0.7383\n",
      "Epoch 145/150\n",
      "72/72 [==============================] - 0s 2ms/step - loss: 0.3923 - accuracy: 0.8585 - val_loss: 0.6150 - val_accuracy: 0.7344\n",
      "Epoch 146/150\n",
      "72/72 [==============================] - 0s 2ms/step - loss: 0.3994 - accuracy: 0.8488 - val_loss: 0.6350 - val_accuracy: 0.7500\n",
      "Epoch 147/150\n",
      "72/72 [==============================] - 0s 2ms/step - loss: 0.3883 - accuracy: 0.8557 - val_loss: 0.6260 - val_accuracy: 0.7383\n",
      "Epoch 148/150\n",
      "72/72 [==============================] - 0s 2ms/step - loss: 0.4065 - accuracy: 0.8447 - val_loss: 0.6433 - val_accuracy: 0.7305\n",
      "Epoch 149/150\n",
      "72/72 [==============================] - 0s 2ms/step - loss: 0.4120 - accuracy: 0.8330 - val_loss: 0.6290 - val_accuracy: 0.7461\n",
      "Epoch 150/150\n",
      "72/72 [==============================] - 0s 2ms/step - loss: 0.3963 - accuracy: 0.8465 - val_loss: 0.6305 - val_accuracy: 0.7383\n"
     ]
    }
   ],
   "source": [
    "geo = model.fit(x_train,y_train, validation_data = (x_val,y_val), epochs = 150)"
   ]
  },
  {
   "cell_type": "code",
   "execution_count": 64,
   "metadata": {},
   "outputs": [
    {
     "data": {
      "image/png": "[encoded data removed]",
      "text/plain": [
       "<Figure size 1080x360 with 2 Axes>"
      ]
     },
     "metadata": {
      "needs_background": "light"
     },
     "output_type": "display_data"
    }
   ],
   "source": [
    "plt.figure(figsize=(15,5))\n",
    "plt.subplot(1,2,1)\n",
    "train_acc = geo.history['accuracy']\n",
    "val_acc = geo.history['val_accuracy']\n",
    "epoch = range(len(train_acc))\n",
    "plt.plot(epoch, train_acc, color ='k', label='Training_accuracy')\n",
    "plt.plot(epoch, val_acc, color = 'b', label = 'Val_accuracy')\n",
    "plt.legend(loc='best')\n",
    "plt.xlabel('Epochs', fontsize = 15)\n",
    "plt.ylabel('Accuracy', fontsize = 15)\n",
    "\n",
    "\n",
    "plt.subplot(1,2,2)\n",
    "train_loss = geo.history['loss']\n",
    "val_loss = geo.history['val_loss']\n",
    "plt.plot(epoch, train_loss, color ='k', label='Training_Loss')\n",
    "plt.plot(epoch, val_loss, color = 'b', label = 'Val_Loss')\n",
    "plt.legend(loc='best')\n",
    "plt.xlabel('Epochs', fontsize = 15)\n",
    "plt.ylabel('Loss', fontsize = 15)\n",
    "plt.show()"
   ]
  },
  {
   "cell_type": "code",
   "execution_count": 65,
   "metadata": {},
   "outputs": [
    {
     "name": "stdout",
     "output_type": "stream",
     "text": [
      "8/8 [==============================] - 0s 1ms/step - loss: 0.6305 - accuracy: 0.7383\n"
     ]
    }
   ],
   "source": [
    "model = model.evaluate(x_val, y_val)"
   ]
  },
  {
   "cell_type": "markdown",
   "metadata": {},
   "source": [
    "so use SVM and Neural Network they are better for this usecase"
   ]
  },
  {
   "cell_type": "code",
   "execution_count": null,
   "metadata": {},
   "outputs": [],
   "source": []
  }
 ],
 "metadata": {
  "kernelspec": {
   "display_name": "Python 3",
   "language": "python",
   "name": "python3"
  },
  "language_info": {
   "codemirror_mode": {
    "name": "ipython",
    "version": 3
   },
   "file_extension": ".py",
   "mimetype": "text/x-python",
   "name": "python",
   "nbconvert_exporter": "python",
   "pygments_lexer": "ipython3",
   "version": "3.8.5"
  }
 },
 "nbformat": 4,
 "nbformat_minor": 4
}
