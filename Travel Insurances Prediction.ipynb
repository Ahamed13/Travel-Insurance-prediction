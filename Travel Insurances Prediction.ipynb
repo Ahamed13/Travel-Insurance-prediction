{
 "cells": [
  {
   "cell_type": "markdown",
   "metadata": {},
   "source": [
    "# Predicting Travel Insurance"
   ]
  },
  {
   "cell_type": "code",
   "execution_count": 1,
   "metadata": {},
   "outputs": [],
   "source": [
    "import pandas as pd\n",
    "import numpy as np\n",
    "import matplotlib.pyplot as plt\n",
    "import seaborn as sns\n",
    "from sklearn.model_selection import train_test_split\n",
    "from sklearn.linear_model import LogisticRegression\n",
    "from sklearn.svm import SVC\n",
    "import tensorflow as tf\n",
    "from tensorflow import keras\n",
    "from sklearn import metrics"
   ]
  },
  {
   "cell_type": "markdown",
   "metadata": {},
   "source": [
    "# Travel Insurance Dataset"
   ]
  },
  {
   "cell_type": "code",
   "execution_count": 2,
   "metadata": {},
   "outputs": [
    {
     "data": {
      "text/html": [
       "<div>\n",
       "<style scoped>\n",
       "    .dataframe tbody tr th:only-of-type {\n",
       "        vertical-align: middle;\n",
       "    }\n",
       "\n",
       "    .dataframe tbody tr th {\n",
       "        vertical-align: top;\n",
       "    }\n",
       "\n",
       "    .dataframe thead th {\n",
       "        text-align: right;\n",
       "    }\n",
       "</style>\n",
       "<table border=\"1\" class=\"dataframe\">\n",
       "  <thead>\n",
       "    <tr style=\"text-align: right;\">\n",
       "      <th></th>\n",
       "      <th>Unnamed: 0</th>\n",
       "      <th>Age</th>\n",
       "      <th>Employment Type</th>\n",
       "      <th>GraduateOrNot</th>\n",
       "      <th>AnnualIncome</th>\n",
       "      <th>FamilyMembers</th>\n",
       "      <th>ChronicDiseases</th>\n",
       "      <th>FrequentFlyer</th>\n",
       "      <th>EverTravelledAbroad</th>\n",
       "      <th>TravelInsurance</th>\n",
       "    </tr>\n",
       "  </thead>\n",
       "  <tbody>\n",
       "    <tr>\n",
       "      <th>0</th>\n",
       "      <td>0</td>\n",
       "      <td>31</td>\n",
       "      <td>Government Sector</td>\n",
       "      <td>Yes</td>\n",
       "      <td>400000</td>\n",
       "      <td>6</td>\n",
       "      <td>1</td>\n",
       "      <td>No</td>\n",
       "      <td>No</td>\n",
       "      <td>0</td>\n",
       "    </tr>\n",
       "    <tr>\n",
       "      <th>1</th>\n",
       "      <td>1</td>\n",
       "      <td>31</td>\n",
       "      <td>Private Sector/Self Employed</td>\n",
       "      <td>Yes</td>\n",
       "      <td>1250000</td>\n",
       "      <td>7</td>\n",
       "      <td>0</td>\n",
       "      <td>No</td>\n",
       "      <td>No</td>\n",
       "      <td>0</td>\n",
       "    </tr>\n",
       "    <tr>\n",
       "      <th>2</th>\n",
       "      <td>2</td>\n",
       "      <td>34</td>\n",
       "      <td>Private Sector/Self Employed</td>\n",
       "      <td>Yes</td>\n",
       "      <td>500000</td>\n",
       "      <td>4</td>\n",
       "      <td>1</td>\n",
       "      <td>No</td>\n",
       "      <td>No</td>\n",
       "      <td>1</td>\n",
       "    </tr>\n",
       "    <tr>\n",
       "      <th>3</th>\n",
       "      <td>3</td>\n",
       "      <td>28</td>\n",
       "      <td>Private Sector/Self Employed</td>\n",
       "      <td>Yes</td>\n",
       "      <td>700000</td>\n",
       "      <td>3</td>\n",
       "      <td>1</td>\n",
       "      <td>No</td>\n",
       "      <td>No</td>\n",
       "      <td>0</td>\n",
       "    </tr>\n",
       "    <tr>\n",
       "      <th>4</th>\n",
       "      <td>4</td>\n",
       "      <td>28</td>\n",
       "      <td>Private Sector/Self Employed</td>\n",
       "      <td>Yes</td>\n",
       "      <td>700000</td>\n",
       "      <td>8</td>\n",
       "      <td>1</td>\n",
       "      <td>Yes</td>\n",
       "      <td>No</td>\n",
       "      <td>0</td>\n",
       "    </tr>\n",
       "  </tbody>\n",
       "</table>\n",
       "</div>"
      ],
      "text/plain": [
       "   Unnamed: 0  Age               Employment Type GraduateOrNot  AnnualIncome  \\\n",
       "0           0   31             Government Sector           Yes        400000   \n",
       "1           1   31  Private Sector/Self Employed           Yes       1250000   \n",
       "2           2   34  Private Sector/Self Employed           Yes        500000   \n",
       "3           3   28  Private Sector/Self Employed           Yes        700000   \n",
       "4           4   28  Private Sector/Self Employed           Yes        700000   \n",
       "\n",
       "   FamilyMembers  ChronicDiseases FrequentFlyer EverTravelledAbroad  \\\n",
       "0              6                1            No                  No   \n",
       "1              7                0            No                  No   \n",
       "2              4                1            No                  No   \n",
       "3              3                1            No                  No   \n",
       "4              8                1           Yes                  No   \n",
       "\n",
       "   TravelInsurance  \n",
       "0                0  \n",
       "1                0  \n",
       "2                1  \n",
       "3                0  \n",
       "4                0  "
      ]
     },
     "execution_count": 2,
     "metadata": {},
     "output_type": "execute_result"
    }
   ],
   "source": [
    "df = pd.read_csv('TravelInsurancePrediction.csv')\n",
    "df.head()"
   ]
  },
  {
   "cell_type": "markdown",
   "metadata": {},
   "source": [
    "Droping the column Unnamed in the dataset"
   ]
  },
  {
   "cell_type": "code",
   "execution_count": 3,
   "metadata": {},
   "outputs": [],
   "source": [
    "df = df.drop('Unnamed: 0', axis = 1)"
   ]
  },
  {
   "cell_type": "code",
   "execution_count": 4,
   "metadata": {},
   "outputs": [
    {
     "data": {
      "text/html": [
       "<div>\n",
       "<style scoped>\n",
       "    .dataframe tbody tr th:only-of-type {\n",
       "        vertical-align: middle;\n",
       "    }\n",
       "\n",
       "    .dataframe tbody tr th {\n",
       "        vertical-align: top;\n",
       "    }\n",
       "\n",
       "    .dataframe thead th {\n",
       "        text-align: right;\n",
       "    }\n",
       "</style>\n",
       "<table border=\"1\" class=\"dataframe\">\n",
       "  <thead>\n",
       "    <tr style=\"text-align: right;\">\n",
       "      <th></th>\n",
       "      <th>Age</th>\n",
       "      <th>Employment Type</th>\n",
       "      <th>GraduateOrNot</th>\n",
       "      <th>AnnualIncome</th>\n",
       "      <th>FamilyMembers</th>\n",
       "      <th>ChronicDiseases</th>\n",
       "      <th>FrequentFlyer</th>\n",
       "      <th>EverTravelledAbroad</th>\n",
       "      <th>TravelInsurance</th>\n",
       "    </tr>\n",
       "  </thead>\n",
       "  <tbody>\n",
       "    <tr>\n",
       "      <th>0</th>\n",
       "      <td>31</td>\n",
       "      <td>Government Sector</td>\n",
       "      <td>Yes</td>\n",
       "      <td>400000</td>\n",
       "      <td>6</td>\n",
       "      <td>1</td>\n",
       "      <td>No</td>\n",
       "      <td>No</td>\n",
       "      <td>0</td>\n",
       "    </tr>\n",
       "    <tr>\n",
       "      <th>1</th>\n",
       "      <td>31</td>\n",
       "      <td>Private Sector/Self Employed</td>\n",
       "      <td>Yes</td>\n",
       "      <td>1250000</td>\n",
       "      <td>7</td>\n",
       "      <td>0</td>\n",
       "      <td>No</td>\n",
       "      <td>No</td>\n",
       "      <td>0</td>\n",
       "    </tr>\n",
       "    <tr>\n",
       "      <th>2</th>\n",
       "      <td>34</td>\n",
       "      <td>Private Sector/Self Employed</td>\n",
       "      <td>Yes</td>\n",
       "      <td>500000</td>\n",
       "      <td>4</td>\n",
       "      <td>1</td>\n",
       "      <td>No</td>\n",
       "      <td>No</td>\n",
       "      <td>1</td>\n",
       "    </tr>\n",
       "    <tr>\n",
       "      <th>3</th>\n",
       "      <td>28</td>\n",
       "      <td>Private Sector/Self Employed</td>\n",
       "      <td>Yes</td>\n",
       "      <td>700000</td>\n",
       "      <td>3</td>\n",
       "      <td>1</td>\n",
       "      <td>No</td>\n",
       "      <td>No</td>\n",
       "      <td>0</td>\n",
       "    </tr>\n",
       "    <tr>\n",
       "      <th>4</th>\n",
       "      <td>28</td>\n",
       "      <td>Private Sector/Self Employed</td>\n",
       "      <td>Yes</td>\n",
       "      <td>700000</td>\n",
       "      <td>8</td>\n",
       "      <td>1</td>\n",
       "      <td>Yes</td>\n",
       "      <td>No</td>\n",
       "      <td>0</td>\n",
       "    </tr>\n",
       "  </tbody>\n",
       "</table>\n",
       "</div>"
      ],
      "text/plain": [
       "   Age               Employment Type GraduateOrNot  AnnualIncome  \\\n",
       "0   31             Government Sector           Yes        400000   \n",
       "1   31  Private Sector/Self Employed           Yes       1250000   \n",
       "2   34  Private Sector/Self Employed           Yes        500000   \n",
       "3   28  Private Sector/Self Employed           Yes        700000   \n",
       "4   28  Private Sector/Self Employed           Yes        700000   \n",
       "\n",
       "   FamilyMembers  ChronicDiseases FrequentFlyer EverTravelledAbroad  \\\n",
       "0              6                1            No                  No   \n",
       "1              7                0            No                  No   \n",
       "2              4                1            No                  No   \n",
       "3              3                1            No                  No   \n",
       "4              8                1           Yes                  No   \n",
       "\n",
       "   TravelInsurance  \n",
       "0                0  \n",
       "1                0  \n",
       "2                1  \n",
       "3                0  \n",
       "4                0  "
      ]
     },
     "execution_count": 4,
     "metadata": {},
     "output_type": "execute_result"
    }
   ],
   "source": [
    "df.head()"
   ]
  },
  {
   "cell_type": "markdown",
   "metadata": {},
   "source": [
    "# Checking data set Imbalance"
   ]
  },
  {
   "cell_type": "code",
   "execution_count": 5,
   "metadata": {},
   "outputs": [
    {
     "data": {
      "image/png": "[encoded data removed]",
      "text/plain": [
       "<Figure size 432x288 with 1 Axes>"
      ]
     },
     "metadata": {},
     "output_type": "display_data"
    }
   ],
   "source": [
    "plt.pie(x = df['TravelInsurance'].value_counts(), labels = ['0', '1'], autopct = '%0.2f%%',radius = 2)\n",
    "plt.show()"
   ]
  },
  {
   "cell_type": "markdown",
   "metadata": {},
   "source": [
    "We can see that the dataset is imbalaced, where class 1 has 35.7% and class 2 has 64.27%..\n",
    "\n",
    "Later in the model i will be using imblearn tool to make balanced dataset, so that our model will not get biased \n",
    "\n"
   ]
  },
  {
   "cell_type": "markdown",
   "metadata": {},
   "source": [
    "# Count class 1 and class 2"
   ]
  },
  {
   "cell_type": "code",
   "execution_count": 6,
   "metadata": {},
   "outputs": [
    {
     "data": {
      "text/plain": [
       "0    1277\n",
       "1     710\n",
       "Name: TravelInsurance, dtype: int64"
      ]
     },
     "execution_count": 6,
     "metadata": {},
     "output_type": "execute_result"
    }
   ],
   "source": [
    "df['TravelInsurance'].value_counts()"
   ]
  },
  {
   "cell_type": "markdown",
   "metadata": {},
   "source": [
    "We can see that our dataset imbalanced were class 0 has 1277 and class 1 has 710"
   ]
  },
  {
   "cell_type": "markdown",
   "metadata": {},
   "source": [
    "# Get info of the Dataset"
   ]
  },
  {
   "cell_type": "code",
   "execution_count": 7,
   "metadata": {},
   "outputs": [
    {
     "name": "stdout",
     "output_type": "stream",
     "text": [
      "<class 'pandas.core.frame.DataFrame'>\n",
      "RangeIndex: 1987 entries, 0 to 1986\n",
      "Data columns (total 9 columns):\n",
      " #   Column               Non-Null Count  Dtype \n",
      "---  ------               --------------  ----- \n",
      " 0   Age                  1987 non-null   int64 \n",
      " 1   Employment Type      1987 non-null   object\n",
      " 2   GraduateOrNot        1987 non-null   object\n",
      " 3   AnnualIncome         1987 non-null   int64 \n",
      " 4   FamilyMembers        1987 non-null   int64 \n",
      " 5   ChronicDiseases      1987 non-null   int64 \n",
      " 6   FrequentFlyer        1987 non-null   object\n",
      " 7   EverTravelledAbroad  1987 non-null   object\n",
      " 8   TravelInsurance      1987 non-null   int64 \n",
      "dtypes: int64(5), object(4)\n",
      "memory usage: 139.8+ KB\n"
     ]
    }
   ],
   "source": [
    "df.info()"
   ]
  },
  {
   "cell_type": "markdown",
   "metadata": {},
   "source": [
    "# Check for missing values"
   ]
  },
  {
   "cell_type": "code",
   "execution_count": 8,
   "metadata": {},
   "outputs": [
    {
     "data": {
      "text/plain": [
       "[]"
      ]
     },
     "execution_count": 8,
     "metadata": {},
     "output_type": "execute_result"
    }
   ],
   "source": [
    "df_na = [null for null in df.columns if df[null].isnull().sum()>1]\n",
    "df_na"
   ]
  },
  {
   "cell_type": "markdown",
   "metadata": {},
   "source": [
    "No missing values in the dataset"
   ]
  },
  {
   "cell_type": "code",
   "execution_count": 9,
   "metadata": {},
   "outputs": [
    {
     "data": {
      "text/plain": [
       "Age    Employment Type  GraduateOrNot  AnnualIncome  FamilyMembers  ChronicDiseases  FrequentFlyer  EverTravelledAbroad  TravelInsurance\n",
       "False  False            False          False         False          False            False          False                False              1987\n",
       "dtype: int64"
      ]
     },
     "execution_count": 9,
     "metadata": {},
     "output_type": "execute_result"
    }
   ],
   "source": [
    "df.isnull().value_counts()"
   ]
  },
  {
   "cell_type": "markdown",
   "metadata": {},
   "source": [
    "We can see that all our features doesn't have any missing"
   ]
  },
  {
   "cell_type": "markdown",
   "metadata": {},
   "source": [
    "# Numerical Features"
   ]
  },
  {
   "cell_type": "code",
   "execution_count": 10,
   "metadata": {},
   "outputs": [
    {
     "name": "stdout",
     "output_type": "stream",
     "text": [
      "The Numerical Features are \n",
      " ['Age', 'AnnualIncome', 'FamilyMembers', 'ChronicDiseases', 'TravelInsurance']\n"
     ]
    }
   ],
   "source": [
    "df_num = [num for num in df.columns if df[num].dtype != 'O']\n",
    "print('The Numerical Features are \\n',df_num)"
   ]
  },
  {
   "cell_type": "code",
   "execution_count": 11,
   "metadata": {},
   "outputs": [
    {
     "data": {
      "text/html": [
       "<div>\n",
       "<style scoped>\n",
       "    .dataframe tbody tr th:only-of-type {\n",
       "        vertical-align: middle;\n",
       "    }\n",
       "\n",
       "    .dataframe tbody tr th {\n",
       "        vertical-align: top;\n",
       "    }\n",
       "\n",
       "    .dataframe thead th {\n",
       "        text-align: right;\n",
       "    }\n",
       "</style>\n",
       "<table border=\"1\" class=\"dataframe\">\n",
       "  <thead>\n",
       "    <tr style=\"text-align: right;\">\n",
       "      <th></th>\n",
       "      <th>Age</th>\n",
       "      <th>AnnualIncome</th>\n",
       "      <th>FamilyMembers</th>\n",
       "      <th>ChronicDiseases</th>\n",
       "      <th>TravelInsurance</th>\n",
       "    </tr>\n",
       "  </thead>\n",
       "  <tbody>\n",
       "    <tr>\n",
       "      <th>0</th>\n",
       "      <td>31</td>\n",
       "      <td>400000</td>\n",
       "      <td>6</td>\n",
       "      <td>1</td>\n",
       "      <td>0</td>\n",
       "    </tr>\n",
       "    <tr>\n",
       "      <th>1</th>\n",
       "      <td>31</td>\n",
       "      <td>1250000</td>\n",
       "      <td>7</td>\n",
       "      <td>0</td>\n",
       "      <td>0</td>\n",
       "    </tr>\n",
       "    <tr>\n",
       "      <th>2</th>\n",
       "      <td>34</td>\n",
       "      <td>500000</td>\n",
       "      <td>4</td>\n",
       "      <td>1</td>\n",
       "      <td>1</td>\n",
       "    </tr>\n",
       "    <tr>\n",
       "      <th>3</th>\n",
       "      <td>28</td>\n",
       "      <td>700000</td>\n",
       "      <td>3</td>\n",
       "      <td>1</td>\n",
       "      <td>0</td>\n",
       "    </tr>\n",
       "    <tr>\n",
       "      <th>4</th>\n",
       "      <td>28</td>\n",
       "      <td>700000</td>\n",
       "      <td>8</td>\n",
       "      <td>1</td>\n",
       "      <td>0</td>\n",
       "    </tr>\n",
       "  </tbody>\n",
       "</table>\n",
       "</div>"
      ],
      "text/plain": [
       "   Age  AnnualIncome  FamilyMembers  ChronicDiseases  TravelInsurance\n",
       "0   31        400000              6                1                0\n",
       "1   31       1250000              7                0                0\n",
       "2   34        500000              4                1                1\n",
       "3   28        700000              3                1                0\n",
       "4   28        700000              8                1                0"
      ]
     },
     "execution_count": 11,
     "metadata": {},
     "output_type": "execute_result"
    }
   ],
   "source": [
    "df[df_num].head()"
   ]
  },
  {
   "cell_type": "markdown",
   "metadata": {},
   "source": [
    "# Discrete Features"
   ]
  },
  {
   "cell_type": "code",
   "execution_count": 12,
   "metadata": {},
   "outputs": [
    {
     "name": "stdout",
     "output_type": "stream",
     "text": [
      "The Discrete Features \n",
      " ['FamilyMembers', 'ChronicDiseases']\n"
     ]
    }
   ],
   "source": [
    "df_dis = [dis for dis in df_num if len(df[dis].unique())<10 and dis not in 'TravelInsurance']\n",
    "print('The Discrete Features \\n',df_dis)"
   ]
  },
  {
   "cell_type": "markdown",
   "metadata": {},
   "source": [
    "I had given that less then 10 unique values is considered as discrete features, the reason is that family members are only few unique , so i included family members as discrete by giving the threshold value 10"
   ]
  },
  {
   "cell_type": "markdown",
   "metadata": {},
   "source": [
    "# Categorical features "
   ]
  },
  {
   "cell_type": "code",
   "execution_count": 13,
   "metadata": {},
   "outputs": [
    {
     "name": "stdout",
     "output_type": "stream",
     "text": [
      "The Categorical Features \n",
      " ['Employment Type', 'GraduateOrNot', 'FrequentFlyer', 'EverTravelledAbroad']\n"
     ]
    }
   ],
   "source": [
    "df_cat = [cat for cat in df.columns if df[cat].dtype == 'O']\n",
    "print('The Categorical Features \\n', df_cat)"
   ]
  },
  {
   "cell_type": "code",
   "execution_count": 14,
   "metadata": {},
   "outputs": [
    {
     "data": {
      "text/html": [
       "<div>\n",
       "<style scoped>\n",
       "    .dataframe tbody tr th:only-of-type {\n",
       "        vertical-align: middle;\n",
       "    }\n",
       "\n",
       "    .dataframe tbody tr th {\n",
       "        vertical-align: top;\n",
       "    }\n",
       "\n",
       "    .dataframe thead th {\n",
       "        text-align: right;\n",
       "    }\n",
       "</style>\n",
       "<table border=\"1\" class=\"dataframe\">\n",
       "  <thead>\n",
       "    <tr style=\"text-align: right;\">\n",
       "      <th></th>\n",
       "      <th>Employment Type</th>\n",
       "      <th>GraduateOrNot</th>\n",
       "      <th>FrequentFlyer</th>\n",
       "      <th>EverTravelledAbroad</th>\n",
       "    </tr>\n",
       "  </thead>\n",
       "  <tbody>\n",
       "    <tr>\n",
       "      <th>0</th>\n",
       "      <td>Government Sector</td>\n",
       "      <td>Yes</td>\n",
       "      <td>No</td>\n",
       "      <td>No</td>\n",
       "    </tr>\n",
       "    <tr>\n",
       "      <th>1</th>\n",
       "      <td>Private Sector/Self Employed</td>\n",
       "      <td>Yes</td>\n",
       "      <td>No</td>\n",
       "      <td>No</td>\n",
       "    </tr>\n",
       "    <tr>\n",
       "      <th>2</th>\n",
       "      <td>Private Sector/Self Employed</td>\n",
       "      <td>Yes</td>\n",
       "      <td>No</td>\n",
       "      <td>No</td>\n",
       "    </tr>\n",
       "    <tr>\n",
       "      <th>3</th>\n",
       "      <td>Private Sector/Self Employed</td>\n",
       "      <td>Yes</td>\n",
       "      <td>No</td>\n",
       "      <td>No</td>\n",
       "    </tr>\n",
       "    <tr>\n",
       "      <th>4</th>\n",
       "      <td>Private Sector/Self Employed</td>\n",
       "      <td>Yes</td>\n",
       "      <td>Yes</td>\n",
       "      <td>No</td>\n",
       "    </tr>\n",
       "  </tbody>\n",
       "</table>\n",
       "</div>"
      ],
      "text/plain": [
       "                Employment Type GraduateOrNot FrequentFlyer  \\\n",
       "0             Government Sector           Yes            No   \n",
       "1  Private Sector/Self Employed           Yes            No   \n",
       "2  Private Sector/Self Employed           Yes            No   \n",
       "3  Private Sector/Self Employed           Yes            No   \n",
       "4  Private Sector/Self Employed           Yes           Yes   \n",
       "\n",
       "  EverTravelledAbroad  \n",
       "0                  No  \n",
       "1                  No  \n",
       "2                  No  \n",
       "3                  No  \n",
       "4                  No  "
      ]
     },
     "execution_count": 14,
     "metadata": {},
     "output_type": "execute_result"
    }
   ],
   "source": [
    "df[df_cat].head()"
   ]
  },
  {
   "cell_type": "markdown",
   "metadata": {},
   "source": [
    "# Continuous Features"
   ]
  },
  {
   "cell_type": "code",
   "execution_count": 15,
   "metadata": {},
   "outputs": [
    {
     "name": "stdout",
     "output_type": "stream",
     "text": [
      "The Categorical Features \n",
      " ['Age', 'AnnualIncome']\n"
     ]
    }
   ],
   "source": [
    "df_con = [con for con in df_num if con not in df_cat + df_dis + ['TravelInsurance']]\n",
    "print('The Categorical Features \\n',df_con)"
   ]
  },
  {
   "cell_type": "markdown",
   "metadata": {},
   "source": [
    "# Visualizing the Continuous Features"
   ]
  },
  {
   "cell_type": "code",
   "execution_count": 16,
   "metadata": {},
   "outputs": [
    {
     "data": {
      "image/png": "[encoded data removed]",
      "text/plain": [
       "<Figure size 864x864 with 2 Axes>"
      ]
     },
     "metadata": {
      "needs_background": "light"
     },
     "output_type": "display_data"
    }
   ],
   "source": [
    "plt.figure(figsize=(12,12))\n",
    "plt.subplot(2,2,1)\n",
    "sns.histplot(df['Age'], kde= True)\n",
    "plt.xlabel('Age', fontsize = 12)\n",
    "plt.ylabel('Count', fontsize = 12)\n",
    "plt.title('Histogram of Age', fontsize = 12)\n",
    "\n",
    "plt.subplot(2,2,2)\n",
    "sns.histplot(df['AnnualIncome'], kde=True)\n",
    "plt.xlabel('Annual Income', fontsize = 12)\n",
    "plt.ylabel('Count', fontsize = 12)\n",
    "plt.title('Histogram of Annual Income', fontsize = 12)\n",
    "plt.show()"
   ]
  },
  {
   "cell_type": "markdown",
   "metadata": {},
   "source": [
    "There is no skewness in the histogram, the data is normal distributed"
   ]
  },
  {
   "cell_type": "markdown",
   "metadata": {},
   "source": [
    "# Box plot for continuous features"
   ]
  },
  {
   "cell_type": "code",
   "execution_count": 17,
   "metadata": {},
   "outputs": [
    {
     "name": "stderr",
     "output_type": "stream",
     "text": [
      "C:\\Anaconda\\lib\\site-packages\\seaborn\\_decorators.py:36: FutureWarning: Pass the following variable as a keyword arg: x. From version 0.12, the only valid positional argument will be `data`, and passing other arguments without an explicit keyword will result in an error or misinterpretation.\n",
      "  warnings.warn(\n",
      "C:\\Anaconda\\lib\\site-packages\\seaborn\\_decorators.py:36: FutureWarning: Pass the following variable as a keyword arg: x. From version 0.12, the only valid positional argument will be `data`, and passing other arguments without an explicit keyword will result in an error or misinterpretation.\n",
      "  warnings.warn(\n"
     ]
    },
    {
     "data": {
      "image/png": "[encoded data removed]",
      "text/plain": [
       "<Figure size 1080x360 with 2 Axes>"
      ]
     },
     "metadata": {
      "needs_background": "light"
     },
     "output_type": "display_data"
    }
   ],
   "source": [
    "plt.figure(figsize=(15,5))\n",
    "plt.subplot(1,2,1)\n",
    "sns.boxplot(df['AnnualIncome'])\n",
    "plt.xlabel('AnnualIncome', fontsize = 15)\n",
    "\n",
    "plt.subplot(1,2,2)\n",
    "sns.boxplot(df['Age'])\n",
    "plt.xlabel('Age', fontsize = 15)\n",
    "plt.show()"
   ]
  },
  {
   "cell_type": "markdown",
   "metadata": {},
   "source": [
    "There is no outlier in the continuous features "
   ]
  },
  {
   "cell_type": "markdown",
   "metadata": {},
   "source": [
    "# Correlation"
   ]
  },
  {
   "cell_type": "code",
   "execution_count": 18,
   "metadata": {},
   "outputs": [
    {
     "data": {
      "text/html": [
       "<div>\n",
       "<style scoped>\n",
       "    .dataframe tbody tr th:only-of-type {\n",
       "        vertical-align: middle;\n",
       "    }\n",
       "\n",
       "    .dataframe tbody tr th {\n",
       "        vertical-align: top;\n",
       "    }\n",
       "\n",
       "    .dataframe thead th {\n",
       "        text-align: right;\n",
       "    }\n",
       "</style>\n",
       "<table border=\"1\" class=\"dataframe\">\n",
       "  <thead>\n",
       "    <tr style=\"text-align: right;\">\n",
       "      <th></th>\n",
       "      <th>Age</th>\n",
       "      <th>AnnualIncome</th>\n",
       "      <th>FamilyMembers</th>\n",
       "      <th>ChronicDiseases</th>\n",
       "      <th>TravelInsurance</th>\n",
       "    </tr>\n",
       "  </thead>\n",
       "  <tbody>\n",
       "    <tr>\n",
       "      <th>Age</th>\n",
       "      <td>1.000000</td>\n",
       "      <td>-0.020101</td>\n",
       "      <td>0.027409</td>\n",
       "      <td>0.007359</td>\n",
       "      <td>0.061060</td>\n",
       "    </tr>\n",
       "    <tr>\n",
       "      <th>AnnualIncome</th>\n",
       "      <td>-0.020101</td>\n",
       "      <td>1.000000</td>\n",
       "      <td>-0.015367</td>\n",
       "      <td>-0.001149</td>\n",
       "      <td>0.396763</td>\n",
       "    </tr>\n",
       "    <tr>\n",
       "      <th>FamilyMembers</th>\n",
       "      <td>0.027409</td>\n",
       "      <td>-0.015367</td>\n",
       "      <td>1.000000</td>\n",
       "      <td>0.028209</td>\n",
       "      <td>0.079909</td>\n",
       "    </tr>\n",
       "    <tr>\n",
       "      <th>ChronicDiseases</th>\n",
       "      <td>0.007359</td>\n",
       "      <td>-0.001149</td>\n",
       "      <td>0.028209</td>\n",
       "      <td>1.000000</td>\n",
       "      <td>0.018190</td>\n",
       "    </tr>\n",
       "    <tr>\n",
       "      <th>TravelInsurance</th>\n",
       "      <td>0.061060</td>\n",
       "      <td>0.396763</td>\n",
       "      <td>0.079909</td>\n",
       "      <td>0.018190</td>\n",
       "      <td>1.000000</td>\n",
       "    </tr>\n",
       "  </tbody>\n",
       "</table>\n",
       "</div>"
      ],
      "text/plain": [
       "                      Age  AnnualIncome  FamilyMembers  ChronicDiseases  \\\n",
       "Age              1.000000     -0.020101       0.027409         0.007359   \n",
       "AnnualIncome    -0.020101      1.000000      -0.015367        -0.001149   \n",
       "FamilyMembers    0.027409     -0.015367       1.000000         0.028209   \n",
       "ChronicDiseases  0.007359     -0.001149       0.028209         1.000000   \n",
       "TravelInsurance  0.061060      0.396763       0.079909         0.018190   \n",
       "\n",
       "                 TravelInsurance  \n",
       "Age                     0.061060  \n",
       "AnnualIncome            0.396763  \n",
       "FamilyMembers           0.079909  \n",
       "ChronicDiseases         0.018190  \n",
       "TravelInsurance         1.000000  "
      ]
     },
     "execution_count": 18,
     "metadata": {},
     "output_type": "execute_result"
    }
   ],
   "source": [
    "df.corr()"
   ]
  },
  {
   "cell_type": "markdown",
   "metadata": {},
   "source": [
    "# visualizing the correlation "
   ]
  },
  {
   "cell_type": "code",
   "execution_count": 19,
   "metadata": {},
   "outputs": [
    {
     "data": {
      "image/png": "[encoded data removed]",
      "text/plain": [
       "<Figure size 504x504 with 2 Axes>"
      ]
     },
     "metadata": {
      "needs_background": "light"
     },
     "output_type": "display_data"
    }
   ],
   "source": [
    "plt.figure(figsize=(7,7))\n",
    "sns.heatmap(df.corr(), annot = True, center = 0)\n",
    "plt.show()"
   ]
  },
  {
   "cell_type": "markdown",
   "metadata": {},
   "source": [
    "The Annual income is highly correlated with travel insurance"
   ]
  },
  {
   "cell_type": "markdown",
   "metadata": {},
   "source": [
    "# Added annual income group column"
   ]
  },
  {
   "cell_type": "markdown",
   "metadata": {},
   "source": [
    "grpai = Grouped Annual income "
   ]
  },
  {
   "cell_type": "code",
   "execution_count": 20,
   "metadata": {},
   "outputs": [
    {
     "data": {
      "text/html": [
       "<div>\n",
       "<style scoped>\n",
       "    .dataframe tbody tr th:only-of-type {\n",
       "        vertical-align: middle;\n",
       "    }\n",
       "\n",
       "    .dataframe tbody tr th {\n",
       "        vertical-align: top;\n",
       "    }\n",
       "\n",
       "    .dataframe thead th {\n",
       "        text-align: right;\n",
       "    }\n",
       "</style>\n",
       "<table border=\"1\" class=\"dataframe\">\n",
       "  <thead>\n",
       "    <tr style=\"text-align: right;\">\n",
       "      <th></th>\n",
       "      <th>Age</th>\n",
       "      <th>Employment Type</th>\n",
       "      <th>GraduateOrNot</th>\n",
       "      <th>AnnualIncome</th>\n",
       "      <th>FamilyMembers</th>\n",
       "      <th>ChronicDiseases</th>\n",
       "      <th>FrequentFlyer</th>\n",
       "      <th>EverTravelledAbroad</th>\n",
       "      <th>TravelInsurance</th>\n",
       "      <th>grpai</th>\n",
       "    </tr>\n",
       "  </thead>\n",
       "  <tbody>\n",
       "    <tr>\n",
       "      <th>0</th>\n",
       "      <td>31</td>\n",
       "      <td>Government Sector</td>\n",
       "      <td>Yes</td>\n",
       "      <td>400000</td>\n",
       "      <td>6</td>\n",
       "      <td>1</td>\n",
       "      <td>No</td>\n",
       "      <td>No</td>\n",
       "      <td>0</td>\n",
       "      <td>(200000, 400000]</td>\n",
       "    </tr>\n",
       "    <tr>\n",
       "      <th>1</th>\n",
       "      <td>31</td>\n",
       "      <td>Private Sector/Self Employed</td>\n",
       "      <td>Yes</td>\n",
       "      <td>1250000</td>\n",
       "      <td>7</td>\n",
       "      <td>0</td>\n",
       "      <td>No</td>\n",
       "      <td>No</td>\n",
       "      <td>0</td>\n",
       "      <td>(1200000, 1400000]</td>\n",
       "    </tr>\n",
       "    <tr>\n",
       "      <th>2</th>\n",
       "      <td>34</td>\n",
       "      <td>Private Sector/Self Employed</td>\n",
       "      <td>Yes</td>\n",
       "      <td>500000</td>\n",
       "      <td>4</td>\n",
       "      <td>1</td>\n",
       "      <td>No</td>\n",
       "      <td>No</td>\n",
       "      <td>1</td>\n",
       "      <td>(400000, 600000]</td>\n",
       "    </tr>\n",
       "    <tr>\n",
       "      <th>3</th>\n",
       "      <td>28</td>\n",
       "      <td>Private Sector/Self Employed</td>\n",
       "      <td>Yes</td>\n",
       "      <td>700000</td>\n",
       "      <td>3</td>\n",
       "      <td>1</td>\n",
       "      <td>No</td>\n",
       "      <td>No</td>\n",
       "      <td>0</td>\n",
       "      <td>(600000, 1000000]</td>\n",
       "    </tr>\n",
       "    <tr>\n",
       "      <th>4</th>\n",
       "      <td>28</td>\n",
       "      <td>Private Sector/Self Employed</td>\n",
       "      <td>Yes</td>\n",
       "      <td>700000</td>\n",
       "      <td>8</td>\n",
       "      <td>1</td>\n",
       "      <td>Yes</td>\n",
       "      <td>No</td>\n",
       "      <td>0</td>\n",
       "      <td>(600000, 1000000]</td>\n",
       "    </tr>\n",
       "  </tbody>\n",
       "</table>\n",
       "</div>"
      ],
      "text/plain": [
       "   Age               Employment Type GraduateOrNot  AnnualIncome  \\\n",
       "0   31             Government Sector           Yes        400000   \n",
       "1   31  Private Sector/Self Employed           Yes       1250000   \n",
       "2   34  Private Sector/Self Employed           Yes        500000   \n",
       "3   28  Private Sector/Self Employed           Yes        700000   \n",
       "4   28  Private Sector/Self Employed           Yes        700000   \n",
       "\n",
       "   FamilyMembers  ChronicDiseases FrequentFlyer EverTravelledAbroad  \\\n",
       "0              6                1            No                  No   \n",
       "1              7                0            No                  No   \n",
       "2              4                1            No                  No   \n",
       "3              3                1            No                  No   \n",
       "4              8                1           Yes                  No   \n",
       "\n",
       "   TravelInsurance               grpai  \n",
       "0                0    (200000, 400000]  \n",
       "1                0  (1200000, 1400000]  \n",
       "2                1    (400000, 600000]  \n",
       "3                0   (600000, 1000000]  \n",
       "4                0   (600000, 1000000]  "
      ]
     },
     "execution_count": 20,
     "metadata": {},
     "output_type": "execute_result"
    }
   ],
   "source": [
    "df['grpai'] = pd.cut(df['AnnualIncome'], [200000,400000,600000,1000000,1200000,1400000,1600000,1800000])\n",
    "df.head()"
   ]
  },
  {
   "cell_type": "code",
   "execution_count": 21,
   "metadata": {},
   "outputs": [
    {
     "data": {
      "text/plain": [
       "(600000, 1000000]     551\n",
       "(1000000, 1200000]    380\n",
       "(400000, 600000]      337\n",
       "(1200000, 1400000]    335\n",
       "(200000, 400000]      208\n",
       "(1400000, 1600000]    118\n",
       "(1600000, 1800000]     58\n",
       "Name: grpai, dtype: int64"
      ]
     },
     "execution_count": 21,
     "metadata": {},
     "output_type": "execute_result"
    }
   ],
   "source": [
    "df['grpai'].value_counts()"
   ]
  },
  {
   "cell_type": "markdown",
   "metadata": {},
   "source": [
    "# Visualizing of Annual income and Travel Income"
   ]
  },
  {
   "cell_type": "code",
   "execution_count": 22,
   "metadata": {},
   "outputs": [
    {
     "name": "stderr",
     "output_type": "stream",
     "text": [
      "C:\\Anaconda\\lib\\site-packages\\seaborn\\_decorators.py:36: FutureWarning: Pass the following variable as a keyword arg: x. From version 0.12, the only valid positional argument will be `data`, and passing other arguments without an explicit keyword will result in an error or misinterpretation.\n",
      "  warnings.warn(\n"
     ]
    },
    {
     "data": {
      "image/png": "[encoded data removed]",
      "text/plain": [
       "<Figure size 1440x720 with 1 Axes>"
      ]
     },
     "metadata": {
      "needs_background": "light"
     },
     "output_type": "display_data"
    }
   ],
   "source": [
    "plt.figure(figsize=(20,10))\n",
    "x = plt.gca()\n",
    "sns.countplot('grpai', hue = 'TravelInsurance', data = df)\n",
    "plt.xlabel('Annual Income', fontsize = 15)\n",
    "plt.ylabel('Count',  fontsize = 15)\n",
    "plt.title('Travel Insurance and Annual Income', fontsize = 15)\n",
    "plt.show()"
   ]
  },
  {
   "cell_type": "markdown",
   "metadata": {},
   "source": [
    "We can see that annual income above 1200000 has higher chance of getting travel insurance"
   ]
  },
  {
   "cell_type": "markdown",
   "metadata": {},
   "source": [
    "#  Visualizing of Employment Type and Travel Income"
   ]
  },
  {
   "cell_type": "code",
   "execution_count": 23,
   "metadata": {},
   "outputs": [
    {
     "name": "stderr",
     "output_type": "stream",
     "text": [
      "C:\\Anaconda\\lib\\site-packages\\seaborn\\_decorators.py:36: FutureWarning: Pass the following variable as a keyword arg: x. From version 0.12, the only valid positional argument will be `data`, and passing other arguments without an explicit keyword will result in an error or misinterpretation.\n",
      "  warnings.warn(\n"
     ]
    },
    {
     "data": {
      "image/png": "[encoded data removed]",
      "text/plain": [
       "<Figure size 720x720 with 1 Axes>"
      ]
     },
     "metadata": {
      "needs_background": "light"
     },
     "output_type": "display_data"
    }
   ],
   "source": [
    "plt.figure(figsize=(10,10))\n",
    "sns.countplot('Employment Type', hue = 'TravelInsurance', data = df)\n",
    "plt.xlabel('Employment Type', fontsize = 15)\n",
    "plt.ylabel('Count',  fontsize = 15)\n",
    "plt.title('Travel Insurance and Employment Type', fontsize = 15)\n",
    "x = plt.gca()\n",
    "x.set_xticklabels(['Government Sector', 'Private Sector/Self Employed'], fontsize = 15)\n",
    "plt.show()\n"
   ]
  },
  {
   "cell_type": "markdown",
   "metadata": {},
   "source": [
    "we see that privatesector/self employed pepole getting higher chance of travel insurance"
   ]
  },
  {
   "cell_type": "markdown",
   "metadata": {},
   "source": [
    "# Visualizing of Age and Travel Income"
   ]
  },
  {
   "cell_type": "code",
   "execution_count": 24,
   "metadata": {},
   "outputs": [
    {
     "name": "stderr",
     "output_type": "stream",
     "text": [
      "C:\\Anaconda\\lib\\site-packages\\seaborn\\_decorators.py:36: FutureWarning: Pass the following variable as a keyword arg: x. From version 0.12, the only valid positional argument will be `data`, and passing other arguments without an explicit keyword will result in an error or misinterpretation.\n",
      "  warnings.warn(\n"
     ]
    },
    {
     "data": {
      "image/png": "[encoded data removed]",
      "text/plain": [
       "<Figure size 720x720 with 1 Axes>"
      ]
     },
     "metadata": {
      "needs_background": "light"
     },
     "output_type": "display_data"
    }
   ],
   "source": [
    "plt.figure(figsize=(10,10))\n",
    "sns.countplot('Age', hue = 'TravelInsurance', data = df)\n",
    "plt.xlabel('Age', fontsize = 15)\n",
    "plt.ylabel('Count',  fontsize = 15)\n",
    "plt.title('Travel Insurance and Age', fontsize = 15)\n",
    "plt.show()\n"
   ]
  },
  {
   "cell_type": "markdown",
   "metadata": {},
   "source": [
    "We can't say relation between age and chance of getting travel insurance"
   ]
  },
  {
   "cell_type": "markdown",
   "metadata": {},
   "source": [
    "# Visualizing of Family Members and Travel Income"
   ]
  },
  {
   "cell_type": "code",
   "execution_count": 25,
   "metadata": {},
   "outputs": [
    {
     "name": "stderr",
     "output_type": "stream",
     "text": [
      "C:\\Anaconda\\lib\\site-packages\\seaborn\\_decorators.py:36: FutureWarning: Pass the following variable as a keyword arg: x. From version 0.12, the only valid positional argument will be `data`, and passing other arguments without an explicit keyword will result in an error or misinterpretation.\n",
      "  warnings.warn(\n"
     ]
    },
    {
     "data": {
      "image/png": "[encoded data removed]",
      "text/plain": [
       "<Figure size 720x720 with 1 Axes>"
      ]
     },
     "metadata": {
      "needs_background": "light"
     },
     "output_type": "display_data"
    }
   ],
   "source": [
    "plt.figure(figsize=(10,10))\n",
    "sns.countplot('FamilyMembers', hue = 'TravelInsurance', data = df)\n",
    "plt.xlabel('Family Memebers', fontsize = 15)\n",
    "plt.ylabel('Count',  fontsize = 15)\n",
    "plt.title('Travel Insurance and Family Memebers', fontsize = 15)\n",
    "plt.show()"
   ]
  },
  {
   "cell_type": "markdown",
   "metadata": {},
   "source": [
    "we see that family members between 3 to 6 has some chance of getting travel insurance"
   ]
  },
  {
   "cell_type": "markdown",
   "metadata": {},
   "source": [
    "# Visualizing of  ChronicDiseases and Travel Income"
   ]
  },
  {
   "cell_type": "code",
   "execution_count": 26,
   "metadata": {},
   "outputs": [
    {
     "name": "stderr",
     "output_type": "stream",
     "text": [
      "C:\\Anaconda\\lib\\site-packages\\seaborn\\_decorators.py:36: FutureWarning: Pass the following variable as a keyword arg: x. From version 0.12, the only valid positional argument will be `data`, and passing other arguments without an explicit keyword will result in an error or misinterpretation.\n",
      "  warnings.warn(\n"
     ]
    },
    {
     "data": {
      "image/png": "[encoded data removed]",
      "text/plain": [
       "<Figure size 720x720 with 1 Axes>"
      ]
     },
     "metadata": {
      "needs_background": "light"
     },
     "output_type": "display_data"
    }
   ],
   "source": [
    "plt.figure(figsize=(10,10))\n",
    "x = plt.gca()\n",
    "sns.countplot('ChronicDiseases', hue = 'TravelInsurance', data = df)\n",
    "plt.xlabel('ChronicDiseases', fontsize = 15)\n",
    "plt.ylabel('Count',  fontsize = 15)\n",
    "plt.title('Travel Insurance and ChronicDiseases', fontsize = 15)\n",
    "x.set_xticklabels(['No', 'yes'], fontsize = 12)\n",
    "plt.show()"
   ]
  },
  {
   "cell_type": "markdown",
   "metadata": {},
   "source": [
    "we see that those who don't have diseases have higher chance of getting travel insurance"
   ]
  },
  {
   "cell_type": "markdown",
   "metadata": {},
   "source": [
    "# Visualizing of GraduateOrNot and Travel Income\n",
    "\n"
   ]
  },
  {
   "cell_type": "code",
   "execution_count": 27,
   "metadata": {},
   "outputs": [
    {
     "name": "stderr",
     "output_type": "stream",
     "text": [
      "C:\\Anaconda\\lib\\site-packages\\seaborn\\_decorators.py:36: FutureWarning: Pass the following variable as a keyword arg: x. From version 0.12, the only valid positional argument will be `data`, and passing other arguments without an explicit keyword will result in an error or misinterpretation.\n",
      "  warnings.warn(\n"
     ]
    },
    {
     "data": {
      "image/png": "[encoded data removed]",
      "text/plain": [
       "<Figure size 720x720 with 1 Axes>"
      ]
     },
     "metadata": {
      "needs_background": "light"
     },
     "output_type": "display_data"
    }
   ],
   "source": [
    "plt.figure(figsize=(10,10))\n",
    "sns.countplot('GraduateOrNot', hue = 'TravelInsurance', data = df)\n",
    "x = plt.gca()\n",
    "plt.xlabel('GraduateOrNot', fontsize = 15)\n",
    "plt.ylabel('Count',  fontsize = 15)\n",
    "plt.title('Travel Insurance and GraduateOrNot', fontsize = 15)\n",
    "x.set_xticklabels(['Yes', 'No'], fontsize = 15)\n",
    "plt.show()"
   ]
  },
  {
   "cell_type": "markdown",
   "metadata": {},
   "source": [
    "we see that graduated people has higher chance of getting travel insurance, the reason could be graducated people travel more"
   ]
  },
  {
   "cell_type": "markdown",
   "metadata": {},
   "source": [
    "# Visualizing of  FrequentFlyer and Travel Income"
   ]
  },
  {
   "cell_type": "code",
   "execution_count": 28,
   "metadata": {},
   "outputs": [
    {
     "name": "stderr",
     "output_type": "stream",
     "text": [
      "C:\\Anaconda\\lib\\site-packages\\seaborn\\_decorators.py:36: FutureWarning: Pass the following variable as a keyword arg: x. From version 0.12, the only valid positional argument will be `data`, and passing other arguments without an explicit keyword will result in an error or misinterpretation.\n",
      "  warnings.warn(\n"
     ]
    },
    {
     "data": {
      "image/png": "[encoded data removed]",
      "text/plain": [
       "<Figure size 720x720 with 1 Axes>"
      ]
     },
     "metadata": {
      "needs_background": "light"
     },
     "output_type": "display_data"
    }
   ],
   "source": [
    "plt.figure(figsize=(10,10))\n",
    "sns.countplot('FrequentFlyer', hue = 'TravelInsurance', data = df)\n",
    "plt.xlabel('FrequentFlyer', fontsize = 15)\n",
    "plt.ylabel('Count',  fontsize = 15)\n",
    "plt.title('Travel Insurance and FrequentFlyer', fontsize = 15)\n",
    "x = plt.gca()\n",
    "x.set_xticklabels(['No', 'YES'], fontsize = 15)\n",
    "plt.show()"
   ]
  },
  {
   "cell_type": "markdown",
   "metadata": {},
   "source": [
    "The non frequent flyer has quite higher chance of getting travel insurance"
   ]
  },
  {
   "cell_type": "markdown",
   "metadata": {},
   "source": [
    "# Visualizing of  EverTravelledAbroad and Travel Income"
   ]
  },
  {
   "cell_type": "code",
   "execution_count": 29,
   "metadata": {},
   "outputs": [
    {
     "name": "stderr",
     "output_type": "stream",
     "text": [
      "C:\\Anaconda\\lib\\site-packages\\seaborn\\_decorators.py:36: FutureWarning: Pass the following variable as a keyword arg: x. From version 0.12, the only valid positional argument will be `data`, and passing other arguments without an explicit keyword will result in an error or misinterpretation.\n",
      "  warnings.warn(\n"
     ]
    },
    {
     "data": {
      "image/png": "[encoded data removed]",
      "text/plain": [
       "<Figure size 720x720 with 1 Axes>"
      ]
     },
     "metadata": {
      "needs_background": "light"
     },
     "output_type": "display_data"
    }
   ],
   "source": [
    "plt.figure(figsize=(10,10))\n",
    "sns.countplot('EverTravelledAbroad', hue = 'TravelInsurance', data = df)\n",
    "plt.xlabel('EverTravelledAbroad', fontsize = 15)\n",
    "plt.ylabel('Count',  fontsize = 15)\n",
    "plt.title('Travel Insurance and EverTravelledAbroad', fontsize = 15)\n",
    "x = plt.gca()\n",
    "x.set_xticklabels(['No', 'YES'], fontsize = 15)\n",
    "plt.show()"
   ]
  },
  {
   "cell_type": "markdown",
   "metadata": {},
   "source": [
    "Those who evertravel abroad has quite higher chance of getting travel insurance"
   ]
  },
  {
   "cell_type": "markdown",
   "metadata": {},
   "source": [
    "# Visualizing employment type and frequentflyer"
   ]
  },
  {
   "cell_type": "code",
   "execution_count": 30,
   "metadata": {},
   "outputs": [
    {
     "name": "stderr",
     "output_type": "stream",
     "text": [
      "C:\\Anaconda\\lib\\site-packages\\seaborn\\_decorators.py:36: FutureWarning: Pass the following variable as a keyword arg: x. From version 0.12, the only valid positional argument will be `data`, and passing other arguments without an explicit keyword will result in an error or misinterpretation.\n",
      "  warnings.warn(\n"
     ]
    },
    {
     "data": {
      "image/png": "[encoded data removed]",
      "text/plain": [
       "<Figure size 720x720 with 1 Axes>"
      ]
     },
     "metadata": {
      "needs_background": "light"
     },
     "output_type": "display_data"
    }
   ],
   "source": [
    "plt.figure(figsize=(10,10))\n",
    "sns.countplot('Employment Type', hue = 'FrequentFlyer', data = df)\n",
    "plt.xlabel('Employment Type', fontsize = 15)\n",
    "plt.ylabel('Count',  fontsize = 15)\n",
    "plt.title('Employment Type and FrequentFlyer', fontsize = 15)\n",
    "x = plt.gca()\n",
    "x.set_xticklabels(['Government scetor', 'Public sector/Self employed'], fontsize = 15)\n",
    "plt.show()"
   ]
  },
  {
   "cell_type": "markdown",
   "metadata": {},
   "source": [
    "Public sector people are frequentflyer when compare to government sector"
   ]
  },
  {
   "cell_type": "markdown",
   "metadata": {},
   "source": [
    "# Visualizing Employment Type and Annual Income"
   ]
  },
  {
   "cell_type": "code",
   "execution_count": 31,
   "metadata": {},
   "outputs": [
    {
     "name": "stderr",
     "output_type": "stream",
     "text": [
      "C:\\Anaconda\\lib\\site-packages\\seaborn\\_decorators.py:36: FutureWarning: Pass the following variable as a keyword arg: x. From version 0.12, the only valid positional argument will be `data`, and passing other arguments without an explicit keyword will result in an error or misinterpretation.\n",
      "  warnings.warn(\n"
     ]
    },
    {
     "data": {
      "image/png": "[encoded data removed]",
      "text/plain": [
       "<Figure size 720x720 with 1 Axes>"
      ]
     },
     "metadata": {
      "needs_background": "light"
     },
     "output_type": "display_data"
    }
   ],
   "source": [
    "plt.figure(figsize=(10,10))\n",
    "sns.countplot('Employment Type', hue = 'grpai', data = df)\n",
    "plt.xlabel('Employment Type', fontsize = 15)\n",
    "plt.ylabel('Count',  fontsize = 15)\n",
    "plt.title('Employment Type and Annual Income', fontsize = 15)\n",
    "x = plt.gca()\n",
    "x.set_xticklabels(['Government scetor', 'Public sector/Self employed'], fontsize = 15)\n",
    "plt.show()"
   ]
  },
  {
   "cell_type": "markdown",
   "metadata": {},
   "source": [
    "Public sector/self employed people earning more annual income  "
   ]
  },
  {
   "cell_type": "markdown",
   "metadata": {},
   "source": [
    "# Employment Type and EverTravelledAbroad"
   ]
  },
  {
   "cell_type": "code",
   "execution_count": 32,
   "metadata": {},
   "outputs": [
    {
     "name": "stderr",
     "output_type": "stream",
     "text": [
      "C:\\Anaconda\\lib\\site-packages\\seaborn\\_decorators.py:36: FutureWarning: Pass the following variable as a keyword arg: x. From version 0.12, the only valid positional argument will be `data`, and passing other arguments without an explicit keyword will result in an error or misinterpretation.\n",
      "  warnings.warn(\n"
     ]
    },
    {
     "data": {
      "image/png": "[encoded data removed]",
      "text/plain": [
       "<Figure size 720x720 with 1 Axes>"
      ]
     },
     "metadata": {
      "needs_background": "light"
     },
     "output_type": "display_data"
    }
   ],
   "source": [
    "plt.figure(figsize=(10,10))\n",
    "sns.countplot('Employment Type', hue = 'EverTravelledAbroad', data = df)\n",
    "plt.xlabel('Employment Type', fontsize = 15)\n",
    "plt.ylabel('Count',  fontsize = 15)\n",
    "plt.title('Employment Type and EverTravelledAbroad', fontsize = 15)\n",
    "x = plt.gca()\n",
    "x.set_xticklabels(['Government scetor', 'Public sector/Self employed'], fontsize = 15)\n",
    "plt.show()"
   ]
  },
  {
   "cell_type": "markdown",
   "metadata": {},
   "source": [
    "we can say that public sector people are they travel abroad more and more they travel for first time "
   ]
  },
  {
   "cell_type": "code",
   "execution_count": 33,
   "metadata": {},
   "outputs": [
    {
     "name": "stderr",
     "output_type": "stream",
     "text": [
      "C:\\Anaconda\\lib\\site-packages\\seaborn\\_decorators.py:36: FutureWarning: Pass the following variable as a keyword arg: x. From version 0.12, the only valid positional argument will be `data`, and passing other arguments without an explicit keyword will result in an error or misinterpretation.\n",
      "  warnings.warn(\n"
     ]
    },
    {
     "data": {
      "image/png": "[encoded data removed]",
      "text/plain": [
       "<Figure size 1440x720 with 1 Axes>"
      ]
     },
     "metadata": {
      "needs_background": "light"
     },
     "output_type": "display_data"
    }
   ],
   "source": [
    "plt.figure(figsize=(20,10))\n",
    "sns.countplot('GraduateOrNot', hue = 'grpai', data = df)\n",
    "plt.xlabel('GraduateOrNot', fontsize = 15)\n",
    "plt.ylabel('Count',  fontsize = 15)\n",
    "plt.title('GraduateOrNot and Annual Income', fontsize = 15)\n",
    "x = plt.gca()\n",
    "x.set_xticklabels(['No', 'Yes'], fontsize = 15)\n",
    "plt.show()"
   ]
  },
  {
   "cell_type": "markdown",
   "metadata": {},
   "source": [
    "We can say that graduated people earn more"
   ]
  },
  {
   "cell_type": "markdown",
   "metadata": {},
   "source": [
    "# Observation from graph\n",
    "\n",
    "Those who are earning high annaual income are having higher chance of getting travel insurance\n",
    "\n",
    "The public sector employer's are earning more than government sector employer's\n",
    "\n",
    "Non-frequrnt flyer have some chance of getting travel insurance then frequent flyer\n",
    "\n",
    "public sector employer's are high in both frequent flyer and non-frequent flyer  \n",
    "\n",
    "Those who travelling frist time abroad has some chance of getting travel insurance than those who travel abroad frequently\n",
    "\n",
    "public sector people are high number of travelling for the first time to abroad and also frequent travellers\n",
    "\n",
    "we can also see that graduated people earning high annual income\n",
    "\n",
    "The non-ChronicDiseases people get higher chance for travel insurance \n"
   ]
  },
  {
   "cell_type": "markdown",
   "metadata": {},
   "source": [
    "# Changing the categorical features into discrete values"
   ]
  },
  {
   "cell_type": "code",
   "execution_count": 34,
   "metadata": {},
   "outputs": [
    {
     "data": {
      "text/html": [
       "<div>\n",
       "<style scoped>\n",
       "    .dataframe tbody tr th:only-of-type {\n",
       "        vertical-align: middle;\n",
       "    }\n",
       "\n",
       "    .dataframe tbody tr th {\n",
       "        vertical-align: top;\n",
       "    }\n",
       "\n",
       "    .dataframe thead th {\n",
       "        text-align: right;\n",
       "    }\n",
       "</style>\n",
       "<table border=\"1\" class=\"dataframe\">\n",
       "  <thead>\n",
       "    <tr style=\"text-align: right;\">\n",
       "      <th></th>\n",
       "      <th>Age</th>\n",
       "      <th>Employment Type</th>\n",
       "      <th>GraduateOrNot</th>\n",
       "      <th>AnnualIncome</th>\n",
       "      <th>FamilyMembers</th>\n",
       "      <th>ChronicDiseases</th>\n",
       "      <th>FrequentFlyer</th>\n",
       "      <th>EverTravelledAbroad</th>\n",
       "      <th>TravelInsurance</th>\n",
       "      <th>grpai</th>\n",
       "    </tr>\n",
       "  </thead>\n",
       "  <tbody>\n",
       "    <tr>\n",
       "      <th>0</th>\n",
       "      <td>31</td>\n",
       "      <td>1</td>\n",
       "      <td>1</td>\n",
       "      <td>400000</td>\n",
       "      <td>6</td>\n",
       "      <td>1</td>\n",
       "      <td>0</td>\n",
       "      <td>0</td>\n",
       "      <td>0</td>\n",
       "      <td>(200000, 400000]</td>\n",
       "    </tr>\n",
       "    <tr>\n",
       "      <th>1</th>\n",
       "      <td>31</td>\n",
       "      <td>2</td>\n",
       "      <td>1</td>\n",
       "      <td>1250000</td>\n",
       "      <td>7</td>\n",
       "      <td>0</td>\n",
       "      <td>0</td>\n",
       "      <td>0</td>\n",
       "      <td>0</td>\n",
       "      <td>(1200000, 1400000]</td>\n",
       "    </tr>\n",
       "    <tr>\n",
       "      <th>2</th>\n",
       "      <td>34</td>\n",
       "      <td>2</td>\n",
       "      <td>1</td>\n",
       "      <td>500000</td>\n",
       "      <td>4</td>\n",
       "      <td>1</td>\n",
       "      <td>0</td>\n",
       "      <td>0</td>\n",
       "      <td>1</td>\n",
       "      <td>(400000, 600000]</td>\n",
       "    </tr>\n",
       "    <tr>\n",
       "      <th>3</th>\n",
       "      <td>28</td>\n",
       "      <td>2</td>\n",
       "      <td>1</td>\n",
       "      <td>700000</td>\n",
       "      <td>3</td>\n",
       "      <td>1</td>\n",
       "      <td>0</td>\n",
       "      <td>0</td>\n",
       "      <td>0</td>\n",
       "      <td>(600000, 1000000]</td>\n",
       "    </tr>\n",
       "    <tr>\n",
       "      <th>4</th>\n",
       "      <td>28</td>\n",
       "      <td>2</td>\n",
       "      <td>1</td>\n",
       "      <td>700000</td>\n",
       "      <td>8</td>\n",
       "      <td>1</td>\n",
       "      <td>1</td>\n",
       "      <td>0</td>\n",
       "      <td>0</td>\n",
       "      <td>(600000, 1000000]</td>\n",
       "    </tr>\n",
       "  </tbody>\n",
       "</table>\n",
       "</div>"
      ],
      "text/plain": [
       "   Age  Employment Type  GraduateOrNot  AnnualIncome  FamilyMembers  \\\n",
       "0   31                1              1        400000              6   \n",
       "1   31                2              1       1250000              7   \n",
       "2   34                2              1        500000              4   \n",
       "3   28                2              1        700000              3   \n",
       "4   28                2              1        700000              8   \n",
       "\n",
       "   ChronicDiseases  FrequentFlyer  EverTravelledAbroad  TravelInsurance  \\\n",
       "0                1              0                    0                0   \n",
       "1                0              0                    0                0   \n",
       "2                1              0                    0                1   \n",
       "3                1              0                    0                0   \n",
       "4                1              1                    0                0   \n",
       "\n",
       "                grpai  \n",
       "0    (200000, 400000]  \n",
       "1  (1200000, 1400000]  \n",
       "2    (400000, 600000]  \n",
       "3   (600000, 1000000]  \n",
       "4   (600000, 1000000]  "
      ]
     },
     "execution_count": 34,
     "metadata": {},
     "output_type": "execute_result"
    }
   ],
   "source": [
    "df['Employment Type'] = df['Employment Type'].replace({'Government Sector':1, 'Private Sector/Self Employed':2})\n",
    "df['GraduateOrNot']  = df['GraduateOrNot'].replace({'Yes': 1, 'No' : 0})\n",
    "df['FrequentFlyer']  = df['FrequentFlyer'].replace({'Yes':1, 'No': 0})\n",
    "df['EverTravelledAbroad'] = df['EverTravelledAbroad'].replace({'Yes':1, 'No': 0})\n",
    "df.head()"
   ]
  },
  {
   "cell_type": "markdown",
   "metadata": {},
   "source": [
    "# Separating dependent and independent features"
   ]
  },
  {
   "cell_type": "code",
   "execution_count": 35,
   "metadata": {},
   "outputs": [
    {
     "name": "stdout",
     "output_type": "stream",
     "text": [
      "The shape of independent feratures (1987, 8)\n",
      "The shape of dependent feratures (1987,)\n"
     ]
    }
   ],
   "source": [
    "x = df.drop(['TravelInsurance','grpai'], axis = 1)\n",
    "y = df['TravelInsurance']\n",
    "\n",
    "print('The shape of independent feratures',x.shape)\n",
    "print('The shape of dependent feratures', y.shape)"
   ]
  },
  {
   "cell_type": "markdown",
   "metadata": {},
   "source": [
    "# checking for class count"
   ]
  },
  {
   "cell_type": "code",
   "execution_count": 36,
   "metadata": {},
   "outputs": [
    {
     "data": {
      "text/plain": [
       "0    1277\n",
       "1     710\n",
       "Name: TravelInsurance, dtype: int64"
      ]
     },
     "execution_count": 36,
     "metadata": {},
     "output_type": "execute_result"
    }
   ],
   "source": [
    "y.value_counts()"
   ]
  },
  {
   "cell_type": "markdown",
   "metadata": {},
   "source": [
    "As i said in the starting the dataset is imbalanced"
   ]
  },
  {
   "cell_type": "markdown",
   "metadata": {},
   "source": [
    "# Balancing the dataset by using imblearn over sampling"
   ]
  },
  {
   "cell_type": "code",
   "execution_count": 37,
   "metadata": {},
   "outputs": [],
   "source": [
    "from imblearn.over_sampling import RandomOverSampler\n",
    "os = RandomOverSampler()\n",
    "x_res,y_res = os.fit_resample(x,y)"
   ]
  },
  {
   "cell_type": "markdown",
   "metadata": {},
   "source": [
    "The imblearn over sample the data "
   ]
  },
  {
   "cell_type": "code",
   "execution_count": 38,
   "metadata": {},
   "outputs": [
    {
     "name": "stdout",
     "output_type": "stream",
     "text": [
      "x_Shape (2554, 8)\n",
      "Y_shape (2554,)\n"
     ]
    }
   ],
   "source": [
    "print('x_Shape',x_res.shape)\n",
    "print('Y_shape',y_res.shape)"
   ]
  },
  {
   "cell_type": "markdown",
   "metadata": {},
   "source": [
    "The over sample made both the class equale by increase the minority class"
   ]
  },
  {
   "cell_type": "code",
   "execution_count": 39,
   "metadata": {},
   "outputs": [
    {
     "data": {
      "text/plain": [
       "1    1277\n",
       "0    1277\n",
       "Name: TravelInsurance, dtype: int64"
      ]
     },
     "execution_count": 39,
     "metadata": {},
     "output_type": "execute_result"
    }
   ],
   "source": [
    "y_res.value_counts()"
   ]
  },
  {
   "cell_type": "code",
   "execution_count": 40,
   "metadata": {},
   "outputs": [
    {
     "data": {
      "image/png": "[encoded data removed]",
      "text/plain": [
       "<Figure size 432x288 with 1 Axes>"
      ]
     },
     "metadata": {},
     "output_type": "display_data"
    }
   ],
   "source": [
    "plt.pie(x = y_res.value_counts(), labels = [0,1], autopct = \"%0.2f%%\", radius = 2)\n",
    "plt.show()"
   ]
  },
  {
   "cell_type": "markdown",
   "metadata": {},
   "source": [
    "We can see that the dataset is balanced "
   ]
  },
  {
   "cell_type": "markdown",
   "metadata": {},
   "source": [
    "# Feature normalizing"
   ]
  },
  {
   "cell_type": "markdown",
   "metadata": {},
   "source": [
    "Using Standard normal distribution "
   ]
  },
  {
   "cell_type": "code",
   "execution_count": 41,
   "metadata": {},
   "outputs": [],
   "source": [
    "x = (x_res - x_res.mean())/x_res.std()"
   ]
  },
  {
   "cell_type": "code",
   "execution_count": 42,
   "metadata": {},
   "outputs": [],
   "source": [
    "x = x.values\n",
    "y = y_res.values"
   ]
  },
  {
   "cell_type": "markdown",
   "metadata": {},
   "source": [
    "# Splitting Training and Validation dataset"
   ]
  },
  {
   "cell_type": "markdown",
   "metadata": {},
   "source": [
    "90% to the Training dataset\n",
    "\n",
    "10% to the validation dataset"
   ]
  },
  {
   "cell_type": "code",
   "execution_count": 43,
   "metadata": {},
   "outputs": [],
   "source": [
    "x_train, x_val, y_train, y_val = train_test_split(x,y, test_size = 0.1, random_state = 10, stratify=y)"
   ]
  },
  {
   "cell_type": "code",
   "execution_count": 44,
   "metadata": {},
   "outputs": [
    {
     "data": {
      "text/plain": [
       "(2298, 8)"
      ]
     },
     "execution_count": 44,
     "metadata": {},
     "output_type": "execute_result"
    }
   ],
   "source": [
    "x_train.shape"
   ]
  },
  {
   "cell_type": "code",
   "execution_count": 45,
   "metadata": {},
   "outputs": [
    {
     "data": {
      "text/plain": [
       "(2298,)"
      ]
     },
     "execution_count": 45,
     "metadata": {},
     "output_type": "execute_result"
    }
   ],
   "source": [
    "y_train.shape"
   ]
  },
  {
   "cell_type": "code",
   "execution_count": 46,
   "metadata": {},
   "outputs": [
    {
     "data": {
      "text/plain": [
       "(256, 8)"
      ]
     },
     "execution_count": 46,
     "metadata": {},
     "output_type": "execute_result"
    }
   ],
   "source": [
    "x_val.shape"
   ]
  },
  {
   "cell_type": "code",
   "execution_count": 47,
   "metadata": {},
   "outputs": [
    {
     "data": {
      "text/plain": [
       "(256,)"
      ]
     },
     "execution_count": 47,
     "metadata": {},
     "output_type": "execute_result"
    }
   ],
   "source": [
    "y_val.shape"
   ]
  },
  {
   "cell_type": "markdown",
   "metadata": {},
   "source": [
    "# Machine Learning model"
   ]
  },
  {
   "cell_type": "markdown",
   "metadata": {},
   "source": [
    "I am using logistics regression, SVM and Neural Network "
   ]
  },
  {
   "cell_type": "markdown",
   "metadata": {},
   "source": [
    "# Logistic Regression"
   ]
  },
  {
   "cell_type": "code",
   "execution_count": 48,
   "metadata": {},
   "outputs": [
    {
     "data": {
      "text/plain": [
       "LogisticRegression(C=1000, max_iter=150)"
      ]
     },
     "execution_count": 48,
     "metadata": {},
     "output_type": "execute_result"
    }
   ],
   "source": [
    "model_log = LogisticRegression(max_iter = 150, C = 1000)\n",
    "model_log.fit(x_train,y_train)\n",
    "\n"
   ]
  },
  {
   "cell_type": "code",
   "execution_count": 49,
   "metadata": {},
   "outputs": [
    {
     "data": {
      "text/plain": [
       "0.7210617928633595"
      ]
     },
     "execution_count": 49,
     "metadata": {},
     "output_type": "execute_result"
    }
   ],
   "source": [
    "model_log.score(x_train,y_train)"
   ]
  },
  {
   "cell_type": "code",
   "execution_count": 50,
   "metadata": {},
   "outputs": [
    {
     "data": {
      "text/plain": [
       "0.71875"
      ]
     },
     "execution_count": 50,
     "metadata": {},
     "output_type": "execute_result"
    }
   ],
   "source": [
    "model_log.score(x_val,y_val)"
   ]
  },
  {
   "cell_type": "code",
   "execution_count": 51,
   "metadata": {},
   "outputs": [
    {
     "data": {
      "text/plain": [
       "<sklearn.metrics._plot.roc_curve.RocCurveDisplay at 0x1f009ecabe0>"
      ]
     },
     "execution_count": 51,
     "metadata": {},
     "output_type": "execute_result"
    },
    {
     "data": {
      "image/png": "[encoded data removed]",
      "text/plain": [
       "<Figure size 432x288 with 1 Axes>"
      ]
     },
     "metadata": {
      "needs_background": "light"
     },
     "output_type": "display_data"
    }
   ],
   "source": [
    "metrics.plot_roc_curve(model_log, x_val, y_val)"
   ]
  },
  {
   "cell_type": "code",
   "execution_count": 52,
   "metadata": {},
   "outputs": [
    {
     "name": "stdout",
     "output_type": "stream",
     "text": [
      "classification_report: \n",
      "               precision    recall  f1-score   support\n",
      "\n",
      "           0       0.70      0.77      0.73       128\n",
      "           1       0.75      0.66      0.70       128\n",
      "\n",
      "    accuracy                           0.72       256\n",
      "   macro avg       0.72      0.72      0.72       256\n",
      "weighted avg       0.72      0.72      0.72       256\n",
      "\n"
     ]
    }
   ],
   "source": [
    "print('classification_report: \\n',metrics.classification_report(y_val, model_log.predict(x_val)))"
   ]
  },
  {
   "cell_type": "markdown",
   "metadata": {},
   "source": [
    "The logistic regression gives the accuracy of validation set 70%\n",
    "\n",
    "There no overfitting problem\n",
    "\n",
    "c or 1/lambda = 1000 (where lambda = 0.001)\n",
    "\n",
    "max_iter = 150\n",
    "\n",
    "There is a Underfitting problem \n",
    "\n",
    "solution for underfitting is to add new features or polynomial function \n",
    "\n"
   ]
  },
  {
   "cell_type": "code",
   "execution_count": 53,
   "metadata": {},
   "outputs": [
    {
     "name": "stderr",
     "output_type": "stream",
     "text": [
      "C:\\Anaconda\\lib\\site-packages\\seaborn\\matrix.py:265: MatplotlibDeprecationWarning: Case-insensitive properties were deprecated in 3.3 and support will be removed two minor releases later\n",
      "  ax.text(x, y, annotation, **text_kwargs)\n"
     ]
    },
    {
     "data": {
      "image/png": "[encoded data removed]",
      "text/plain": [
       "<Figure size 504x504 with 2 Axes>"
      ]
     },
     "metadata": {
      "needs_background": "light"
     },
     "output_type": "display_data"
    }
   ],
   "source": [
    "from sklearn.metrics import confusion_matrix, plot_precision_recall_curve\n",
    "\n",
    "log = confusion_matrix(y_val, model_log.predict(x_val))\n",
    "fig, ax = plt.subplots(1,1, figsize = (7,7), constrained_layout = True)\n",
    "\n",
    "sns.heatmap(log, annot = True, cmap = 'Blues', ax = ax, center = 0, annot_kws={'fontsize': 15, 'Label': ['TN', 'Fp', 'FN', 'TP']})\n",
    "ax.set_ylabel('Actual', fontsize = 15)\n",
    "ax.set_xlabel('Prediction', fontsize = 15)\n",
    "plt.show()"
   ]
  },
  {
   "cell_type": "markdown",
   "metadata": {},
   "source": [
    "True positive = 79\n",
    "\n",
    "True Negative = 99\n",
    "\n",
    "False Postive = 29\n",
    "\n",
    "False Negative  = 49\n",
    "\n",
    "\n",
    "False Negative is higher than Flase postive then we should focuse more on Recall"
   ]
  },
  {
   "cell_type": "code",
   "execution_count": 54,
   "metadata": {},
   "outputs": [
    {
     "data": {
      "text/html": [
       "<div>\n",
       "<style scoped>\n",
       "    .dataframe tbody tr th:only-of-type {\n",
       "        vertical-align: middle;\n",
       "    }\n",
       "\n",
       "    .dataframe tbody tr th {\n",
       "        vertical-align: top;\n",
       "    }\n",
       "\n",
       "    .dataframe thead th {\n",
       "        text-align: right;\n",
       "    }\n",
       "</style>\n",
       "<table border=\"1\" class=\"dataframe\">\n",
       "  <thead>\n",
       "    <tr style=\"text-align: right;\">\n",
       "      <th></th>\n",
       "      <th>Precision</th>\n",
       "      <th>Recall</th>\n",
       "      <th>F1_score</th>\n",
       "    </tr>\n",
       "  </thead>\n",
       "  <tbody>\n",
       "    <tr>\n",
       "      <th>0</th>\n",
       "      <td>0.745614</td>\n",
       "      <td>0.664062</td>\n",
       "      <td>0.702479</td>\n",
       "    </tr>\n",
       "  </tbody>\n",
       "</table>\n",
       "</div>"
      ],
      "text/plain": [
       "   Precision    Recall  F1_score\n",
       "0   0.745614  0.664062  0.702479"
      ]
     },
     "execution_count": 54,
     "metadata": {},
     "output_type": "execute_result"
    }
   ],
   "source": [
    "from sklearn.metrics import precision_score, recall_score, f1_score\n",
    "\n",
    "precision  = precision_score(y_val, model_log.predict(x_val))\n",
    " \n",
    "recall = recall_score(y_val, model_log.predict(x_val))\n",
    "\n",
    "f1_score = f1_score(y_val, model_log.predict(x_val))\n",
    "\n",
    "df_metrics = pd.DataFrame({'Precision': [precision], \"Recall\": [recall], 'F1_score': [f1_score]})\n",
    "df_metrics"
   ]
  },
  {
   "cell_type": "markdown",
   "metadata": {},
   "source": [
    "We can see that recall is low only 61% "
   ]
  },
  {
   "cell_type": "markdown",
   "metadata": {},
   "source": [
    "# SVM"
   ]
  },
  {
   "cell_type": "markdown",
   "metadata": {},
   "source": [
    "The reason for using the SVM is that it has modified costfunction\n",
    "\n",
    "where \n",
    "\n",
    "y = 1 if theta.T(x) >= 1\n",
    "\n",
    "y = 0 if thetaq.T(x) <= -1\n",
    "\n",
    "SVM use large margin separation \n",
    "\n",
    "C = 1/Lambda \n",
    "\n",
    "if c is large overfit\n",
    "\n",
    "if c is too small underfit"
   ]
  },
  {
   "cell_type": "code",
   "execution_count": 55,
   "metadata": {},
   "outputs": [
    {
     "data": {
      "text/plain": [
       "SVC(C=1000)"
      ]
     },
     "execution_count": 55,
     "metadata": {},
     "output_type": "execute_result"
    }
   ],
   "source": [
    "model_svc = SVC(C = 1000)\n",
    "model_svc.fit(x_train,y_train)"
   ]
  },
  {
   "cell_type": "code",
   "execution_count": 56,
   "metadata": {},
   "outputs": [
    {
     "data": {
      "text/plain": [
       "0.855526544821584"
      ]
     },
     "execution_count": 56,
     "metadata": {},
     "output_type": "execute_result"
    }
   ],
   "source": [
    "model_svc.score(x_train,y_train)"
   ]
  },
  {
   "cell_type": "code",
   "execution_count": 57,
   "metadata": {},
   "outputs": [
    {
     "data": {
      "text/plain": [
       "0.76953125"
      ]
     },
     "execution_count": 57,
     "metadata": {},
     "output_type": "execute_result"
    }
   ],
   "source": [
    "model_svc.score(x_val,y_val)"
   ]
  },
  {
   "cell_type": "code",
   "execution_count": 58,
   "metadata": {},
   "outputs": [
    {
     "data": {
      "text/plain": [
       "<sklearn.metrics._plot.roc_curve.RocCurveDisplay at 0x1f00a01f790>"
      ]
     },
     "execution_count": 58,
     "metadata": {},
     "output_type": "execute_result"
    },
    {
     "data": {
      "image/png": "[encoded data removed]",
      "text/plain": [
       "<Figure size 432x288 with 1 Axes>"
      ]
     },
     "metadata": {
      "needs_background": "light"
     },
     "output_type": "display_data"
    }
   ],
   "source": [
    "metrics.plot_roc_curve(model_svc, x_val, y_val)"
   ]
  },
  {
   "cell_type": "code",
   "execution_count": 59,
   "metadata": {},
   "outputs": [
    {
     "name": "stdout",
     "output_type": "stream",
     "text": [
      "classification_report: \n",
      "               precision    recall  f1-score   support\n",
      "\n",
      "           0       0.74      0.83      0.78       128\n",
      "           1       0.81      0.71      0.76       128\n",
      "\n",
      "    accuracy                           0.77       256\n",
      "   macro avg       0.77      0.77      0.77       256\n",
      "weighted avg       0.77      0.77      0.77       256\n",
      "\n"
     ]
    }
   ],
   "source": [
    "print('classification_report: \\n',metrics.classification_report(y_val, model_svc.predict(x_val)))"
   ]
  },
  {
   "cell_type": "code",
   "execution_count": 60,
   "metadata": {},
   "outputs": [
    {
     "data": {
      "image/png": "[encoded data removed]",
      "text/plain": [
       "<Figure size 504x504 with 2 Axes>"
      ]
     },
     "metadata": {
      "needs_background": "light"
     },
     "output_type": "display_data"
    }
   ],
   "source": [
    "svc = confusion_matrix(y_val, model_svc.predict(x_val))\n",
    "fig, ax = plt.subplots(1,1, figsize = (7,7), constrained_layout = True)\n",
    "\n",
    "sns.heatmap(svc, annot = True, cmap = 'Blues', ax = ax, center = 0, annot_kws={'fontsize': 15})\n",
    "ax.set_ylabel('Actual', fontsize = 15)\n",
    "ax.set_xlabel('Prediction', fontsize = 15)\n",
    "plt.show()"
   ]
  },
  {
   "cell_type": "code",
   "execution_count": 61,
   "metadata": {},
   "outputs": [
    {
     "data": {
      "text/html": [
       "<div>\n",
       "<style scoped>\n",
       "    .dataframe tbody tr th:only-of-type {\n",
       "        vertical-align: middle;\n",
       "    }\n",
       "\n",
       "    .dataframe tbody tr th {\n",
       "        vertical-align: top;\n",
       "    }\n",
       "\n",
       "    .dataframe thead th {\n",
       "        text-align: right;\n",
       "    }\n",
       "</style>\n",
       "<table border=\"1\" class=\"dataframe\">\n",
       "  <thead>\n",
       "    <tr style=\"text-align: right;\">\n",
       "      <th></th>\n",
       "      <th>Precision</th>\n",
       "      <th>Recall</th>\n",
       "      <th>F1_score</th>\n",
       "    </tr>\n",
       "  </thead>\n",
       "  <tbody>\n",
       "    <tr>\n",
       "      <th>0</th>\n",
       "      <td>0.80531</td>\n",
       "      <td>0.710938</td>\n",
       "      <td>0.755187</td>\n",
       "    </tr>\n",
       "  </tbody>\n",
       "</table>\n",
       "</div>"
      ],
      "text/plain": [
       "   Precision    Recall  F1_score\n",
       "0    0.80531  0.710938  0.755187"
      ]
     },
     "execution_count": 61,
     "metadata": {},
     "output_type": "execute_result"
    }
   ],
   "source": [
    "from sklearn.metrics import precision_score, recall_score, f1_score\n",
    "precision  = precision_score(y_val, model_svc.predict(x_val))\n",
    " \n",
    "recall = recall_score(y_val, model_svc.predict(x_val))\n",
    "\n",
    "f1_score = f1_score(y_val, model_svc.predict(x_val))\n",
    "\n",
    "df_metrics_svc = pd.DataFrame({'Precision': [precision], \"Recall\": [recall], 'F1_score': [f1_score]})\n",
    "df_metrics_svc"
   ]
  },
  {
   "cell_type": "markdown",
   "metadata": {},
   "source": [
    "Compare to logistic regression, SVM is doing well\n",
    "\n",
    "The precision and recall are ok when compare to logistic regression\n",
    "\n",
    "accuracy of valdiation data = 75%\n",
    "\n",
    "Flase Neagative is 37 is 10% higher then Flase positive\n",
    "\n",
    "True positive = 91\n",
    "\n",
    "True Negative = 100\n",
    "\n",
    "False Postive = 27\n",
    "\n",
    "False Negative  = 37\n"
   ]
  },
  {
   "cell_type": "markdown",
   "metadata": {},
   "source": [
    "# Neural Network"
   ]
  },
  {
   "cell_type": "markdown",
   "metadata": {},
   "source": [
    "I usually use Neauarl Network\n",
    "\n",
    "because it can be used when there is higher number of features \n",
    "\n",
    "neural network learn more complex featues from input\n",
    "\n",
    "Here \n",
    "\n",
    "input layer with activation function relu where it avoids the slop leads to zero when Z is highe and lower\n",
    "\n",
    "2 Hidden layer same relu activation\n",
    "\n",
    "1 output layer activation sigmoid because this problem is binary class\n",
    "\n",
    "lambda = 0.001\n",
    "\n",
    "epochs (iteration) = 150\n",
    "\n",
    "optimizer = Adam because it has both advantages of RMs and gradient descent with momentum\n",
    "\n",
    "loss = binary_crossentropy\n",
    "\n"
   ]
  },
  {
   "cell_type": "code",
   "execution_count": 62,
   "metadata": {},
   "outputs": [
    {
     "name": "stdout",
     "output_type": "stream",
     "text": [
      "Model: \"sequential\"\n",
      "_________________________________________________________________\n",
      "Layer (type)                 Output Shape              Param #   \n",
      "=================================================================\n",
      "dense (Dense)                (None, 212)               1908      \n",
      "_________________________________________________________________\n",
      "dense_1 (Dense)              (None, 121)               25773     \n",
      "_________________________________________________________________\n",
      "dense_2 (Dense)              (None, 10)                1220      \n",
      "_________________________________________________________________\n",
      "dense_3 (Dense)              (None, 1)                 11        \n",
      "=================================================================\n",
      "Total params: 28,912\n",
      "Trainable params: 28,912\n",
      "Non-trainable params: 0\n",
      "_________________________________________________________________\n"
     ]
    }
   ],
   "source": [
    "model = tf.keras.models.Sequential([tf.keras.layers.Dense(212, input_shape=(8,),activation = 'relu', kernel_regularizer = tf.keras.regularizers.L2(0.001)),\n",
    "                                   tf.keras.layers.Dense(121, activation = 'relu', kernel_regularizer = tf.keras.regularizers.L2(0.001)),\n",
    "                                   tf.keras.layers.Dense(10, activation = 'relu', kernel_regularizer = tf.keras.regularizers.L2(0.001)),\n",
    "                                   tf.keras.layers.Dense(1, activation = 'sigmoid', kernel_regularizer = tf.keras.regularizers.L2(0.001))])\n",
    "\n",
    "\n",
    "model.compile(loss = tf.keras.losses.binary_crossentropy, optimizer = 'adam', metrics = ['accuracy'])\n",
    "\n",
    "\n",
    "model.summary()"
   ]
  },
  {
   "cell_type": "code",
   "execution_count": 63,
   "metadata": {},
   "outputs": [
    {
     "name": "stdout",
     "output_type": "stream",
     "text": [
      "Epoch 1/150\n",
      "72/72 [==============================] - 3s 20ms/step - loss: 0.7618 - accuracy: 0.7207 - val_loss: 0.6629 - val_accuracy: 0.7383\n",
      "Epoch 2/150\n",
      "72/72 [==============================] - 0s 1ms/step - loss: 0.6339 - accuracy: 0.7603 - val_loss: 0.6178 - val_accuracy: 0.7500\n",
      "Epoch 3/150\n",
      "72/72 [==============================] - 0s 1ms/step - loss: 0.6152 - accuracy: 0.7508 - val_loss: 0.6054 - val_accuracy: 0.7734\n",
      "Epoch 4/150\n",
      "72/72 [==============================] - 0s 1ms/step - loss: 0.5851 - accuracy: 0.7699 - val_loss: 0.5731 - val_accuracy: 0.7695\n",
      "Epoch 5/150\n",
      "72/72 [==============================] - 0s 1ms/step - loss: 0.5592 - accuracy: 0.7737 - val_loss: 0.5702 - val_accuracy: 0.7539\n",
      "Epoch 6/150\n",
      "72/72 [==============================] - 0s 1ms/step - loss: 0.5648 - accuracy: 0.7715 - val_loss: 0.5691 - val_accuracy: 0.7500\n",
      "Epoch 7/150\n",
      "72/72 [==============================] - 0s 1ms/step - loss: 0.5445 - accuracy: 0.7713 - val_loss: 0.5594 - val_accuracy: 0.7461\n",
      "Epoch 8/150\n",
      "72/72 [==============================] - 0s 1ms/step - loss: 0.5263 - accuracy: 0.7828 - val_loss: 0.5476 - val_accuracy: 0.7539\n",
      "Epoch 9/150\n",
      "72/72 [==============================] - 0s 1ms/step - loss: 0.5201 - accuracy: 0.7735 - val_loss: 0.5454 - val_accuracy: 0.7656\n",
      "Epoch 10/150\n",
      "72/72 [==============================] - 0s 1ms/step - loss: 0.5227 - accuracy: 0.7747 - val_loss: 0.5414 - val_accuracy: 0.7617\n",
      "Epoch 11/150\n",
      "72/72 [==============================] - 0s 1ms/step - loss: 0.5110 - accuracy: 0.7912 - val_loss: 0.5405 - val_accuracy: 0.7422\n",
      "Epoch 12/150\n",
      "72/72 [==============================] - 0s 1ms/step - loss: 0.4901 - accuracy: 0.8018 - val_loss: 0.5324 - val_accuracy: 0.7617\n",
      "Epoch 13/150\n",
      "72/72 [==============================] - 0s 1ms/step - loss: 0.5080 - accuracy: 0.7810 - val_loss: 0.5344 - val_accuracy: 0.7578\n",
      "Epoch 14/150\n",
      "72/72 [==============================] - 0s 1ms/step - loss: 0.5094 - accuracy: 0.7705 - val_loss: 0.5324 - val_accuracy: 0.7617\n",
      "Epoch 15/150\n",
      "72/72 [==============================] - 0s 1ms/step - loss: 0.5076 - accuracy: 0.7668 - val_loss: 0.5249 - val_accuracy: 0.7734\n",
      "Epoch 16/150\n",
      "72/72 [==============================] - 0s 1ms/step - loss: 0.5051 - accuracy: 0.7784 - val_loss: 0.5281 - val_accuracy: 0.7383\n",
      "Epoch 17/150\n",
      "72/72 [==============================] - 0s 1ms/step - loss: 0.5076 - accuracy: 0.7716 - val_loss: 0.5277 - val_accuracy: 0.7461\n",
      "Epoch 18/150\n",
      "72/72 [==============================] - 0s 1ms/step - loss: 0.5045 - accuracy: 0.7854 - val_loss: 0.5215 - val_accuracy: 0.7617\n",
      "Epoch 19/150\n",
      "72/72 [==============================] - 0s 1ms/step - loss: 0.4859 - accuracy: 0.7955 - val_loss: 0.5180 - val_accuracy: 0.7578\n",
      "Epoch 20/150\n",
      "72/72 [==============================] - 0s 1ms/step - loss: 0.4878 - accuracy: 0.7870 - val_loss: 0.5206 - val_accuracy: 0.7539\n",
      "Epoch 21/150\n",
      "72/72 [==============================] - 0s 1ms/step - loss: 0.4935 - accuracy: 0.7808 - val_loss: 0.5263 - val_accuracy: 0.7461\n",
      "Epoch 22/150\n",
      "72/72 [==============================] - 0s 928us/step - loss: 0.4836 - accuracy: 0.7950 - val_loss: 0.5236 - val_accuracy: 0.7617\n",
      "Epoch 23/150\n",
      "72/72 [==============================] - 0s 1ms/step - loss: 0.4781 - accuracy: 0.7820 - val_loss: 0.5253 - val_accuracy: 0.7656\n",
      "Epoch 24/150\n",
      "72/72 [==============================] - 0s 1ms/step - loss: 0.4686 - accuracy: 0.8003 - val_loss: 0.5253 - val_accuracy: 0.7617\n",
      "Epoch 25/150\n",
      "72/72 [==============================] - 0s 1ms/step - loss: 0.4933 - accuracy: 0.7883 - val_loss: 0.5321 - val_accuracy: 0.7656\n",
      "Epoch 26/150\n",
      "72/72 [==============================] - 0s 1ms/step - loss: 0.4894 - accuracy: 0.7895 - val_loss: 0.5364 - val_accuracy: 0.7578\n",
      "Epoch 27/150\n",
      "72/72 [==============================] - 0s 1ms/step - loss: 0.4744 - accuracy: 0.7936 - val_loss: 0.5223 - val_accuracy: 0.7812\n",
      "Epoch 28/150\n",
      "72/72 [==============================] - 0s 1ms/step - loss: 0.4755 - accuracy: 0.7933 - val_loss: 0.5286 - val_accuracy: 0.7656\n",
      "Epoch 29/150\n",
      "72/72 [==============================] - 0s 1ms/step - loss: 0.4676 - accuracy: 0.7958 - val_loss: 0.5293 - val_accuracy: 0.7891\n",
      "Epoch 30/150\n",
      "72/72 [==============================] - 0s 1ms/step - loss: 0.4556 - accuracy: 0.8049 - val_loss: 0.5430 - val_accuracy: 0.7695\n",
      "Epoch 31/150\n",
      "72/72 [==============================] - 0s 1ms/step - loss: 0.4759 - accuracy: 0.7918 - val_loss: 0.5285 - val_accuracy: 0.7852\n",
      "Epoch 32/150\n",
      "72/72 [==============================] - 0s 965us/step - loss: 0.4756 - accuracy: 0.7930 - val_loss: 0.5405 - val_accuracy: 0.7773\n",
      "Epoch 33/150\n",
      "72/72 [==============================] - 0s 1ms/step - loss: 0.4664 - accuracy: 0.7984 - val_loss: 0.5300 - val_accuracy: 0.7773\n",
      "Epoch 34/150\n",
      "72/72 [==============================] - 0s 1ms/step - loss: 0.4694 - accuracy: 0.7922 - val_loss: 0.5252 - val_accuracy: 0.7617\n",
      "Epoch 35/150\n",
      "72/72 [==============================] - 0s 1ms/step - loss: 0.4692 - accuracy: 0.7908 - val_loss: 0.5347 - val_accuracy: 0.7500\n",
      "Epoch 36/150\n",
      "72/72 [==============================] - 0s 1ms/step - loss: 0.4697 - accuracy: 0.7901 - val_loss: 0.5405 - val_accuracy: 0.7656\n",
      "Epoch 37/150\n",
      "72/72 [==============================] - 0s 1ms/step - loss: 0.4635 - accuracy: 0.8081 - val_loss: 0.5467 - val_accuracy: 0.7578\n",
      "Epoch 38/150\n",
      "72/72 [==============================] - 0s 1ms/step - loss: 0.4739 - accuracy: 0.7983 - val_loss: 0.5316 - val_accuracy: 0.7656\n",
      "Epoch 39/150\n",
      "72/72 [==============================] - 0s 843us/step - loss: 0.4601 - accuracy: 0.8187 - val_loss: 0.5539 - val_accuracy: 0.7734\n",
      "Epoch 40/150\n",
      "72/72 [==============================] - 0s 942us/step - loss: 0.4706 - accuracy: 0.8007 - val_loss: 0.5462 - val_accuracy: 0.7617\n",
      "Epoch 41/150\n",
      "72/72 [==============================] - 0s 1ms/step - loss: 0.4711 - accuracy: 0.7992 - val_loss: 0.5336 - val_accuracy: 0.7734\n",
      "Epoch 42/150\n",
      "72/72 [==============================] - 0s 1ms/step - loss: 0.4567 - accuracy: 0.8160 - val_loss: 0.5507 - val_accuracy: 0.7461\n",
      "Epoch 43/150\n",
      "72/72 [==============================] - 0s 832us/step - loss: 0.4730 - accuracy: 0.8050 - val_loss: 0.5279 - val_accuracy: 0.7539\n",
      "Epoch 44/150\n",
      "72/72 [==============================] - 0s 943us/step - loss: 0.4637 - accuracy: 0.8052 - val_loss: 0.5359 - val_accuracy: 0.7852\n",
      "Epoch 45/150\n",
      "72/72 [==============================] - 0s 1ms/step - loss: 0.4598 - accuracy: 0.8039 - val_loss: 0.5284 - val_accuracy: 0.7617\n",
      "Epoch 46/150\n",
      "72/72 [==============================] - 0s 968us/step - loss: 0.4583 - accuracy: 0.8007 - val_loss: 0.5359 - val_accuracy: 0.7617\n",
      "Epoch 47/150\n",
      "72/72 [==============================] - 0s 814us/step - loss: 0.4395 - accuracy: 0.8211 - val_loss: 0.5556 - val_accuracy: 0.7539\n",
      "Epoch 48/150\n",
      "72/72 [==============================] - 0s 1ms/step - loss: 0.4575 - accuracy: 0.7984 - val_loss: 0.5338 - val_accuracy: 0.7812\n",
      "Epoch 49/150\n",
      "72/72 [==============================] - 0s 1ms/step - loss: 0.4576 - accuracy: 0.8045 - val_loss: 0.5425 - val_accuracy: 0.7812\n",
      "Epoch 50/150\n",
      "72/72 [==============================] - 0s 907us/step - loss: 0.4700 - accuracy: 0.8039 - val_loss: 0.5510 - val_accuracy: 0.7812\n",
      "Epoch 51/150\n",
      "72/72 [==============================] - 0s 1ms/step - loss: 0.4647 - accuracy: 0.7983 - val_loss: 0.5673 - val_accuracy: 0.7734\n",
      "Epoch 52/150\n",
      "72/72 [==============================] - 0s 1ms/step - loss: 0.4575 - accuracy: 0.8082 - val_loss: 0.5393 - val_accuracy: 0.7656\n",
      "Epoch 53/150\n",
      "72/72 [==============================] - 0s 1ms/step - loss: 0.4665 - accuracy: 0.8050 - val_loss: 0.5453 - val_accuracy: 0.8047\n",
      "Epoch 54/150\n",
      "72/72 [==============================] - 0s 980us/step - loss: 0.4500 - accuracy: 0.8164 - val_loss: 0.5264 - val_accuracy: 0.7734\n",
      "Epoch 55/150\n",
      "72/72 [==============================] - 0s 1ms/step - loss: 0.4602 - accuracy: 0.8019 - val_loss: 0.5553 - val_accuracy: 0.7539\n",
      "Epoch 56/150\n",
      "72/72 [==============================] - 0s 1ms/step - loss: 0.4422 - accuracy: 0.8224 - val_loss: 0.5494 - val_accuracy: 0.7734\n",
      "Epoch 57/150\n",
      "72/72 [==============================] - 0s 908us/step - loss: 0.4400 - accuracy: 0.8142 - val_loss: 0.5505 - val_accuracy: 0.7812\n",
      "Epoch 58/150\n"
     ]
    },
    {
     "name": "stdout",
     "output_type": "stream",
     "text": [
      "72/72 [==============================] - 0s 1ms/step - loss: 0.4556 - accuracy: 0.8178 - val_loss: 0.5377 - val_accuracy: 0.7656\n",
      "Epoch 59/150\n",
      "72/72 [==============================] - 0s 873us/step - loss: 0.4363 - accuracy: 0.8199 - val_loss: 0.5612 - val_accuracy: 0.7773\n",
      "Epoch 60/150\n",
      "72/72 [==============================] - 0s 979us/step - loss: 0.4580 - accuracy: 0.8048 - val_loss: 0.5455 - val_accuracy: 0.7578\n",
      "Epoch 61/150\n",
      "72/72 [==============================] - 0s 896us/step - loss: 0.4594 - accuracy: 0.7903 - val_loss: 0.5425 - val_accuracy: 0.7852\n",
      "Epoch 62/150\n",
      "72/72 [==============================] - 0s 795us/step - loss: 0.4515 - accuracy: 0.8081 - val_loss: 0.5403 - val_accuracy: 0.7734\n",
      "Epoch 63/150\n",
      "72/72 [==============================] - 0s 941us/step - loss: 0.4551 - accuracy: 0.8097 - val_loss: 0.5393 - val_accuracy: 0.7617\n",
      "Epoch 64/150\n",
      "72/72 [==============================] - 0s 843us/step - loss: 0.4518 - accuracy: 0.8103 - val_loss: 0.5394 - val_accuracy: 0.7422\n",
      "Epoch 65/150\n",
      "72/72 [==============================] - 0s 1ms/step - loss: 0.4455 - accuracy: 0.8063 - val_loss: 0.5446 - val_accuracy: 0.7539\n",
      "Epoch 66/150\n",
      "72/72 [==============================] - 0s 943us/step - loss: 0.4506 - accuracy: 0.8059 - val_loss: 0.5362 - val_accuracy: 0.7695\n",
      "Epoch 67/150\n",
      "72/72 [==============================] - 0s 815us/step - loss: 0.4517 - accuracy: 0.8068 - val_loss: 0.5319 - val_accuracy: 0.7539\n",
      "Epoch 68/150\n",
      "72/72 [==============================] - 0s 954us/step - loss: 0.4560 - accuracy: 0.8099 - val_loss: 0.5445 - val_accuracy: 0.7734\n",
      "Epoch 69/150\n",
      "72/72 [==============================] - 0s 1ms/step - loss: 0.4547 - accuracy: 0.8123 - val_loss: 0.5353 - val_accuracy: 0.7891\n",
      "Epoch 70/150\n",
      "72/72 [==============================] - 0s 928us/step - loss: 0.4311 - accuracy: 0.8305 - val_loss: 0.5510 - val_accuracy: 0.7656\n",
      "Epoch 71/150\n",
      "72/72 [==============================] - 0s 1ms/step - loss: 0.4375 - accuracy: 0.8163 - val_loss: 0.5428 - val_accuracy: 0.7812\n",
      "Epoch 72/150\n",
      "72/72 [==============================] - 0s 999us/step - loss: 0.4278 - accuracy: 0.8325 - val_loss: 0.5379 - val_accuracy: 0.7695\n",
      "Epoch 73/150\n",
      "72/72 [==============================] - 0s 1ms/step - loss: 0.4319 - accuracy: 0.8119 - val_loss: 0.5440 - val_accuracy: 0.7812\n",
      "Epoch 74/150\n",
      "72/72 [==============================] - 0s 1ms/step - loss: 0.4335 - accuracy: 0.8260 - val_loss: 0.5463 - val_accuracy: 0.7695\n",
      "Epoch 75/150\n",
      "72/72 [==============================] - 0s 1ms/step - loss: 0.4308 - accuracy: 0.8293 - val_loss: 0.5663 - val_accuracy: 0.7656\n",
      "Epoch 76/150\n",
      "72/72 [==============================] - 0s 1ms/step - loss: 0.4422 - accuracy: 0.8215 - val_loss: 0.5489 - val_accuracy: 0.7969\n",
      "Epoch 77/150\n",
      "72/72 [==============================] - 0s 801us/step - loss: 0.4409 - accuracy: 0.8271 - val_loss: 0.5502 - val_accuracy: 0.7578\n",
      "Epoch 78/150\n",
      "72/72 [==============================] - 0s 985us/step - loss: 0.4197 - accuracy: 0.8326 - val_loss: 0.5562 - val_accuracy: 0.7969\n",
      "Epoch 79/150\n",
      "72/72 [==============================] - 0s 915us/step - loss: 0.4467 - accuracy: 0.8016 - val_loss: 0.5541 - val_accuracy: 0.7812\n",
      "Epoch 80/150\n",
      "72/72 [==============================] - 0s 830us/step - loss: 0.4402 - accuracy: 0.8212 - val_loss: 0.5492 - val_accuracy: 0.7617\n",
      "Epoch 81/150\n",
      "72/72 [==============================] - 0s 998us/step - loss: 0.4204 - accuracy: 0.8245 - val_loss: 0.5433 - val_accuracy: 0.8008\n",
      "Epoch 82/150\n",
      "72/72 [==============================] - 0s 999us/step - loss: 0.4375 - accuracy: 0.8236 - val_loss: 0.5684 - val_accuracy: 0.7773\n",
      "Epoch 83/150\n",
      "72/72 [==============================] - 0s 858us/step - loss: 0.4471 - accuracy: 0.8218 - val_loss: 0.5827 - val_accuracy: 0.7734\n",
      "Epoch 84/150\n",
      "72/72 [==============================] - 0s 1ms/step - loss: 0.4480 - accuracy: 0.8242 - val_loss: 0.5591 - val_accuracy: 0.7656\n",
      "Epoch 85/150\n",
      "72/72 [==============================] - 0s 970us/step - loss: 0.4330 - accuracy: 0.8231 - val_loss: 0.5651 - val_accuracy: 0.7617\n",
      "Epoch 86/150\n",
      "72/72 [==============================] - 0s 900us/step - loss: 0.4357 - accuracy: 0.8258 - val_loss: 0.5596 - val_accuracy: 0.7695\n",
      "Epoch 87/150\n",
      "72/72 [==============================] - 0s 1ms/step - loss: 0.4284 - accuracy: 0.8309 - val_loss: 0.5466 - val_accuracy: 0.7773\n",
      "Epoch 88/150\n",
      "72/72 [==============================] - 0s 928us/step - loss: 0.4263 - accuracy: 0.8253 - val_loss: 0.5596 - val_accuracy: 0.7734\n",
      "Epoch 89/150\n",
      "72/72 [==============================] - 0s 1ms/step - loss: 0.4394 - accuracy: 0.8242 - val_loss: 0.5789 - val_accuracy: 0.7578\n",
      "Epoch 90/150\n",
      "72/72 [==============================] - 0s 1ms/step - loss: 0.4292 - accuracy: 0.8369 - val_loss: 0.5922 - val_accuracy: 0.7383\n",
      "Epoch 91/150\n",
      "72/72 [==============================] - 0s 773us/step - loss: 0.4449 - accuracy: 0.8205 - val_loss: 0.5572 - val_accuracy: 0.7852\n",
      "Epoch 92/150\n",
      "72/72 [==============================] - 0s 1ms/step - loss: 0.4275 - accuracy: 0.8315 - val_loss: 0.5827 - val_accuracy: 0.7344\n",
      "Epoch 93/150\n",
      "72/72 [==============================] - 0s 955us/step - loss: 0.4457 - accuracy: 0.8177 - val_loss: 0.5797 - val_accuracy: 0.7539\n",
      "Epoch 94/150\n",
      "72/72 [==============================] - 0s 858us/step - loss: 0.4266 - accuracy: 0.8150 - val_loss: 0.5688 - val_accuracy: 0.7852\n",
      "Epoch 95/150\n",
      "72/72 [==============================] - 0s 987us/step - loss: 0.4235 - accuracy: 0.8365 - val_loss: 0.5696 - val_accuracy: 0.7734\n",
      "Epoch 96/150\n",
      "72/72 [==============================] - 0s 928us/step - loss: 0.4228 - accuracy: 0.8405 - val_loss: 0.5853 - val_accuracy: 0.7578\n",
      "Epoch 97/150\n",
      "72/72 [==============================] - 0s 843us/step - loss: 0.4280 - accuracy: 0.8252 - val_loss: 0.5732 - val_accuracy: 0.7656\n",
      "Epoch 98/150\n",
      "72/72 [==============================] - 0s 981us/step - loss: 0.4407 - accuracy: 0.8154 - val_loss: 0.5658 - val_accuracy: 0.7812\n",
      "Epoch 99/150\n",
      "72/72 [==============================] - 0s 1ms/step - loss: 0.4173 - accuracy: 0.8325 - val_loss: 0.5675 - val_accuracy: 0.7852\n",
      "Epoch 100/150\n",
      "72/72 [==============================] - 0s 1ms/step - loss: 0.4438 - accuracy: 0.8291 - val_loss: 0.5682 - val_accuracy: 0.7773\n",
      "Epoch 101/150\n",
      "72/72 [==============================] - 0s 1ms/step - loss: 0.4274 - accuracy: 0.8300 - val_loss: 0.5658 - val_accuracy: 0.7812\n",
      "Epoch 102/150\n",
      "72/72 [==============================] - 0s 872us/step - loss: 0.4353 - accuracy: 0.8316 - val_loss: 0.5912 - val_accuracy: 0.7773\n",
      "Epoch 103/150\n",
      "72/72 [==============================] - 0s 970us/step - loss: 0.4245 - accuracy: 0.8312 - val_loss: 0.5639 - val_accuracy: 0.7773\n",
      "Epoch 104/150\n",
      "72/72 [==============================] - 0s 887us/step - loss: 0.4302 - accuracy: 0.8338 - val_loss: 0.5724 - val_accuracy: 0.7852\n",
      "Epoch 105/150\n",
      "72/72 [==============================] - 0s 993us/step - loss: 0.4177 - accuracy: 0.8319 - val_loss: 0.5814 - val_accuracy: 0.7891\n",
      "Epoch 106/150\n",
      "72/72 [==============================] - 0s 913us/step - loss: 0.4451 - accuracy: 0.8226 - val_loss: 0.5722 - val_accuracy: 0.7812\n",
      "Epoch 107/150\n",
      "72/72 [==============================] - 0s 823us/step - loss: 0.4277 - accuracy: 0.8320 - val_loss: 0.6061 - val_accuracy: 0.7695\n",
      "Epoch 108/150\n",
      "72/72 [==============================] - 0s 952us/step - loss: 0.4157 - accuracy: 0.8467 - val_loss: 0.5697 - val_accuracy: 0.7773\n",
      "Epoch 109/150\n",
      "72/72 [==============================] - 0s 1ms/step - loss: 0.4318 - accuracy: 0.8337 - val_loss: 0.5925 - val_accuracy: 0.7344\n",
      "Epoch 110/150\n",
      "72/72 [==============================] - 0s 1ms/step - loss: 0.4230 - accuracy: 0.8291 - val_loss: 0.5817 - val_accuracy: 0.7812\n",
      "Epoch 111/150\n",
      "72/72 [==============================] - 0s 858us/step - loss: 0.4210 - accuracy: 0.8321 - val_loss: 0.5770 - val_accuracy: 0.7734\n",
      "Epoch 112/150\n",
      "72/72 [==============================] - 0s 1ms/step - loss: 0.4339 - accuracy: 0.8182 - val_loss: 0.5820 - val_accuracy: 0.7852\n",
      "Epoch 113/150\n",
      "72/72 [==============================] - 0s 887us/step - loss: 0.4339 - accuracy: 0.8249 - val_loss: 0.5703 - val_accuracy: 0.7891\n",
      "Epoch 114/150\n",
      "72/72 [==============================] - 0s 1ms/step - loss: 0.4204 - accuracy: 0.8378 - val_loss: 0.5938 - val_accuracy: 0.7500\n",
      "Epoch 115/150\n"
     ]
    },
    {
     "name": "stdout",
     "output_type": "stream",
     "text": [
      "72/72 [==============================] - 0s 943us/step - loss: 0.4175 - accuracy: 0.8340 - val_loss: 0.5713 - val_accuracy: 0.7969\n",
      "Epoch 116/150\n",
      "72/72 [==============================] - 0s 820us/step - loss: 0.4053 - accuracy: 0.8482 - val_loss: 0.5777 - val_accuracy: 0.7930\n",
      "Epoch 117/150\n",
      "72/72 [==============================] - 0s 956us/step - loss: 0.4077 - accuracy: 0.8431 - val_loss: 0.5766 - val_accuracy: 0.7734\n",
      "Epoch 118/150\n",
      "72/72 [==============================] - 0s 1ms/step - loss: 0.4274 - accuracy: 0.8193 - val_loss: 0.5826 - val_accuracy: 0.7969\n",
      "Epoch 119/150\n",
      "72/72 [==============================] - 0s 1ms/step - loss: 0.4307 - accuracy: 0.8315 - val_loss: 0.5812 - val_accuracy: 0.7930\n",
      "Epoch 120/150\n",
      "72/72 [==============================] - 0s 1ms/step - loss: 0.4128 - accuracy: 0.8359 - val_loss: 0.5740 - val_accuracy: 0.8047\n",
      "Epoch 121/150\n",
      "72/72 [==============================] - 0s 1ms/step - loss: 0.4066 - accuracy: 0.8457 - val_loss: 0.5929 - val_accuracy: 0.7852\n",
      "Epoch 122/150\n",
      "72/72 [==============================] - 0s 855us/step - loss: 0.4147 - accuracy: 0.8351 - val_loss: 0.5694 - val_accuracy: 0.7930\n",
      "Epoch 123/150\n",
      "72/72 [==============================] - 0s 1ms/step - loss: 0.4209 - accuracy: 0.8402 - val_loss: 0.5950 - val_accuracy: 0.7734\n",
      "Epoch 124/150\n",
      "72/72 [==============================] - 0s 1ms/step - loss: 0.4147 - accuracy: 0.8424 - val_loss: 0.5705 - val_accuracy: 0.7930\n",
      "Epoch 125/150\n",
      "72/72 [==============================] - 0s 1ms/step - loss: 0.4200 - accuracy: 0.8376 - val_loss: 0.6002 - val_accuracy: 0.7773\n",
      "Epoch 126/150\n",
      "72/72 [==============================] - 0s 1ms/step - loss: 0.4063 - accuracy: 0.8345 - val_loss: 0.5949 - val_accuracy: 0.7812\n",
      "Epoch 127/150\n",
      "72/72 [==============================] - 0s 1ms/step - loss: 0.4174 - accuracy: 0.8387 - val_loss: 0.5742 - val_accuracy: 0.8008\n",
      "Epoch 128/150\n",
      "72/72 [==============================] - 0s 1ms/step - loss: 0.4201 - accuracy: 0.8314 - val_loss: 0.6175 - val_accuracy: 0.7617\n",
      "Epoch 129/150\n",
      "72/72 [==============================] - 0s 1ms/step - loss: 0.4358 - accuracy: 0.8416 - val_loss: 0.5893 - val_accuracy: 0.7734\n",
      "Epoch 130/150\n",
      "72/72 [==============================] - 0s 1ms/step - loss: 0.4124 - accuracy: 0.8295 - val_loss: 0.5802 - val_accuracy: 0.7695\n",
      "Epoch 131/150\n",
      "72/72 [==============================] - 0s 1ms/step - loss: 0.4313 - accuracy: 0.8305 - val_loss: 0.5687 - val_accuracy: 0.7891\n",
      "Epoch 132/150\n",
      "72/72 [==============================] - 0s 2ms/step - loss: 0.4092 - accuracy: 0.8379 - val_loss: 0.6017 - val_accuracy: 0.7891\n",
      "Epoch 133/150\n",
      "72/72 [==============================] - 0s 1ms/step - loss: 0.3944 - accuracy: 0.8510 - val_loss: 0.5903 - val_accuracy: 0.7930\n",
      "Epoch 134/150\n",
      "72/72 [==============================] - 0s 872us/step - loss: 0.4065 - accuracy: 0.8467 - val_loss: 0.6027 - val_accuracy: 0.7422\n",
      "Epoch 135/150\n",
      "72/72 [==============================] - 0s 1ms/step - loss: 0.4122 - accuracy: 0.8367 - val_loss: 0.5957 - val_accuracy: 0.7578\n",
      "Epoch 136/150\n",
      "72/72 [==============================] - 0s 1ms/step - loss: 0.4130 - accuracy: 0.8483 - val_loss: 0.6006 - val_accuracy: 0.7812\n",
      "Epoch 137/150\n",
      "72/72 [==============================] - 0s 900us/step - loss: 0.4176 - accuracy: 0.8296 - val_loss: 0.5944 - val_accuracy: 0.7695\n",
      "Epoch 138/150\n",
      "72/72 [==============================] - 0s 1ms/step - loss: 0.4152 - accuracy: 0.8333 - val_loss: 0.5986 - val_accuracy: 0.7812\n",
      "Epoch 139/150\n",
      "72/72 [==============================] - 0s 886us/step - loss: 0.4170 - accuracy: 0.8397 - val_loss: 0.6058 - val_accuracy: 0.7812\n",
      "Epoch 140/150\n",
      "72/72 [==============================] - 0s 1ms/step - loss: 0.4155 - accuracy: 0.8392 - val_loss: 0.5836 - val_accuracy: 0.7773\n",
      "Epoch 141/150\n",
      "72/72 [==============================] - 0s 1ms/step - loss: 0.4070 - accuracy: 0.8527 - val_loss: 0.5924 - val_accuracy: 0.7852\n",
      "Epoch 142/150\n",
      "72/72 [==============================] - 0s 1ms/step - loss: 0.4085 - accuracy: 0.8468 - val_loss: 0.6034 - val_accuracy: 0.7734\n",
      "Epoch 143/150\n",
      "72/72 [==============================] - 0s 1ms/step - loss: 0.4162 - accuracy: 0.8404 - val_loss: 0.6052 - val_accuracy: 0.7539\n",
      "Epoch 144/150\n",
      "72/72 [==============================] - 0s 989us/step - loss: 0.4027 - accuracy: 0.8503 - val_loss: 0.5925 - val_accuracy: 0.7578\n",
      "Epoch 145/150\n",
      "72/72 [==============================] - 0s 1ms/step - loss: 0.4065 - accuracy: 0.8481 - val_loss: 0.6032 - val_accuracy: 0.7969\n",
      "Epoch 146/150\n",
      "72/72 [==============================] - 0s 816us/step - loss: 0.4331 - accuracy: 0.8239 - val_loss: 0.6102 - val_accuracy: 0.7852\n",
      "Epoch 147/150\n",
      "72/72 [==============================] - 0s 970us/step - loss: 0.4150 - accuracy: 0.8417 - val_loss: 0.5867 - val_accuracy: 0.7891\n",
      "Epoch 148/150\n",
      "72/72 [==============================] - 0s 872us/step - loss: 0.4163 - accuracy: 0.8307 - val_loss: 0.6078 - val_accuracy: 0.7969\n",
      "Epoch 149/150\n",
      "72/72 [==============================] - 0s 1ms/step - loss: 0.4064 - accuracy: 0.8441 - val_loss: 0.6015 - val_accuracy: 0.7969\n",
      "Epoch 150/150\n",
      "72/72 [==============================] - 0s 883us/step - loss: 0.4090 - accuracy: 0.8309 - val_loss: 0.6007 - val_accuracy: 0.7812\n"
     ]
    }
   ],
   "source": [
    "geo = model.fit(x_train,y_train, validation_data = (x_val,y_val), epochs = 150)"
   ]
  },
  {
   "cell_type": "code",
   "execution_count": 64,
   "metadata": {},
   "outputs": [
    {
     "data": {
      "image/png": "[encoded data removed]",
      "text/plain": [
       "<Figure size 1080x360 with 2 Axes>"
      ]
     },
     "metadata": {
      "needs_background": "light"
     },
     "output_type": "display_data"
    }
   ],
   "source": [
    "plt.figure(figsize=(15,5))\n",
    "plt.subplot(1,2,1)\n",
    "train_acc = geo.history['accuracy']\n",
    "val_acc = geo.history['val_accuracy']\n",
    "epoch = range(len(train_acc))\n",
    "plt.plot(epoch, train_acc, color ='k', label='Training_accuracy')\n",
    "plt.plot(epoch, val_acc, color = 'b', label = 'Val_accuracy')\n",
    "plt.legend(loc='best')\n",
    "plt.xlabel('Epochs', fontsize = 15)\n",
    "plt.ylabel('Accuracy', fontsize = 15)\n",
    "\n",
    "\n",
    "plt.subplot(1,2,2)\n",
    "train_loss = geo.history['loss']\n",
    "val_loss = geo.history['val_loss']\n",
    "plt.plot(epoch, train_loss, color ='k', label='Training_Loss')\n",
    "plt.plot(epoch, val_loss, color = 'b', label = 'Val_Loss')\n",
    "plt.legend(loc='best')\n",
    "plt.xlabel('Epochs', fontsize = 15)\n",
    "plt.ylabel('Loss', fontsize = 15)\n",
    "plt.show()"
   ]
  },
  {
   "cell_type": "code",
   "execution_count": 65,
   "metadata": {},
   "outputs": [
    {
     "name": "stdout",
     "output_type": "stream",
     "text": [
      "8/8 [==============================] - 0s 570us/step - loss: 0.6007 - accuracy: 0.7812\n"
     ]
    }
   ],
   "source": [
    "model = model.evaluate(x_val, y_val)"
   ]
  },
  {
   "cell_type": "markdown",
   "metadata": {},
   "source": [
    "so use SVM and Neural Network they are better for this usecase"
   ]
  },
  {
   "cell_type": "code",
   "execution_count": null,
   "metadata": {},
   "outputs": [],
   "source": []
  }
 ],
 "metadata": {
  "kernelspec": {
   "display_name": "Python 3",
   "language": "python",
   "name": "python3"
  },
  "language_info": {
   "codemirror_mode": {
    "name": "ipython",
    "version": 3
   },
   "file_extension": ".py",
   "mimetype": "text/x-python",
   "name": "python",
   "nbconvert_exporter": "python",
   "pygments_lexer": "ipython3",
   "version": "3.8.5"
  }
 },
 "nbformat": 4,
 "nbformat_minor": 4
}
